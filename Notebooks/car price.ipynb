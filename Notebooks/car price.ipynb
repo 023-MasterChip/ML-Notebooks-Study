{
 "cells": [
  {
   "cell_type": "code",
   "execution_count": 1,
   "id": "545d40b7",
   "metadata": {},
   "outputs": [],
   "source": [
    "import numpy as np                \n",
    "import pandas as pd               \n",
    "import matplotlib.pyplot as plt   \n",
    "from sklearn import metrics\n",
    "from sklearn.metrics import r2_score"
   ]
  },
  {
   "cell_type": "code",
   "execution_count": 2,
   "id": "9d242f75",
   "metadata": {
    "scrolled": true
   },
   "outputs": [
    {
     "data": {
      "text/html": [
       "<div>\n",
       "<style scoped>\n",
       "    .dataframe tbody tr th:only-of-type {\n",
       "        vertical-align: middle;\n",
       "    }\n",
       "\n",
       "    .dataframe tbody tr th {\n",
       "        vertical-align: top;\n",
       "    }\n",
       "\n",
       "    .dataframe thead th {\n",
       "        text-align: right;\n",
       "    }\n",
       "</style>\n",
       "<table border=\"1\" class=\"dataframe\">\n",
       "  <thead>\n",
       "    <tr style=\"text-align: right;\">\n",
       "      <th></th>\n",
       "      <th>v.id</th>\n",
       "      <th>on road old</th>\n",
       "      <th>on road now</th>\n",
       "      <th>years</th>\n",
       "      <th>km</th>\n",
       "      <th>rating</th>\n",
       "      <th>condition</th>\n",
       "      <th>economy</th>\n",
       "      <th>top speed</th>\n",
       "      <th>hp</th>\n",
       "      <th>torque</th>\n",
       "      <th>current price</th>\n",
       "    </tr>\n",
       "  </thead>\n",
       "  <tbody>\n",
       "    <tr>\n",
       "      <th>0</th>\n",
       "      <td>1</td>\n",
       "      <td>535651</td>\n",
       "      <td>798186</td>\n",
       "      <td>3</td>\n",
       "      <td>78945</td>\n",
       "      <td>1</td>\n",
       "      <td>2</td>\n",
       "      <td>14</td>\n",
       "      <td>177</td>\n",
       "      <td>73</td>\n",
       "      <td>123</td>\n",
       "      <td>351318.0</td>\n",
       "    </tr>\n",
       "    <tr>\n",
       "      <th>1</th>\n",
       "      <td>2</td>\n",
       "      <td>591911</td>\n",
       "      <td>861056</td>\n",
       "      <td>6</td>\n",
       "      <td>117220</td>\n",
       "      <td>5</td>\n",
       "      <td>9</td>\n",
       "      <td>9</td>\n",
       "      <td>148</td>\n",
       "      <td>74</td>\n",
       "      <td>95</td>\n",
       "      <td>285001.5</td>\n",
       "    </tr>\n",
       "    <tr>\n",
       "      <th>2</th>\n",
       "      <td>3</td>\n",
       "      <td>686990</td>\n",
       "      <td>770762</td>\n",
       "      <td>2</td>\n",
       "      <td>132538</td>\n",
       "      <td>2</td>\n",
       "      <td>8</td>\n",
       "      <td>15</td>\n",
       "      <td>181</td>\n",
       "      <td>53</td>\n",
       "      <td>97</td>\n",
       "      <td>215386.0</td>\n",
       "    </tr>\n",
       "    <tr>\n",
       "      <th>3</th>\n",
       "      <td>4</td>\n",
       "      <td>573999</td>\n",
       "      <td>722381</td>\n",
       "      <td>4</td>\n",
       "      <td>101065</td>\n",
       "      <td>4</td>\n",
       "      <td>3</td>\n",
       "      <td>11</td>\n",
       "      <td>197</td>\n",
       "      <td>54</td>\n",
       "      <td>116</td>\n",
       "      <td>244295.5</td>\n",
       "    </tr>\n",
       "    <tr>\n",
       "      <th>4</th>\n",
       "      <td>5</td>\n",
       "      <td>691388</td>\n",
       "      <td>811335</td>\n",
       "      <td>6</td>\n",
       "      <td>61559</td>\n",
       "      <td>3</td>\n",
       "      <td>9</td>\n",
       "      <td>12</td>\n",
       "      <td>160</td>\n",
       "      <td>53</td>\n",
       "      <td>105</td>\n",
       "      <td>531114.5</td>\n",
       "    </tr>\n",
       "  </tbody>\n",
       "</table>\n",
       "</div>"
      ],
      "text/plain": [
       "   v.id  on road old  on road now  years      km  rating  condition  economy  \\\n",
       "0     1       535651       798186      3   78945       1          2       14   \n",
       "1     2       591911       861056      6  117220       5          9        9   \n",
       "2     3       686990       770762      2  132538       2          8       15   \n",
       "3     4       573999       722381      4  101065       4          3       11   \n",
       "4     5       691388       811335      6   61559       3          9       12   \n",
       "\n",
       "   top speed  hp  torque  current price  \n",
       "0        177  73     123       351318.0  \n",
       "1        148  74      95       285001.5  \n",
       "2        181  53      97       215386.0  \n",
       "3        197  54     116       244295.5  \n",
       "4        160  53     105       531114.5  "
      ]
     },
     "execution_count": 2,
     "metadata": {},
     "output_type": "execute_result"
    }
   ],
   "source": [
    "data = pd.read_csv('Datasets/Car_price_ds.csv')\n",
    "data.head()"
   ]
  },
  {
   "cell_type": "code",
   "execution_count": 3,
   "id": "00abac16",
   "metadata": {},
   "outputs": [
    {
     "data": {
      "text/html": [
       "<div>\n",
       "<style scoped>\n",
       "    .dataframe tbody tr th:only-of-type {\n",
       "        vertical-align: middle;\n",
       "    }\n",
       "\n",
       "    .dataframe tbody tr th {\n",
       "        vertical-align: top;\n",
       "    }\n",
       "\n",
       "    .dataframe thead th {\n",
       "        text-align: right;\n",
       "    }\n",
       "</style>\n",
       "<table border=\"1\" class=\"dataframe\">\n",
       "  <thead>\n",
       "    <tr style=\"text-align: right;\">\n",
       "      <th></th>\n",
       "      <th>v.id</th>\n",
       "      <th>on road old</th>\n",
       "      <th>on road now</th>\n",
       "      <th>years</th>\n",
       "      <th>km</th>\n",
       "      <th>rating</th>\n",
       "      <th>condition</th>\n",
       "      <th>economy</th>\n",
       "      <th>top speed</th>\n",
       "      <th>hp</th>\n",
       "      <th>torque</th>\n",
       "      <th>current price</th>\n",
       "    </tr>\n",
       "  </thead>\n",
       "  <tbody>\n",
       "    <tr>\n",
       "      <th>v.id</th>\n",
       "      <td>1.000000</td>\n",
       "      <td>-0.029926</td>\n",
       "      <td>-0.030787</td>\n",
       "      <td>-0.034255</td>\n",
       "      <td>0.047400</td>\n",
       "      <td>-0.018263</td>\n",
       "      <td>-0.038548</td>\n",
       "      <td>0.047137</td>\n",
       "      <td>0.001613</td>\n",
       "      <td>-0.006997</td>\n",
       "      <td>-0.000632</td>\n",
       "      <td>-0.059460</td>\n",
       "    </tr>\n",
       "    <tr>\n",
       "      <th>on road old</th>\n",
       "      <td>-0.029926</td>\n",
       "      <td>1.000000</td>\n",
       "      <td>0.034113</td>\n",
       "      <td>0.007207</td>\n",
       "      <td>0.007488</td>\n",
       "      <td>-0.050717</td>\n",
       "      <td>-0.015682</td>\n",
       "      <td>-0.030097</td>\n",
       "      <td>-0.023816</td>\n",
       "      <td>-0.049266</td>\n",
       "      <td>0.008950</td>\n",
       "      <td>0.233035</td>\n",
       "    </tr>\n",
       "    <tr>\n",
       "      <th>on road now</th>\n",
       "      <td>-0.030787</td>\n",
       "      <td>0.034113</td>\n",
       "      <td>1.000000</td>\n",
       "      <td>0.004609</td>\n",
       "      <td>-0.053202</td>\n",
       "      <td>0.028280</td>\n",
       "      <td>-0.005043</td>\n",
       "      <td>-0.015880</td>\n",
       "      <td>0.012699</td>\n",
       "      <td>-0.012719</td>\n",
       "      <td>0.017955</td>\n",
       "      <td>0.282793</td>\n",
       "    </tr>\n",
       "    <tr>\n",
       "      <th>years</th>\n",
       "      <td>-0.034255</td>\n",
       "      <td>0.007207</td>\n",
       "      <td>0.004609</td>\n",
       "      <td>1.000000</td>\n",
       "      <td>-0.002089</td>\n",
       "      <td>0.027285</td>\n",
       "      <td>0.053579</td>\n",
       "      <td>0.050220</td>\n",
       "      <td>0.025148</td>\n",
       "      <td>-0.003272</td>\n",
       "      <td>0.028859</td>\n",
       "      <td>-0.011854</td>\n",
       "    </tr>\n",
       "    <tr>\n",
       "      <th>km</th>\n",
       "      <td>0.047400</td>\n",
       "      <td>0.007488</td>\n",
       "      <td>-0.053202</td>\n",
       "      <td>-0.002089</td>\n",
       "      <td>1.000000</td>\n",
       "      <td>-0.039930</td>\n",
       "      <td>-0.013640</td>\n",
       "      <td>0.032680</td>\n",
       "      <td>0.026450</td>\n",
       "      <td>-0.052918</td>\n",
       "      <td>0.013566</td>\n",
       "      <td>-0.935924</td>\n",
       "    </tr>\n",
       "    <tr>\n",
       "      <th>rating</th>\n",
       "      <td>-0.018263</td>\n",
       "      <td>-0.050717</td>\n",
       "      <td>0.028280</td>\n",
       "      <td>0.027285</td>\n",
       "      <td>-0.039930</td>\n",
       "      <td>1.000000</td>\n",
       "      <td>0.015943</td>\n",
       "      <td>-0.009757</td>\n",
       "      <td>-0.042222</td>\n",
       "      <td>-0.022623</td>\n",
       "      <td>0.004408</td>\n",
       "      <td>0.035038</td>\n",
       "    </tr>\n",
       "    <tr>\n",
       "      <th>condition</th>\n",
       "      <td>-0.038548</td>\n",
       "      <td>-0.015682</td>\n",
       "      <td>-0.005043</td>\n",
       "      <td>0.053579</td>\n",
       "      <td>-0.013640</td>\n",
       "      <td>0.015943</td>\n",
       "      <td>1.000000</td>\n",
       "      <td>0.058788</td>\n",
       "      <td>0.018472</td>\n",
       "      <td>-0.071552</td>\n",
       "      <td>0.047805</td>\n",
       "      <td>0.110108</td>\n",
       "    </tr>\n",
       "    <tr>\n",
       "      <th>economy</th>\n",
       "      <td>0.047137</td>\n",
       "      <td>-0.030097</td>\n",
       "      <td>-0.015880</td>\n",
       "      <td>0.050220</td>\n",
       "      <td>0.032680</td>\n",
       "      <td>-0.009757</td>\n",
       "      <td>0.058788</td>\n",
       "      <td>1.000000</td>\n",
       "      <td>-0.059402</td>\n",
       "      <td>-0.016782</td>\n",
       "      <td>0.041632</td>\n",
       "      <td>-0.034711</td>\n",
       "    </tr>\n",
       "    <tr>\n",
       "      <th>top speed</th>\n",
       "      <td>0.001613</td>\n",
       "      <td>-0.023816</td>\n",
       "      <td>0.012699</td>\n",
       "      <td>0.025148</td>\n",
       "      <td>0.026450</td>\n",
       "      <td>-0.042222</td>\n",
       "      <td>0.018472</td>\n",
       "      <td>-0.059402</td>\n",
       "      <td>1.000000</td>\n",
       "      <td>0.057827</td>\n",
       "      <td>-0.019697</td>\n",
       "      <td>-0.027993</td>\n",
       "    </tr>\n",
       "    <tr>\n",
       "      <th>hp</th>\n",
       "      <td>-0.006997</td>\n",
       "      <td>-0.049266</td>\n",
       "      <td>-0.012719</td>\n",
       "      <td>-0.003272</td>\n",
       "      <td>-0.052918</td>\n",
       "      <td>-0.022623</td>\n",
       "      <td>-0.071552</td>\n",
       "      <td>-0.016782</td>\n",
       "      <td>0.057827</td>\n",
       "      <td>1.000000</td>\n",
       "      <td>-0.013817</td>\n",
       "      <td>0.030238</td>\n",
       "    </tr>\n",
       "    <tr>\n",
       "      <th>torque</th>\n",
       "      <td>-0.000632</td>\n",
       "      <td>0.008950</td>\n",
       "      <td>0.017955</td>\n",
       "      <td>0.028859</td>\n",
       "      <td>0.013566</td>\n",
       "      <td>0.004408</td>\n",
       "      <td>0.047805</td>\n",
       "      <td>0.041632</td>\n",
       "      <td>-0.019697</td>\n",
       "      <td>-0.013817</td>\n",
       "      <td>1.000000</td>\n",
       "      <td>-0.002290</td>\n",
       "    </tr>\n",
       "    <tr>\n",
       "      <th>current price</th>\n",
       "      <td>-0.059460</td>\n",
       "      <td>0.233035</td>\n",
       "      <td>0.282793</td>\n",
       "      <td>-0.011854</td>\n",
       "      <td>-0.935924</td>\n",
       "      <td>0.035038</td>\n",
       "      <td>0.110108</td>\n",
       "      <td>-0.034711</td>\n",
       "      <td>-0.027993</td>\n",
       "      <td>0.030238</td>\n",
       "      <td>-0.002290</td>\n",
       "      <td>1.000000</td>\n",
       "    </tr>\n",
       "  </tbody>\n",
       "</table>\n",
       "</div>"
      ],
      "text/plain": [
       "                   v.id  on road old  on road now     years        km  \\\n",
       "v.id           1.000000    -0.029926    -0.030787 -0.034255  0.047400   \n",
       "on road old   -0.029926     1.000000     0.034113  0.007207  0.007488   \n",
       "on road now   -0.030787     0.034113     1.000000  0.004609 -0.053202   \n",
       "years         -0.034255     0.007207     0.004609  1.000000 -0.002089   \n",
       "km             0.047400     0.007488    -0.053202 -0.002089  1.000000   \n",
       "rating        -0.018263    -0.050717     0.028280  0.027285 -0.039930   \n",
       "condition     -0.038548    -0.015682    -0.005043  0.053579 -0.013640   \n",
       "economy        0.047137    -0.030097    -0.015880  0.050220  0.032680   \n",
       "top speed      0.001613    -0.023816     0.012699  0.025148  0.026450   \n",
       "hp            -0.006997    -0.049266    -0.012719 -0.003272 -0.052918   \n",
       "torque        -0.000632     0.008950     0.017955  0.028859  0.013566   \n",
       "current price -0.059460     0.233035     0.282793 -0.011854 -0.935924   \n",
       "\n",
       "                 rating  condition   economy  top speed        hp    torque  \\\n",
       "v.id          -0.018263  -0.038548  0.047137   0.001613 -0.006997 -0.000632   \n",
       "on road old   -0.050717  -0.015682 -0.030097  -0.023816 -0.049266  0.008950   \n",
       "on road now    0.028280  -0.005043 -0.015880   0.012699 -0.012719  0.017955   \n",
       "years          0.027285   0.053579  0.050220   0.025148 -0.003272  0.028859   \n",
       "km            -0.039930  -0.013640  0.032680   0.026450 -0.052918  0.013566   \n",
       "rating         1.000000   0.015943 -0.009757  -0.042222 -0.022623  0.004408   \n",
       "condition      0.015943   1.000000  0.058788   0.018472 -0.071552  0.047805   \n",
       "economy       -0.009757   0.058788  1.000000  -0.059402 -0.016782  0.041632   \n",
       "top speed     -0.042222   0.018472 -0.059402   1.000000  0.057827 -0.019697   \n",
       "hp            -0.022623  -0.071552 -0.016782   0.057827  1.000000 -0.013817   \n",
       "torque         0.004408   0.047805  0.041632  -0.019697 -0.013817  1.000000   \n",
       "current price  0.035038   0.110108 -0.034711  -0.027993  0.030238 -0.002290   \n",
       "\n",
       "               current price  \n",
       "v.id               -0.059460  \n",
       "on road old         0.233035  \n",
       "on road now         0.282793  \n",
       "years              -0.011854  \n",
       "km                 -0.935924  \n",
       "rating              0.035038  \n",
       "condition           0.110108  \n",
       "economy            -0.034711  \n",
       "top speed          -0.027993  \n",
       "hp                  0.030238  \n",
       "torque             -0.002290  \n",
       "current price       1.000000  "
      ]
     },
     "execution_count": 3,
     "metadata": {},
     "output_type": "execute_result"
    }
   ],
   "source": [
    "data.corr()"
   ]
  },
  {
   "cell_type": "code",
   "execution_count": 4,
   "id": "2b6922a6",
   "metadata": {},
   "outputs": [],
   "source": [
    "df=data.drop(['v.id'], axis = 1)"
   ]
  },
  {
   "cell_type": "code",
   "execution_count": 5,
   "id": "7c35f40a",
   "metadata": {
    "scrolled": true
   },
   "outputs": [
    {
     "data": {
      "text/html": [
       "<div>\n",
       "<style scoped>\n",
       "    .dataframe tbody tr th:only-of-type {\n",
       "        vertical-align: middle;\n",
       "    }\n",
       "\n",
       "    .dataframe tbody tr th {\n",
       "        vertical-align: top;\n",
       "    }\n",
       "\n",
       "    .dataframe thead th {\n",
       "        text-align: right;\n",
       "    }\n",
       "</style>\n",
       "<table border=\"1\" class=\"dataframe\">\n",
       "  <thead>\n",
       "    <tr style=\"text-align: right;\">\n",
       "      <th></th>\n",
       "      <th>on road old</th>\n",
       "      <th>on road now</th>\n",
       "      <th>years</th>\n",
       "      <th>km</th>\n",
       "      <th>rating</th>\n",
       "      <th>condition</th>\n",
       "      <th>economy</th>\n",
       "      <th>top speed</th>\n",
       "      <th>hp</th>\n",
       "      <th>torque</th>\n",
       "      <th>current price</th>\n",
       "    </tr>\n",
       "  </thead>\n",
       "  <tbody>\n",
       "    <tr>\n",
       "      <th>0</th>\n",
       "      <td>535651</td>\n",
       "      <td>798186</td>\n",
       "      <td>3</td>\n",
       "      <td>78945</td>\n",
       "      <td>1</td>\n",
       "      <td>2</td>\n",
       "      <td>14</td>\n",
       "      <td>177</td>\n",
       "      <td>73</td>\n",
       "      <td>123</td>\n",
       "      <td>351318.0</td>\n",
       "    </tr>\n",
       "    <tr>\n",
       "      <th>1</th>\n",
       "      <td>591911</td>\n",
       "      <td>861056</td>\n",
       "      <td>6</td>\n",
       "      <td>117220</td>\n",
       "      <td>5</td>\n",
       "      <td>9</td>\n",
       "      <td>9</td>\n",
       "      <td>148</td>\n",
       "      <td>74</td>\n",
       "      <td>95</td>\n",
       "      <td>285001.5</td>\n",
       "    </tr>\n",
       "    <tr>\n",
       "      <th>2</th>\n",
       "      <td>686990</td>\n",
       "      <td>770762</td>\n",
       "      <td>2</td>\n",
       "      <td>132538</td>\n",
       "      <td>2</td>\n",
       "      <td>8</td>\n",
       "      <td>15</td>\n",
       "      <td>181</td>\n",
       "      <td>53</td>\n",
       "      <td>97</td>\n",
       "      <td>215386.0</td>\n",
       "    </tr>\n",
       "    <tr>\n",
       "      <th>3</th>\n",
       "      <td>573999</td>\n",
       "      <td>722381</td>\n",
       "      <td>4</td>\n",
       "      <td>101065</td>\n",
       "      <td>4</td>\n",
       "      <td>3</td>\n",
       "      <td>11</td>\n",
       "      <td>197</td>\n",
       "      <td>54</td>\n",
       "      <td>116</td>\n",
       "      <td>244295.5</td>\n",
       "    </tr>\n",
       "    <tr>\n",
       "      <th>4</th>\n",
       "      <td>691388</td>\n",
       "      <td>811335</td>\n",
       "      <td>6</td>\n",
       "      <td>61559</td>\n",
       "      <td>3</td>\n",
       "      <td>9</td>\n",
       "      <td>12</td>\n",
       "      <td>160</td>\n",
       "      <td>53</td>\n",
       "      <td>105</td>\n",
       "      <td>531114.5</td>\n",
       "    </tr>\n",
       "  </tbody>\n",
       "</table>\n",
       "</div>"
      ],
      "text/plain": [
       "   on road old  on road now  years      km  rating  condition  economy  \\\n",
       "0       535651       798186      3   78945       1          2       14   \n",
       "1       591911       861056      6  117220       5          9        9   \n",
       "2       686990       770762      2  132538       2          8       15   \n",
       "3       573999       722381      4  101065       4          3       11   \n",
       "4       691388       811335      6   61559       3          9       12   \n",
       "\n",
       "   top speed  hp  torque  current price  \n",
       "0        177  73     123       351318.0  \n",
       "1        148  74      95       285001.5  \n",
       "2        181  53      97       215386.0  \n",
       "3        197  54     116       244295.5  \n",
       "4        160  53     105       531114.5  "
      ]
     },
     "execution_count": 5,
     "metadata": {},
     "output_type": "execute_result"
    }
   ],
   "source": [
    "df.head()"
   ]
  },
  {
   "cell_type": "code",
   "execution_count": 6,
   "id": "3656f379",
   "metadata": {},
   "outputs": [],
   "source": [
    "x=df.iloc[:,:-1].values   \n",
    "y=df.iloc[:,-1].values "
   ]
  },
  {
   "cell_type": "code",
   "execution_count": 7,
   "id": "b1f126c4",
   "metadata": {},
   "outputs": [],
   "source": [
    "from sklearn.model_selection import train_test_split\n",
    "\n",
    "X_train, X_test, y_train, y_test = train_test_split(x, y, test_size=0.2, random_state=0)"
   ]
  },
  {
   "cell_type": "code",
   "execution_count": 8,
   "id": "626efdc5",
   "metadata": {},
   "outputs": [],
   "source": [
    "# X_test"
   ]
  },
  {
   "cell_type": "code",
   "execution_count": 9,
   "id": "8c9f9284",
   "metadata": {},
   "outputs": [],
   "source": [
    "from sklearn.linear_model import LinearRegression"
   ]
  },
  {
   "cell_type": "code",
   "execution_count": 10,
   "id": "485d3964",
   "metadata": {},
   "outputs": [
    {
     "data": {
      "text/html": [
       "<style>#sk-container-id-1 {color: black;background-color: white;}#sk-container-id-1 pre{padding: 0;}#sk-container-id-1 div.sk-toggleable {background-color: white;}#sk-container-id-1 label.sk-toggleable__label {cursor: pointer;display: block;width: 100%;margin-bottom: 0;padding: 0.3em;box-sizing: border-box;text-align: center;}#sk-container-id-1 label.sk-toggleable__label-arrow:before {content: \"▸\";float: left;margin-right: 0.25em;color: #696969;}#sk-container-id-1 label.sk-toggleable__label-arrow:hover:before {color: black;}#sk-container-id-1 div.sk-estimator:hover label.sk-toggleable__label-arrow:before {color: black;}#sk-container-id-1 div.sk-toggleable__content {max-height: 0;max-width: 0;overflow: hidden;text-align: left;background-color: #f0f8ff;}#sk-container-id-1 div.sk-toggleable__content pre {margin: 0.2em;color: black;border-radius: 0.25em;background-color: #f0f8ff;}#sk-container-id-1 input.sk-toggleable__control:checked~div.sk-toggleable__content {max-height: 200px;max-width: 100%;overflow: auto;}#sk-container-id-1 input.sk-toggleable__control:checked~label.sk-toggleable__label-arrow:before {content: \"▾\";}#sk-container-id-1 div.sk-estimator input.sk-toggleable__control:checked~label.sk-toggleable__label {background-color: #d4ebff;}#sk-container-id-1 div.sk-label input.sk-toggleable__control:checked~label.sk-toggleable__label {background-color: #d4ebff;}#sk-container-id-1 input.sk-hidden--visually {border: 0;clip: rect(1px 1px 1px 1px);clip: rect(1px, 1px, 1px, 1px);height: 1px;margin: -1px;overflow: hidden;padding: 0;position: absolute;width: 1px;}#sk-container-id-1 div.sk-estimator {font-family: monospace;background-color: #f0f8ff;border: 1px dotted black;border-radius: 0.25em;box-sizing: border-box;margin-bottom: 0.5em;}#sk-container-id-1 div.sk-estimator:hover {background-color: #d4ebff;}#sk-container-id-1 div.sk-parallel-item::after {content: \"\";width: 100%;border-bottom: 1px solid gray;flex-grow: 1;}#sk-container-id-1 div.sk-label:hover label.sk-toggleable__label {background-color: #d4ebff;}#sk-container-id-1 div.sk-serial::before {content: \"\";position: absolute;border-left: 1px solid gray;box-sizing: border-box;top: 0;bottom: 0;left: 50%;z-index: 0;}#sk-container-id-1 div.sk-serial {display: flex;flex-direction: column;align-items: center;background-color: white;padding-right: 0.2em;padding-left: 0.2em;position: relative;}#sk-container-id-1 div.sk-item {position: relative;z-index: 1;}#sk-container-id-1 div.sk-parallel {display: flex;align-items: stretch;justify-content: center;background-color: white;position: relative;}#sk-container-id-1 div.sk-item::before, #sk-container-id-1 div.sk-parallel-item::before {content: \"\";position: absolute;border-left: 1px solid gray;box-sizing: border-box;top: 0;bottom: 0;left: 50%;z-index: -1;}#sk-container-id-1 div.sk-parallel-item {display: flex;flex-direction: column;z-index: 1;position: relative;background-color: white;}#sk-container-id-1 div.sk-parallel-item:first-child::after {align-self: flex-end;width: 50%;}#sk-container-id-1 div.sk-parallel-item:last-child::after {align-self: flex-start;width: 50%;}#sk-container-id-1 div.sk-parallel-item:only-child::after {width: 0;}#sk-container-id-1 div.sk-dashed-wrapped {border: 1px dashed gray;margin: 0 0.4em 0.5em 0.4em;box-sizing: border-box;padding-bottom: 0.4em;background-color: white;}#sk-container-id-1 div.sk-label label {font-family: monospace;font-weight: bold;display: inline-block;line-height: 1.2em;}#sk-container-id-1 div.sk-label-container {text-align: center;}#sk-container-id-1 div.sk-container {/* jupyter's `normalize.less` sets `[hidden] { display: none; }` but bootstrap.min.css set `[hidden] { display: none !important; }` so we also need the `!important` here to be able to override the default hidden behavior on the sphinx rendered scikit-learn.org. See: https://github.com/scikit-learn/scikit-learn/issues/21755 */display: inline-block !important;position: relative;}#sk-container-id-1 div.sk-text-repr-fallback {display: none;}</style><div id=\"sk-container-id-1\" class=\"sk-top-container\"><div class=\"sk-text-repr-fallback\"><pre>LinearRegression()</pre><b>In a Jupyter environment, please rerun this cell to show the HTML representation or trust the notebook. <br />On GitHub, the HTML representation is unable to render, please try loading this page with nbviewer.org.</b></div><div class=\"sk-container\" hidden><div class=\"sk-item\"><div class=\"sk-estimator sk-toggleable\"><input class=\"sk-toggleable__control sk-hidden--visually\" id=\"sk-estimator-id-1\" type=\"checkbox\" checked><label for=\"sk-estimator-id-1\" class=\"sk-toggleable__label sk-toggleable__label-arrow\">LinearRegression</label><div class=\"sk-toggleable__content\"><pre>LinearRegression()</pre></div></div></div></div></div>"
      ],
      "text/plain": [
       "LinearRegression()"
      ]
     },
     "execution_count": 10,
     "metadata": {},
     "output_type": "execute_result"
    }
   ],
   "source": [
    "regressor=LinearRegression()\n",
    "regressor"
   ]
  },
  {
   "cell_type": "code",
   "execution_count": 11,
   "id": "32860dc9",
   "metadata": {},
   "outputs": [
    {
     "data": {
      "text/html": [
       "<style>#sk-container-id-2 {color: black;background-color: white;}#sk-container-id-2 pre{padding: 0;}#sk-container-id-2 div.sk-toggleable {background-color: white;}#sk-container-id-2 label.sk-toggleable__label {cursor: pointer;display: block;width: 100%;margin-bottom: 0;padding: 0.3em;box-sizing: border-box;text-align: center;}#sk-container-id-2 label.sk-toggleable__label-arrow:before {content: \"▸\";float: left;margin-right: 0.25em;color: #696969;}#sk-container-id-2 label.sk-toggleable__label-arrow:hover:before {color: black;}#sk-container-id-2 div.sk-estimator:hover label.sk-toggleable__label-arrow:before {color: black;}#sk-container-id-2 div.sk-toggleable__content {max-height: 0;max-width: 0;overflow: hidden;text-align: left;background-color: #f0f8ff;}#sk-container-id-2 div.sk-toggleable__content pre {margin: 0.2em;color: black;border-radius: 0.25em;background-color: #f0f8ff;}#sk-container-id-2 input.sk-toggleable__control:checked~div.sk-toggleable__content {max-height: 200px;max-width: 100%;overflow: auto;}#sk-container-id-2 input.sk-toggleable__control:checked~label.sk-toggleable__label-arrow:before {content: \"▾\";}#sk-container-id-2 div.sk-estimator input.sk-toggleable__control:checked~label.sk-toggleable__label {background-color: #d4ebff;}#sk-container-id-2 div.sk-label input.sk-toggleable__control:checked~label.sk-toggleable__label {background-color: #d4ebff;}#sk-container-id-2 input.sk-hidden--visually {border: 0;clip: rect(1px 1px 1px 1px);clip: rect(1px, 1px, 1px, 1px);height: 1px;margin: -1px;overflow: hidden;padding: 0;position: absolute;width: 1px;}#sk-container-id-2 div.sk-estimator {font-family: monospace;background-color: #f0f8ff;border: 1px dotted black;border-radius: 0.25em;box-sizing: border-box;margin-bottom: 0.5em;}#sk-container-id-2 div.sk-estimator:hover {background-color: #d4ebff;}#sk-container-id-2 div.sk-parallel-item::after {content: \"\";width: 100%;border-bottom: 1px solid gray;flex-grow: 1;}#sk-container-id-2 div.sk-label:hover label.sk-toggleable__label {background-color: #d4ebff;}#sk-container-id-2 div.sk-serial::before {content: \"\";position: absolute;border-left: 1px solid gray;box-sizing: border-box;top: 0;bottom: 0;left: 50%;z-index: 0;}#sk-container-id-2 div.sk-serial {display: flex;flex-direction: column;align-items: center;background-color: white;padding-right: 0.2em;padding-left: 0.2em;position: relative;}#sk-container-id-2 div.sk-item {position: relative;z-index: 1;}#sk-container-id-2 div.sk-parallel {display: flex;align-items: stretch;justify-content: center;background-color: white;position: relative;}#sk-container-id-2 div.sk-item::before, #sk-container-id-2 div.sk-parallel-item::before {content: \"\";position: absolute;border-left: 1px solid gray;box-sizing: border-box;top: 0;bottom: 0;left: 50%;z-index: -1;}#sk-container-id-2 div.sk-parallel-item {display: flex;flex-direction: column;z-index: 1;position: relative;background-color: white;}#sk-container-id-2 div.sk-parallel-item:first-child::after {align-self: flex-end;width: 50%;}#sk-container-id-2 div.sk-parallel-item:last-child::after {align-self: flex-start;width: 50%;}#sk-container-id-2 div.sk-parallel-item:only-child::after {width: 0;}#sk-container-id-2 div.sk-dashed-wrapped {border: 1px dashed gray;margin: 0 0.4em 0.5em 0.4em;box-sizing: border-box;padding-bottom: 0.4em;background-color: white;}#sk-container-id-2 div.sk-label label {font-family: monospace;font-weight: bold;display: inline-block;line-height: 1.2em;}#sk-container-id-2 div.sk-label-container {text-align: center;}#sk-container-id-2 div.sk-container {/* jupyter's `normalize.less` sets `[hidden] { display: none; }` but bootstrap.min.css set `[hidden] { display: none !important; }` so we also need the `!important` here to be able to override the default hidden behavior on the sphinx rendered scikit-learn.org. See: https://github.com/scikit-learn/scikit-learn/issues/21755 */display: inline-block !important;position: relative;}#sk-container-id-2 div.sk-text-repr-fallback {display: none;}</style><div id=\"sk-container-id-2\" class=\"sk-top-container\"><div class=\"sk-text-repr-fallback\"><pre>LinearRegression()</pre><b>In a Jupyter environment, please rerun this cell to show the HTML representation or trust the notebook. <br />On GitHub, the HTML representation is unable to render, please try loading this page with nbviewer.org.</b></div><div class=\"sk-container\" hidden><div class=\"sk-item\"><div class=\"sk-estimator sk-toggleable\"><input class=\"sk-toggleable__control sk-hidden--visually\" id=\"sk-estimator-id-2\" type=\"checkbox\" checked><label for=\"sk-estimator-id-2\" class=\"sk-toggleable__label sk-toggleable__label-arrow\">LinearRegression</label><div class=\"sk-toggleable__content\"><pre>LinearRegression()</pre></div></div></div></div></div>"
      ],
      "text/plain": [
       "LinearRegression()"
      ]
     },
     "execution_count": 11,
     "metadata": {},
     "output_type": "execute_result"
    }
   ],
   "source": [
    "regressor.fit(X_train,y_train)"
   ]
  },
  {
   "cell_type": "code",
   "execution_count": 12,
   "id": "69ef86fe",
   "metadata": {},
   "outputs": [],
   "source": [
    "y_pred = regressor.predict(X_test)"
   ]
  },
  {
   "cell_type": "code",
   "execution_count": 13,
   "id": "103c6a56",
   "metadata": {},
   "outputs": [],
   "source": [
    "y_pred_train=regressor.predict(X_train)"
   ]
  },
  {
   "cell_type": "code",
   "execution_count": 14,
   "id": "4717f2c4",
   "metadata": {
    "scrolled": true
   },
   "outputs": [
    {
     "data": {
      "text/plain": [
       "array([298557.68544102, 382196.63064044, 112314.49371136, 182271.47006291,\n",
       "       181580.22585897, 276521.09233813, 319450.88887679, 315710.04642749,\n",
       "       193033.46034081, 356676.63341067, 326421.88904904, 111397.55565401,\n",
       "       312743.5715521 , 502159.15073431, 236572.80412122, 343180.79423615,\n",
       "       274179.57618944, 457263.87111871, 464154.08473155, 214325.05300693,\n",
       "       465634.96829351, 199568.70930606, 377020.78030087, 406134.6079072 ,\n",
       "       230599.7182449 , 306548.33282902, 372031.32162456, 349229.45954697,\n",
       "       135957.07783935, 281137.95185776, 214946.63667742, 229503.81458063,\n",
       "       247638.48845114, 277253.545356  , 319812.251985  , 193046.74533237,\n",
       "       217624.76704446, 347764.6851778 , 350912.07982176, 404605.96492259,\n",
       "       428698.78306108, 417374.76689192, 341124.42600493, 105783.88355625,\n",
       "       219900.59046101, 188772.14369596, 432301.4323941 , 172860.29618077,\n",
       "       190615.56181653, 433334.19011684, 276341.81704732, 450296.24189174,\n",
       "       105670.24941262, 223624.85967401, 268945.65241996, 341960.52358779,\n",
       "       466372.56857623, 449315.04021607, 309532.05441551, 191728.52471769,\n",
       "       385067.29855699, 174180.18679698, 281703.58996869, 292495.91484818,\n",
       "       183608.8580642 , 349394.52240417, 499181.30434376, 327677.27829448,\n",
       "       280843.6821769 , 373450.49517937, 299213.69378118, 535011.08381233,\n",
       "       155723.58637267, 494975.94437737, 312492.49451127, 128504.80623071,\n",
       "       161596.33386388, 324284.53278369, 436407.23031129, 456710.96603732,\n",
       "       344578.79130347, 434017.96584387, 107709.51366573, 518779.17807462,\n",
       "       468498.8701974 ,  54731.58743164, 301410.87971528, 287394.60278734,\n",
       "       238308.52951867, 218358.25177676, 301505.19937523, 453961.22142343,\n",
       "        75434.25500833, 266250.64991502, 140995.57988937, 183288.03307911,\n",
       "       482974.87618294, 490920.50998561, 214969.52308206,  70264.14435197,\n",
       "       103369.24096052, 196331.3334519 , 212086.80884899, 262251.13235798,\n",
       "       297636.20808142, 274182.48353565, 104762.10354295, 172554.42607082,\n",
       "       354413.297462  , 579949.08528925, 130606.43652913, 273472.96086723,\n",
       "        92176.12599168, 234727.13509533, 349403.67061884, 392593.79798346,\n",
       "       251291.87043725, 243681.81970469, 431551.57159945, 277734.31627536,\n",
       "       141227.67504483, 207960.54898764,  97918.06567619, 408949.888831  ,\n",
       "       259382.66196251,  97095.73814224, 408825.87242297, 170027.47236366,\n",
       "       361576.0716532 , 328342.91338142, 463049.74743198, 299133.77986108,\n",
       "       293672.48992976, 149031.38349767, 467456.79389239, 502226.15328661,\n",
       "       398992.69532283, 473214.17959034, 303347.90174658, 285435.45893673,\n",
       "       354830.96993513, 247188.32730991, 437189.16957166, 175566.7267    ,\n",
       "       177330.85731695, 115314.62859   , 210865.12749782, 436161.72151762,\n",
       "       239923.97482471, 312637.54846435, 353148.99157437, 358175.2281305 ,\n",
       "       168217.48096834, 379409.94409525, 326990.82752869, 409959.30849161,\n",
       "       484086.54783035, 257614.52018964, 170317.8381937 , 278231.23307028,\n",
       "       235026.86572116, 211102.58142384, 465778.83616651, 129679.97296851,\n",
       "       228930.81901176, 364896.69917713, 559253.25119525, 138557.51567351,\n",
       "       406610.94672587, 513790.1281661 , 245159.93564267, 183014.38932125,\n",
       "       489210.98440727, 230221.4856353 , 203150.68297466, 396489.18933717,\n",
       "       323258.40436772, 296173.01514799, 304948.51613569, 312195.61878059,\n",
       "       455550.12068669, 406508.55507585, 112124.71672557, 464620.03658046,\n",
       "       446350.42411383, 122824.92144139, 272537.6679077 , 452553.53587731,\n",
       "       368615.16859017, 169727.94752788, 427390.03058238, 350997.15776018,\n",
       "       323367.75227806, 175785.18557814, 338315.15207073, 283746.99643527,\n",
       "       298009.89757677, 315560.16610568, 303002.09864731, 388539.35371715])"
      ]
     },
     "execution_count": 14,
     "metadata": {},
     "output_type": "execute_result"
    }
   ],
   "source": [
    "# y_pred"
   ]
  },
  {
   "cell_type": "code",
   "execution_count": 15,
   "id": "0beda162",
   "metadata": {
    "scrolled": true
   },
   "outputs": [
    {
     "data": {
      "text/plain": [
       "array([307255. , 380928.5, 121022. , 174352.5, 190949. , 283248. ,\n",
       "       322684. , 309449. , 182219.5, 352345. , 318858. , 102144.5,\n",
       "       307770.5, 490000.5, 232718.5, 360008. , 265194. , 464634.5,\n",
       "       474281.5, 206591. , 459914.5, 207552. , 392864. , 423507. ,\n",
       "       239923. , 301042.5, 389925.5, 349762. , 156513. , 285001.5,\n",
       "       208573.5, 232826.5, 239018. , 274172. , 328863. , 187050. ,\n",
       "       233987. , 360737.5, 354722. , 404800.5, 420075.5, 419748. ,\n",
       "       331263.5,  97526. , 208468. , 192576. , 424290. , 163225. ,\n",
       "       187009. , 451140.5, 267953.5, 458463.5,  94467.5, 216327. ,\n",
       "       274650. , 349780. , 458139. , 441865. , 311109. , 184092.5,\n",
       "       376267.5, 165595. , 272437.5, 304923.5, 188131.5, 344820.5,\n",
       "       492681.5, 328973.5, 286937.5, 371227. , 292520.5, 538075.5,\n",
       "       146223. , 483663.5, 312469. , 126957.5, 153375.5, 316652. ,\n",
       "       452931. , 469084.5, 348000. , 441863.5,  98489.5, 515722.5,\n",
       "       467395. ,  65467.5, 296829. , 287675. , 240353.5, 212546.5,\n",
       "       299655. , 448106.5,  74863. , 257565.5, 140884. , 174399. ,\n",
       "       474562.5, 498418. , 206836.5,  69231.5,  98254. , 205716.5,\n",
       "       203811.5, 272816.5, 304104.5, 273728. , 110359.5, 165741.5,\n",
       "       356189. , 584116.5, 119387. , 264084.5,  97969. , 229110. ,\n",
       "       340165. , 385556.5, 253037. , 244229. , 443423. , 275757. ,\n",
       "       134035. , 197714.5, 109367. , 401745. , 258300. ,  90220. ,\n",
       "       406349.5, 169125.5, 353237. , 344539. , 456653.5, 315925. ,\n",
       "       305589. , 141833.5, 470373. , 502519. , 403213.5, 462397.5,\n",
       "       299019.5, 283435.5, 357294. , 247277.5, 430451.5, 175012.5,\n",
       "       178642.5, 112604. , 201188.5, 429837.5, 242173.5, 317119. ,\n",
       "       344495. , 347784.5, 183833.5, 379991. , 324899.5, 418871.5,\n",
       "       479896. , 260801. , 157874. , 273659.5, 231291.5, 209639. ,\n",
       "       456154.5, 140796.5, 229749.5, 360410. , 553855. , 150074. ,\n",
       "       410403.5, 506401. , 242709.5, 186388.5, 483884. , 245810. ,\n",
       "       197430.5, 401500. , 316827.5, 291776.5, 297625. , 306745.5,\n",
       "       467074.5, 414938.5, 122843.5, 459686.5, 441104. , 129863. ,\n",
       "       273707. , 456840.5, 377706.5, 158951.5, 420102.5, 354900. ,\n",
       "       320008. , 177933.5, 341076. , 276430. , 305002.5, 317168.5,\n",
       "       295021. , 392635.5])"
      ]
     },
     "execution_count": 15,
     "metadata": {},
     "output_type": "execute_result"
    }
   ],
   "source": [
    "# y_test"
   ]
  },
  {
   "cell_type": "code",
   "execution_count": 16,
   "id": "4e571fbd",
   "metadata": {},
   "outputs": [
    {
     "name": "stdout",
     "output_type": "stream",
     "text": [
      "Mean Absolute Error: 6689.88045334888\n",
      "Mean Squared Error: 62256022.32890125\n",
      "Root Mean Squared Error: 7890.248559386533\n"
     ]
    }
   ],
   "source": [
    "print('Mean Absolute Error:',metrics.mean_absolute_error(y_test,y_pred))\n",
    "print('Mean Squared Error:',metrics.mean_squared_error(y_test,y_pred))\n",
    "print('Root Mean Squared Error:',np.sqrt(metrics.mean_squared_error(y_test,y_pred)))"
   ]
  },
  {
   "cell_type": "code",
   "execution_count": 17,
   "id": "00cc21fd",
   "metadata": {},
   "outputs": [
    {
     "name": "stdout",
     "output_type": "stream",
     "text": [
      "Predicted price :  [657544.28032714]\n"
     ]
    }
   ],
   "source": [
    "Xnew = [[654000, 761050, 5, 12657, 3, 4, 18, 193, 64, 112]]\n",
    "\n",
    "ynew = regressor.predict(Xnew)\n",
    "\n",
    "print(\"Predicted price : \",ynew)"
   ]
  },
  {
   "cell_type": "code",
   "execution_count": 18,
   "id": "1f83f05f",
   "metadata": {},
   "outputs": [
    {
     "data": {
      "text/plain": [
       "<matplotlib.collections.PathCollection at 0x202cec70910>"
      ]
     },
     "execution_count": 18,
     "metadata": {},
     "output_type": "execute_result"
    },
    {
     "data": {
      "image/png": "[encoded data removed]",
      "text/plain": [
       "<Figure size 640x480 with 1 Axes>"
      ]
     },
     "metadata": {},
     "output_type": "display_data"
    }
   ],
   "source": [
    "plt.scatter(y_pred,y_test)"
   ]
  },
  {
   "cell_type": "code",
   "execution_count": 19,
   "id": "31ef08a2",
   "metadata": {},
   "outputs": [
    {
     "name": "stdout",
     "output_type": "stream",
     "text": [
      "Accuracy :  0.9955621292249252\n"
     ]
    }
   ],
   "source": [
    "print(\"Accuracy : \", r2_score(y_test, y_pred))"
   ]
  }
 ],
 "metadata": {
  "kernelspec": {
   "display_name": "Python 3 (ipykernel)",
   "language": "python",
   "name": "python3"
  },
  "language_info": {
   "codemirror_mode": {
    "name": "ipython",
    "version": 3
   },
   "file_extension": ".py",
   "mimetype": "text/x-python",
   "name": "python",
   "nbconvert_exporter": "python",
   "pygments_lexer": "ipython3",
   "version": "3.9.0"
  }
 },
 "nbformat": 4,
 "nbformat_minor": 5
}
