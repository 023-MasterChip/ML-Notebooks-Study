{
 "cells": [
  {
   "cell_type": "code",
   "execution_count": 1,
   "id": "4cc7c66f",
   "metadata": {},
   "outputs": [],
   "source": [
    "import pandas as pd\n",
    "\n",
    "import seaborn as sns\n",
    "\n",
    "import numpy as np\n",
    "\n",
    "import matplotlib.pyplot as plt\n",
    "\n",
    "import warnings\n",
    "\n",
    "from sklearn import metrics\n",
    "\n",
    "from sklearn.preprocessing import StandardScaler\n",
    "\n",
    "from sklearn.cluster import KMeans\n",
    "\n",
    "from sklearn.model_selection import train_test_split\n",
    "\n",
    "from sklearn.linear_model import LogisticRegression\n",
    "\n",
    "from sklearn.metrics import accuracy_score, r2_score, silhouette_score"
   ]
  },
  {
   "cell_type": "code",
   "execution_count": 2,
   "id": "07eac81c",
   "metadata": {},
   "outputs": [],
   "source": [
    "dataset = pd.read_csv('Datasets/Football_ds.csv')"
   ]
  },
  {
   "cell_type": "code",
   "execution_count": 3,
   "id": "ea52186a",
   "metadata": {},
   "outputs": [
    {
     "data": {
      "text/html": [
       "<div>\n",
       "<style scoped>\n",
       "    .dataframe tbody tr th:only-of-type {\n",
       "        vertical-align: middle;\n",
       "    }\n",
       "\n",
       "    .dataframe tbody tr th {\n",
       "        vertical-align: top;\n",
       "    }\n",
       "\n",
       "    .dataframe thead th {\n",
       "        text-align: right;\n",
       "    }\n",
       "</style>\n",
       "<table border=\"1\" class=\"dataframe\">\n",
       "  <thead>\n",
       "    <tr style=\"text-align: right;\">\n",
       "      <th></th>\n",
       "      <th>Team</th>\n",
       "      <th>Tournament</th>\n",
       "      <th>Goals</th>\n",
       "      <th>Shots pg</th>\n",
       "      <th>yellow_cards</th>\n",
       "      <th>red_cards</th>\n",
       "      <th>Possession%</th>\n",
       "      <th>Pass%</th>\n",
       "      <th>AerialsWon</th>\n",
       "      <th>Rating</th>\n",
       "    </tr>\n",
       "  </thead>\n",
       "  <tbody>\n",
       "    <tr>\n",
       "      <th>0</th>\n",
       "      <td>Manchester City</td>\n",
       "      <td>Premier League</td>\n",
       "      <td>83</td>\n",
       "      <td>15.8</td>\n",
       "      <td>46</td>\n",
       "      <td>2</td>\n",
       "      <td>60.8</td>\n",
       "      <td>89.4</td>\n",
       "      <td>12.8</td>\n",
       "      <td>7.01</td>\n",
       "    </tr>\n",
       "    <tr>\n",
       "      <th>1</th>\n",
       "      <td>Bayern Munich</td>\n",
       "      <td>Bundesliga</td>\n",
       "      <td>99</td>\n",
       "      <td>17.1</td>\n",
       "      <td>44</td>\n",
       "      <td>3</td>\n",
       "      <td>58.1</td>\n",
       "      <td>85.5</td>\n",
       "      <td>12.9</td>\n",
       "      <td>6.95</td>\n",
       "    </tr>\n",
       "    <tr>\n",
       "      <th>2</th>\n",
       "      <td>Paris Saint-Germain</td>\n",
       "      <td>Ligue 1</td>\n",
       "      <td>86</td>\n",
       "      <td>15.0</td>\n",
       "      <td>73</td>\n",
       "      <td>7</td>\n",
       "      <td>60.1</td>\n",
       "      <td>89.5</td>\n",
       "      <td>9.5</td>\n",
       "      <td>6.88</td>\n",
       "    </tr>\n",
       "    <tr>\n",
       "      <th>3</th>\n",
       "      <td>Barcelona</td>\n",
       "      <td>LaLiga</td>\n",
       "      <td>85</td>\n",
       "      <td>15.3</td>\n",
       "      <td>68</td>\n",
       "      <td>2</td>\n",
       "      <td>62.4</td>\n",
       "      <td>89.7</td>\n",
       "      <td>10.6</td>\n",
       "      <td>6.87</td>\n",
       "    </tr>\n",
       "    <tr>\n",
       "      <th>4</th>\n",
       "      <td>Real Madrid</td>\n",
       "      <td>LaLiga</td>\n",
       "      <td>67</td>\n",
       "      <td>14.4</td>\n",
       "      <td>57</td>\n",
       "      <td>2</td>\n",
       "      <td>57.7</td>\n",
       "      <td>87.7</td>\n",
       "      <td>11.8</td>\n",
       "      <td>6.86</td>\n",
       "    </tr>\n",
       "  </tbody>\n",
       "</table>\n",
       "</div>"
      ],
      "text/plain": [
       "                  Team      Tournament  Goals  Shots pg  yellow_cards  \\\n",
       "0      Manchester City  Premier League     83      15.8            46   \n",
       "1        Bayern Munich      Bundesliga     99      17.1            44   \n",
       "2  Paris Saint-Germain         Ligue 1     86      15.0            73   \n",
       "3            Barcelona          LaLiga     85      15.3            68   \n",
       "4          Real Madrid          LaLiga     67      14.4            57   \n",
       "\n",
       "   red_cards  Possession%  Pass%  AerialsWon  Rating  \n",
       "0          2         60.8   89.4        12.8    7.01  \n",
       "1          3         58.1   85.5        12.9    6.95  \n",
       "2          7         60.1   89.5         9.5    6.88  \n",
       "3          2         62.4   89.7        10.6    6.87  \n",
       "4          2         57.7   87.7        11.8    6.86  "
      ]
     },
     "execution_count": 3,
     "metadata": {},
     "output_type": "execute_result"
    }
   ],
   "source": [
    "dataset.head()"
   ]
  },
  {
   "cell_type": "code",
   "execution_count": 4,
   "id": "4ff273c4",
   "metadata": {},
   "outputs": [
    {
     "name": "stderr",
     "output_type": "stream",
     "text": [
      "C:\\Users\\Admin\\AppData\\Local\\Temp\\ipykernel_16928\\2191645083.py:1: FutureWarning: The default value of numeric_only in DataFrame.corr is deprecated. In a future version, it will default to False. Select only valid columns or specify the value of numeric_only to silence this warning.\n",
      "  dataset.corr()\n"
     ]
    },
    {
     "data": {
      "text/html": [
       "<div>\n",
       "<style scoped>\n",
       "    .dataframe tbody tr th:only-of-type {\n",
       "        vertical-align: middle;\n",
       "    }\n",
       "\n",
       "    .dataframe tbody tr th {\n",
       "        vertical-align: top;\n",
       "    }\n",
       "\n",
       "    .dataframe thead th {\n",
       "        text-align: right;\n",
       "    }\n",
       "</style>\n",
       "<table border=\"1\" class=\"dataframe\">\n",
       "  <thead>\n",
       "    <tr style=\"text-align: right;\">\n",
       "      <th></th>\n",
       "      <th>Goals</th>\n",
       "      <th>Shots pg</th>\n",
       "      <th>yellow_cards</th>\n",
       "      <th>red_cards</th>\n",
       "      <th>Possession%</th>\n",
       "      <th>Pass%</th>\n",
       "      <th>AerialsWon</th>\n",
       "      <th>Rating</th>\n",
       "    </tr>\n",
       "  </thead>\n",
       "  <tbody>\n",
       "    <tr>\n",
       "      <th>Goals</th>\n",
       "      <td>1.000000</td>\n",
       "      <td>0.829698</td>\n",
       "      <td>-0.189157</td>\n",
       "      <td>-0.001185</td>\n",
       "      <td>0.717834</td>\n",
       "      <td>0.694214</td>\n",
       "      <td>-0.495579</td>\n",
       "      <td>0.852152</td>\n",
       "    </tr>\n",
       "    <tr>\n",
       "      <th>Shots pg</th>\n",
       "      <td>0.829698</td>\n",
       "      <td>1.000000</td>\n",
       "      <td>-0.369343</td>\n",
       "      <td>-0.105080</td>\n",
       "      <td>0.759153</td>\n",
       "      <td>0.684035</td>\n",
       "      <td>-0.382147</td>\n",
       "      <td>0.851265</td>\n",
       "    </tr>\n",
       "    <tr>\n",
       "      <th>yellow_cards</th>\n",
       "      <td>-0.189157</td>\n",
       "      <td>-0.369343</td>\n",
       "      <td>1.000000</td>\n",
       "      <td>0.368847</td>\n",
       "      <td>-0.164302</td>\n",
       "      <td>-0.184238</td>\n",
       "      <td>0.060116</td>\n",
       "      <td>-0.417049</td>\n",
       "    </tr>\n",
       "    <tr>\n",
       "      <th>red_cards</th>\n",
       "      <td>-0.001185</td>\n",
       "      <td>-0.105080</td>\n",
       "      <td>0.368847</td>\n",
       "      <td>1.000000</td>\n",
       "      <td>-0.083360</td>\n",
       "      <td>-0.043761</td>\n",
       "      <td>-0.031791</td>\n",
       "      <td>-0.162358</td>\n",
       "    </tr>\n",
       "    <tr>\n",
       "      <th>Possession%</th>\n",
       "      <td>0.717834</td>\n",
       "      <td>0.759153</td>\n",
       "      <td>-0.164302</td>\n",
       "      <td>-0.083360</td>\n",
       "      <td>1.000000</td>\n",
       "      <td>0.851458</td>\n",
       "      <td>-0.543970</td>\n",
       "      <td>0.734978</td>\n",
       "    </tr>\n",
       "    <tr>\n",
       "      <th>Pass%</th>\n",
       "      <td>0.694214</td>\n",
       "      <td>0.684035</td>\n",
       "      <td>-0.184238</td>\n",
       "      <td>-0.043761</td>\n",
       "      <td>0.851458</td>\n",
       "      <td>1.000000</td>\n",
       "      <td>-0.764788</td>\n",
       "      <td>0.668573</td>\n",
       "    </tr>\n",
       "    <tr>\n",
       "      <th>AerialsWon</th>\n",
       "      <td>-0.495579</td>\n",
       "      <td>-0.382147</td>\n",
       "      <td>0.060116</td>\n",
       "      <td>-0.031791</td>\n",
       "      <td>-0.543970</td>\n",
       "      <td>-0.764788</td>\n",
       "      <td>1.000000</td>\n",
       "      <td>-0.327225</td>\n",
       "    </tr>\n",
       "    <tr>\n",
       "      <th>Rating</th>\n",
       "      <td>0.852152</td>\n",
       "      <td>0.851265</td>\n",
       "      <td>-0.417049</td>\n",
       "      <td>-0.162358</td>\n",
       "      <td>0.734978</td>\n",
       "      <td>0.668573</td>\n",
       "      <td>-0.327225</td>\n",
       "      <td>1.000000</td>\n",
       "    </tr>\n",
       "  </tbody>\n",
       "</table>\n",
       "</div>"
      ],
      "text/plain": [
       "                 Goals  Shots pg  yellow_cards  red_cards  Possession%  \\\n",
       "Goals         1.000000  0.829698     -0.189157  -0.001185     0.717834   \n",
       "Shots pg      0.829698  1.000000     -0.369343  -0.105080     0.759153   \n",
       "yellow_cards -0.189157 -0.369343      1.000000   0.368847    -0.164302   \n",
       "red_cards    -0.001185 -0.105080      0.368847   1.000000    -0.083360   \n",
       "Possession%   0.717834  0.759153     -0.164302  -0.083360     1.000000   \n",
       "Pass%         0.694214  0.684035     -0.184238  -0.043761     0.851458   \n",
       "AerialsWon   -0.495579 -0.382147      0.060116  -0.031791    -0.543970   \n",
       "Rating        0.852152  0.851265     -0.417049  -0.162358     0.734978   \n",
       "\n",
       "                 Pass%  AerialsWon    Rating  \n",
       "Goals         0.694214   -0.495579  0.852152  \n",
       "Shots pg      0.684035   -0.382147  0.851265  \n",
       "yellow_cards -0.184238    0.060116 -0.417049  \n",
       "red_cards    -0.043761   -0.031791 -0.162358  \n",
       "Possession%   0.851458   -0.543970  0.734978  \n",
       "Pass%         1.000000   -0.764788  0.668573  \n",
       "AerialsWon   -0.764788    1.000000 -0.327225  \n",
       "Rating        0.668573   -0.327225  1.000000  "
      ]
     },
     "execution_count": 4,
     "metadata": {},
     "output_type": "execute_result"
    }
   ],
   "source": [
    "dataset.corr()"
   ]
  },
  {
   "cell_type": "code",
   "execution_count": 5,
   "id": "4a197f3e",
   "metadata": {},
   "outputs": [
    {
     "data": {
      "text/html": [
       "<div>\n",
       "<style scoped>\n",
       "    .dataframe tbody tr th:only-of-type {\n",
       "        vertical-align: middle;\n",
       "    }\n",
       "\n",
       "    .dataframe tbody tr th {\n",
       "        vertical-align: top;\n",
       "    }\n",
       "\n",
       "    .dataframe thead th {\n",
       "        text-align: right;\n",
       "    }\n",
       "</style>\n",
       "<table border=\"1\" class=\"dataframe\">\n",
       "  <thead>\n",
       "    <tr style=\"text-align: right;\">\n",
       "      <th></th>\n",
       "      <th>Goals</th>\n",
       "      <th>Shots pg</th>\n",
       "      <th>yellow_cards</th>\n",
       "      <th>red_cards</th>\n",
       "      <th>Possession%</th>\n",
       "      <th>Pass%</th>\n",
       "      <th>AerialsWon</th>\n",
       "      <th>Rating</th>\n",
       "    </tr>\n",
       "  </thead>\n",
       "  <tbody>\n",
       "    <tr>\n",
       "      <th>count</th>\n",
       "      <td>98.000000</td>\n",
       "      <td>98.000000</td>\n",
       "      <td>98.000000</td>\n",
       "      <td>98.000000</td>\n",
       "      <td>98.000000</td>\n",
       "      <td>98.000000</td>\n",
       "      <td>98.000000</td>\n",
       "      <td>98.000000</td>\n",
       "    </tr>\n",
       "    <tr>\n",
       "      <th>mean</th>\n",
       "      <td>52.183673</td>\n",
       "      <td>11.851020</td>\n",
       "      <td>69.704082</td>\n",
       "      <td>3.336735</td>\n",
       "      <td>49.995918</td>\n",
       "      <td>80.441837</td>\n",
       "      <td>16.006122</td>\n",
       "      <td>6.646122</td>\n",
       "    </tr>\n",
       "    <tr>\n",
       "      <th>std</th>\n",
       "      <td>16.445691</td>\n",
       "      <td>2.149718</td>\n",
       "      <td>15.137316</td>\n",
       "      <td>2.148814</td>\n",
       "      <td>4.890068</td>\n",
       "      <td>4.690172</td>\n",
       "      <td>3.078955</td>\n",
       "      <td>0.132148</td>\n",
       "    </tr>\n",
       "    <tr>\n",
       "      <th>min</th>\n",
       "      <td>20.000000</td>\n",
       "      <td>7.100000</td>\n",
       "      <td>40.000000</td>\n",
       "      <td>0.000000</td>\n",
       "      <td>38.500000</td>\n",
       "      <td>66.500000</td>\n",
       "      <td>9.500000</td>\n",
       "      <td>6.410000</td>\n",
       "    </tr>\n",
       "    <tr>\n",
       "      <th>25%</th>\n",
       "      <td>40.250000</td>\n",
       "      <td>10.325000</td>\n",
       "      <td>60.000000</td>\n",
       "      <td>2.000000</td>\n",
       "      <td>46.225000</td>\n",
       "      <td>78.025000</td>\n",
       "      <td>14.025000</td>\n",
       "      <td>6.540000</td>\n",
       "    </tr>\n",
       "    <tr>\n",
       "      <th>50%</th>\n",
       "      <td>50.000000</td>\n",
       "      <td>11.450000</td>\n",
       "      <td>67.500000</td>\n",
       "      <td>3.000000</td>\n",
       "      <td>49.750000</td>\n",
       "      <td>80.800000</td>\n",
       "      <td>16.100000</td>\n",
       "      <td>6.630000</td>\n",
       "    </tr>\n",
       "    <tr>\n",
       "      <th>75%</th>\n",
       "      <td>61.750000</td>\n",
       "      <td>13.350000</td>\n",
       "      <td>80.000000</td>\n",
       "      <td>4.750000</td>\n",
       "      <td>52.850000</td>\n",
       "      <td>83.450000</td>\n",
       "      <td>17.850000</td>\n",
       "      <td>6.730000</td>\n",
       "    </tr>\n",
       "    <tr>\n",
       "      <th>max</th>\n",
       "      <td>99.000000</td>\n",
       "      <td>17.100000</td>\n",
       "      <td>117.000000</td>\n",
       "      <td>10.000000</td>\n",
       "      <td>62.400000</td>\n",
       "      <td>89.700000</td>\n",
       "      <td>26.800000</td>\n",
       "      <td>7.010000</td>\n",
       "    </tr>\n",
       "  </tbody>\n",
       "</table>\n",
       "</div>"
      ],
      "text/plain": [
       "           Goals   Shots pg  yellow_cards  red_cards  Possession%      Pass%  \\\n",
       "count  98.000000  98.000000     98.000000  98.000000    98.000000  98.000000   \n",
       "mean   52.183673  11.851020     69.704082   3.336735    49.995918  80.441837   \n",
       "std    16.445691   2.149718     15.137316   2.148814     4.890068   4.690172   \n",
       "min    20.000000   7.100000     40.000000   0.000000    38.500000  66.500000   \n",
       "25%    40.250000  10.325000     60.000000   2.000000    46.225000  78.025000   \n",
       "50%    50.000000  11.450000     67.500000   3.000000    49.750000  80.800000   \n",
       "75%    61.750000  13.350000     80.000000   4.750000    52.850000  83.450000   \n",
       "max    99.000000  17.100000    117.000000  10.000000    62.400000  89.700000   \n",
       "\n",
       "       AerialsWon     Rating  \n",
       "count   98.000000  98.000000  \n",
       "mean    16.006122   6.646122  \n",
       "std      3.078955   0.132148  \n",
       "min      9.500000   6.410000  \n",
       "25%     14.025000   6.540000  \n",
       "50%     16.100000   6.630000  \n",
       "75%     17.850000   6.730000  \n",
       "max     26.800000   7.010000  "
      ]
     },
     "execution_count": 5,
     "metadata": {},
     "output_type": "execute_result"
    }
   ],
   "source": [
    "dataset.describe()"
   ]
  },
  {
   "cell_type": "code",
   "execution_count": 6,
   "id": "f163435f",
   "metadata": {},
   "outputs": [
    {
     "name": "stdout",
     "output_type": "stream",
     "text": [
      "<class 'pandas.core.frame.DataFrame'>\n",
      "RangeIndex: 98 entries, 0 to 97\n",
      "Data columns (total 10 columns):\n",
      " #   Column        Non-Null Count  Dtype  \n",
      "---  ------        --------------  -----  \n",
      " 0   Team          98 non-null     object \n",
      " 1   Tournament    98 non-null     object \n",
      " 2   Goals         98 non-null     int64  \n",
      " 3   Shots pg      98 non-null     float64\n",
      " 4   yellow_cards  98 non-null     int64  \n",
      " 5   red_cards     98 non-null     int64  \n",
      " 6   Possession%   98 non-null     float64\n",
      " 7   Pass%         98 non-null     float64\n",
      " 8   AerialsWon    98 non-null     float64\n",
      " 9   Rating        98 non-null     float64\n",
      "dtypes: float64(5), int64(3), object(2)\n",
      "memory usage: 7.8+ KB\n"
     ]
    }
   ],
   "source": [
    "dataset.info()"
   ]
  },
  {
   "cell_type": "code",
   "execution_count": 7,
   "id": "47c63c13",
   "metadata": {},
   "outputs": [
    {
     "data": {
      "text/plain": [
       "(98, 10)"
      ]
     },
     "execution_count": 7,
     "metadata": {},
     "output_type": "execute_result"
    }
   ],
   "source": [
    "dataset.shape"
   ]
  },
  {
   "cell_type": "code",
   "execution_count": 8,
   "id": "f9daace2",
   "metadata": {},
   "outputs": [
    {
     "data": {
      "text/plain": [
       "<Axes: xlabel='Tournament', ylabel='count'>"
      ]
     },
     "execution_count": 8,
     "metadata": {},
     "output_type": "execute_result"
    },
    {
     "data": {
      "image/png": "[encoded data removed]",
      "text/plain": [
       "<Figure size 640x480 with 1 Axes>"
      ]
     },
     "metadata": {},
     "output_type": "display_data"
    }
   ],
   "source": [
    "sns.countplot(x = 'Tournament', data=dataset, order = dataset['Tournament'].value_counts().index)"
   ]
  },
  {
   "cell_type": "code",
   "execution_count": 9,
   "id": "95b76df7",
   "metadata": {},
   "outputs": [],
   "source": [
    "# dataset['Age'] = dataset['Age'].astype(int)\n",
    "dreg = dataset"
   ]
  },
  {
   "cell_type": "code",
   "execution_count": 10,
   "id": "8fefb11b",
   "metadata": {},
   "outputs": [
    {
     "data": {
      "text/html": [
       "<div>\n",
       "<style scoped>\n",
       "    .dataframe tbody tr th:only-of-type {\n",
       "        vertical-align: middle;\n",
       "    }\n",
       "\n",
       "    .dataframe tbody tr th {\n",
       "        vertical-align: top;\n",
       "    }\n",
       "\n",
       "    .dataframe thead th {\n",
       "        text-align: right;\n",
       "    }\n",
       "</style>\n",
       "<table border=\"1\" class=\"dataframe\">\n",
       "  <thead>\n",
       "    <tr style=\"text-align: right;\">\n",
       "      <th></th>\n",
       "      <th>Team</th>\n",
       "      <th>Tournament</th>\n",
       "      <th>Goals</th>\n",
       "      <th>Shots pg</th>\n",
       "      <th>yellow_cards</th>\n",
       "      <th>red_cards</th>\n",
       "      <th>Possession%</th>\n",
       "      <th>Pass%</th>\n",
       "      <th>AerialsWon</th>\n",
       "      <th>Rating</th>\n",
       "    </tr>\n",
       "  </thead>\n",
       "  <tbody>\n",
       "    <tr>\n",
       "      <th>0</th>\n",
       "      <td>Manchester City</td>\n",
       "      <td>Premier League</td>\n",
       "      <td>83</td>\n",
       "      <td>15.8</td>\n",
       "      <td>46</td>\n",
       "      <td>2</td>\n",
       "      <td>60.8</td>\n",
       "      <td>89.4</td>\n",
       "      <td>12.8</td>\n",
       "      <td>7.01</td>\n",
       "    </tr>\n",
       "    <tr>\n",
       "      <th>1</th>\n",
       "      <td>Bayern Munich</td>\n",
       "      <td>Bundesliga</td>\n",
       "      <td>99</td>\n",
       "      <td>17.1</td>\n",
       "      <td>44</td>\n",
       "      <td>3</td>\n",
       "      <td>58.1</td>\n",
       "      <td>85.5</td>\n",
       "      <td>12.9</td>\n",
       "      <td>6.95</td>\n",
       "    </tr>\n",
       "    <tr>\n",
       "      <th>2</th>\n",
       "      <td>Paris Saint-Germain</td>\n",
       "      <td>Ligue 1</td>\n",
       "      <td>86</td>\n",
       "      <td>15.0</td>\n",
       "      <td>73</td>\n",
       "      <td>7</td>\n",
       "      <td>60.1</td>\n",
       "      <td>89.5</td>\n",
       "      <td>9.5</td>\n",
       "      <td>6.88</td>\n",
       "    </tr>\n",
       "    <tr>\n",
       "      <th>3</th>\n",
       "      <td>Barcelona</td>\n",
       "      <td>LaLiga</td>\n",
       "      <td>85</td>\n",
       "      <td>15.3</td>\n",
       "      <td>68</td>\n",
       "      <td>2</td>\n",
       "      <td>62.4</td>\n",
       "      <td>89.7</td>\n",
       "      <td>10.6</td>\n",
       "      <td>6.87</td>\n",
       "    </tr>\n",
       "    <tr>\n",
       "      <th>4</th>\n",
       "      <td>Real Madrid</td>\n",
       "      <td>LaLiga</td>\n",
       "      <td>67</td>\n",
       "      <td>14.4</td>\n",
       "      <td>57</td>\n",
       "      <td>2</td>\n",
       "      <td>57.7</td>\n",
       "      <td>87.7</td>\n",
       "      <td>11.8</td>\n",
       "      <td>6.86</td>\n",
       "    </tr>\n",
       "  </tbody>\n",
       "</table>\n",
       "</div>"
      ],
      "text/plain": [
       "                  Team      Tournament  Goals  Shots pg  yellow_cards  \\\n",
       "0      Manchester City  Premier League     83      15.8            46   \n",
       "1        Bayern Munich      Bundesliga     99      17.1            44   \n",
       "2  Paris Saint-Germain         Ligue 1     86      15.0            73   \n",
       "3            Barcelona          LaLiga     85      15.3            68   \n",
       "4          Real Madrid          LaLiga     67      14.4            57   \n",
       "\n",
       "   red_cards  Possession%  Pass%  AerialsWon  Rating  \n",
       "0          2         60.8   89.4        12.8    7.01  \n",
       "1          3         58.1   85.5        12.9    6.95  \n",
       "2          7         60.1   89.5         9.5    6.88  \n",
       "3          2         62.4   89.7        10.6    6.87  \n",
       "4          2         57.7   87.7        11.8    6.86  "
      ]
     },
     "execution_count": 10,
     "metadata": {},
     "output_type": "execute_result"
    }
   ],
   "source": [
    "dreg.head()"
   ]
  },
  {
   "cell_type": "code",
   "execution_count": 11,
   "id": "2fc5f64b",
   "metadata": {},
   "outputs": [],
   "source": [
    "dreg = dreg.drop(['Team', 'Tournament'], axis=1)"
   ]
  },
  {
   "cell_type": "code",
   "execution_count": 12,
   "id": "7699385f",
   "metadata": {},
   "outputs": [
    {
     "data": {
      "text/html": [
       "<div>\n",
       "<style scoped>\n",
       "    .dataframe tbody tr th:only-of-type {\n",
       "        vertical-align: middle;\n",
       "    }\n",
       "\n",
       "    .dataframe tbody tr th {\n",
       "        vertical-align: top;\n",
       "    }\n",
       "\n",
       "    .dataframe thead th {\n",
       "        text-align: right;\n",
       "    }\n",
       "</style>\n",
       "<table border=\"1\" class=\"dataframe\">\n",
       "  <thead>\n",
       "    <tr style=\"text-align: right;\">\n",
       "      <th></th>\n",
       "      <th>Goals</th>\n",
       "      <th>Shots pg</th>\n",
       "      <th>yellow_cards</th>\n",
       "      <th>red_cards</th>\n",
       "      <th>Possession%</th>\n",
       "      <th>Pass%</th>\n",
       "      <th>AerialsWon</th>\n",
       "      <th>Rating</th>\n",
       "    </tr>\n",
       "  </thead>\n",
       "  <tbody>\n",
       "    <tr>\n",
       "      <th>0</th>\n",
       "      <td>83</td>\n",
       "      <td>15.8</td>\n",
       "      <td>46</td>\n",
       "      <td>2</td>\n",
       "      <td>60.8</td>\n",
       "      <td>89.4</td>\n",
       "      <td>12.8</td>\n",
       "      <td>7.01</td>\n",
       "    </tr>\n",
       "    <tr>\n",
       "      <th>1</th>\n",
       "      <td>99</td>\n",
       "      <td>17.1</td>\n",
       "      <td>44</td>\n",
       "      <td>3</td>\n",
       "      <td>58.1</td>\n",
       "      <td>85.5</td>\n",
       "      <td>12.9</td>\n",
       "      <td>6.95</td>\n",
       "    </tr>\n",
       "    <tr>\n",
       "      <th>2</th>\n",
       "      <td>86</td>\n",
       "      <td>15.0</td>\n",
       "      <td>73</td>\n",
       "      <td>7</td>\n",
       "      <td>60.1</td>\n",
       "      <td>89.5</td>\n",
       "      <td>9.5</td>\n",
       "      <td>6.88</td>\n",
       "    </tr>\n",
       "    <tr>\n",
       "      <th>3</th>\n",
       "      <td>85</td>\n",
       "      <td>15.3</td>\n",
       "      <td>68</td>\n",
       "      <td>2</td>\n",
       "      <td>62.4</td>\n",
       "      <td>89.7</td>\n",
       "      <td>10.6</td>\n",
       "      <td>6.87</td>\n",
       "    </tr>\n",
       "    <tr>\n",
       "      <th>4</th>\n",
       "      <td>67</td>\n",
       "      <td>14.4</td>\n",
       "      <td>57</td>\n",
       "      <td>2</td>\n",
       "      <td>57.7</td>\n",
       "      <td>87.7</td>\n",
       "      <td>11.8</td>\n",
       "      <td>6.86</td>\n",
       "    </tr>\n",
       "  </tbody>\n",
       "</table>\n",
       "</div>"
      ],
      "text/plain": [
       "   Goals  Shots pg  yellow_cards  red_cards  Possession%  Pass%  AerialsWon  \\\n",
       "0     83      15.8            46          2         60.8   89.4        12.8   \n",
       "1     99      17.1            44          3         58.1   85.5        12.9   \n",
       "2     86      15.0            73          7         60.1   89.5         9.5   \n",
       "3     85      15.3            68          2         62.4   89.7        10.6   \n",
       "4     67      14.4            57          2         57.7   87.7        11.8   \n",
       "\n",
       "   Rating  \n",
       "0    7.01  \n",
       "1    6.95  \n",
       "2    6.88  \n",
       "3    6.87  \n",
       "4    6.86  "
      ]
     },
     "execution_count": 12,
     "metadata": {},
     "output_type": "execute_result"
    }
   ],
   "source": [
    "dreg.head()"
   ]
  },
  {
   "cell_type": "code",
   "execution_count": 13,
   "id": "91a631d9",
   "metadata": {},
   "outputs": [
    {
     "data": {
      "text/plain": [
       "Goals           0\n",
       "Shots pg        0\n",
       "yellow_cards    0\n",
       "red_cards       0\n",
       "Possession%     0\n",
       "Pass%           0\n",
       "AerialsWon      0\n",
       "Rating          0\n",
       "dtype: int64"
      ]
     },
     "execution_count": 13,
     "metadata": {},
     "output_type": "execute_result"
    }
   ],
   "source": [
    "dreg.isnull().sum()"
   ]
  },
  {
   "cell_type": "code",
   "execution_count": 14,
   "id": "7fee1dd9",
   "metadata": {},
   "outputs": [],
   "source": [
    "x = dreg.iloc[:,:-1].values\n",
    "y = dreg.iloc[:,-1].values"
   ]
  },
  {
   "cell_type": "code",
   "execution_count": 15,
   "id": "487c5d27",
   "metadata": {},
   "outputs": [],
   "source": [
    "x_train, x_test, y_train, y_test = train_test_split(x, y, test_size = 0.3, random_state = 1)"
   ]
  },
  {
   "cell_type": "code",
   "execution_count": 16,
   "id": "50385ec2",
   "metadata": {},
   "outputs": [
    {
     "name": "stdout",
     "output_type": "stream",
     "text": [
      "x_train:  (68, 7)\n",
      "y_train:  (68,)\n",
      "x_test:  (30, 7)\n",
      "y_test:  (30,)\n"
     ]
    }
   ],
   "source": [
    "print(\"x_train: \",x_train.shape)\n",
    "print(\"y_train: \",y_train.shape)\n",
    "print(\"x_test: \",x_test.shape)\n",
    "print(\"y_test: \",y_test.shape)"
   ]
  },
  {
   "cell_type": "code",
   "execution_count": 17,
   "id": "d495f77f",
   "metadata": {},
   "outputs": [],
   "source": [
    "from sklearn.linear_model import LinearRegression"
   ]
  },
  {
   "cell_type": "code",
   "execution_count": 18,
   "id": "f4d3910b",
   "metadata": {},
   "outputs": [],
   "source": [
    "model_reg=LinearRegression()"
   ]
  },
  {
   "cell_type": "code",
   "execution_count": 19,
   "id": "652012db",
   "metadata": {},
   "outputs": [
    {
     "data": {
      "text/html": [
       "<style>#sk-container-id-1 {color: black;background-color: white;}#sk-container-id-1 pre{padding: 0;}#sk-container-id-1 div.sk-toggleable {background-color: white;}#sk-container-id-1 label.sk-toggleable__label {cursor: pointer;display: block;width: 100%;margin-bottom: 0;padding: 0.3em;box-sizing: border-box;text-align: center;}#sk-container-id-1 label.sk-toggleable__label-arrow:before {content: \"▸\";float: left;margin-right: 0.25em;color: #696969;}#sk-container-id-1 label.sk-toggleable__label-arrow:hover:before {color: black;}#sk-container-id-1 div.sk-estimator:hover label.sk-toggleable__label-arrow:before {color: black;}#sk-container-id-1 div.sk-toggleable__content {max-height: 0;max-width: 0;overflow: hidden;text-align: left;background-color: #f0f8ff;}#sk-container-id-1 div.sk-toggleable__content pre {margin: 0.2em;color: black;border-radius: 0.25em;background-color: #f0f8ff;}#sk-container-id-1 input.sk-toggleable__control:checked~div.sk-toggleable__content {max-height: 200px;max-width: 100%;overflow: auto;}#sk-container-id-1 input.sk-toggleable__control:checked~label.sk-toggleable__label-arrow:before {content: \"▾\";}#sk-container-id-1 div.sk-estimator input.sk-toggleable__control:checked~label.sk-toggleable__label {background-color: #d4ebff;}#sk-container-id-1 div.sk-label input.sk-toggleable__control:checked~label.sk-toggleable__label {background-color: #d4ebff;}#sk-container-id-1 input.sk-hidden--visually {border: 0;clip: rect(1px 1px 1px 1px);clip: rect(1px, 1px, 1px, 1px);height: 1px;margin: -1px;overflow: hidden;padding: 0;position: absolute;width: 1px;}#sk-container-id-1 div.sk-estimator {font-family: monospace;background-color: #f0f8ff;border: 1px dotted black;border-radius: 0.25em;box-sizing: border-box;margin-bottom: 0.5em;}#sk-container-id-1 div.sk-estimator:hover {background-color: #d4ebff;}#sk-container-id-1 div.sk-parallel-item::after {content: \"\";width: 100%;border-bottom: 1px solid gray;flex-grow: 1;}#sk-container-id-1 div.sk-label:hover label.sk-toggleable__label {background-color: #d4ebff;}#sk-container-id-1 div.sk-serial::before {content: \"\";position: absolute;border-left: 1px solid gray;box-sizing: border-box;top: 0;bottom: 0;left: 50%;z-index: 0;}#sk-container-id-1 div.sk-serial {display: flex;flex-direction: column;align-items: center;background-color: white;padding-right: 0.2em;padding-left: 0.2em;position: relative;}#sk-container-id-1 div.sk-item {position: relative;z-index: 1;}#sk-container-id-1 div.sk-parallel {display: flex;align-items: stretch;justify-content: center;background-color: white;position: relative;}#sk-container-id-1 div.sk-item::before, #sk-container-id-1 div.sk-parallel-item::before {content: \"\";position: absolute;border-left: 1px solid gray;box-sizing: border-box;top: 0;bottom: 0;left: 50%;z-index: -1;}#sk-container-id-1 div.sk-parallel-item {display: flex;flex-direction: column;z-index: 1;position: relative;background-color: white;}#sk-container-id-1 div.sk-parallel-item:first-child::after {align-self: flex-end;width: 50%;}#sk-container-id-1 div.sk-parallel-item:last-child::after {align-self: flex-start;width: 50%;}#sk-container-id-1 div.sk-parallel-item:only-child::after {width: 0;}#sk-container-id-1 div.sk-dashed-wrapped {border: 1px dashed gray;margin: 0 0.4em 0.5em 0.4em;box-sizing: border-box;padding-bottom: 0.4em;background-color: white;}#sk-container-id-1 div.sk-label label {font-family: monospace;font-weight: bold;display: inline-block;line-height: 1.2em;}#sk-container-id-1 div.sk-label-container {text-align: center;}#sk-container-id-1 div.sk-container {/* jupyter's `normalize.less` sets `[hidden] { display: none; }` but bootstrap.min.css set `[hidden] { display: none !important; }` so we also need the `!important` here to be able to override the default hidden behavior on the sphinx rendered scikit-learn.org. See: https://github.com/scikit-learn/scikit-learn/issues/21755 */display: inline-block !important;position: relative;}#sk-container-id-1 div.sk-text-repr-fallback {display: none;}</style><div id=\"sk-container-id-1\" class=\"sk-top-container\"><div class=\"sk-text-repr-fallback\"><pre>LinearRegression()</pre><b>In a Jupyter environment, please rerun this cell to show the HTML representation or trust the notebook. <br />On GitHub, the HTML representation is unable to render, please try loading this page with nbviewer.org.</b></div><div class=\"sk-container\" hidden><div class=\"sk-item\"><div class=\"sk-estimator sk-toggleable\"><input class=\"sk-toggleable__control sk-hidden--visually\" id=\"sk-estimator-id-1\" type=\"checkbox\" checked><label for=\"sk-estimator-id-1\" class=\"sk-toggleable__label sk-toggleable__label-arrow\">LinearRegression</label><div class=\"sk-toggleable__content\"><pre>LinearRegression()</pre></div></div></div></div></div>"
      ],
      "text/plain": [
       "LinearRegression()"
      ]
     },
     "execution_count": 19,
     "metadata": {},
     "output_type": "execute_result"
    }
   ],
   "source": [
    "model_reg.fit(x_train,y_train)"
   ]
  },
  {
   "cell_type": "code",
   "execution_count": 20,
   "id": "e3bc6b9f",
   "metadata": {},
   "outputs": [],
   "source": [
    "y_pred = model_reg.predict(x_test)"
   ]
  },
  {
   "cell_type": "code",
   "execution_count": 21,
   "id": "e926f632",
   "metadata": {},
   "outputs": [],
   "source": [
    "y_pred_train = model_reg.predict(x_train)"
   ]
  },
  {
   "cell_type": "code",
   "execution_count": 22,
   "id": "1151f73d",
   "metadata": {},
   "outputs": [],
   "source": [
    "# y_pred"
   ]
  },
  {
   "cell_type": "code",
   "execution_count": 23,
   "id": "a8d26808",
   "metadata": {},
   "outputs": [],
   "source": [
    "# y_test"
   ]
  },
  {
   "cell_type": "code",
   "execution_count": 24,
   "id": "5d8ff4ce",
   "metadata": {},
   "outputs": [
    {
     "name": "stdout",
     "output_type": "stream",
     "text": [
      "Mean Absolute Error: 0.03441109151537045\n",
      "Mean Squared Error: 0.0019137463339912605\n",
      "Root Mean Squared Error: 0.04374638652496067\n"
     ]
    }
   ],
   "source": [
    "print('Mean Absolute Error:',metrics.mean_absolute_error(y_test,y_pred))\n",
    "print('Mean Squared Error:',metrics.mean_squared_error(y_test,y_pred))\n",
    "print('Root Mean Squared Error:',np.sqrt(metrics.mean_squared_error(y_test,y_pred)))"
   ]
  },
  {
   "cell_type": "code",
   "execution_count": 25,
   "id": "62eca9a6",
   "metadata": {},
   "outputs": [
    {
     "name": "stdout",
     "output_type": "stream",
     "text": [
      "Accuracy :  0.8342981123881962\n"
     ]
    }
   ],
   "source": [
    "print(\"Accuracy : \", r2_score(y_test, y_pred))"
   ]
  },
  {
   "cell_type": "code",
   "execution_count": 26,
   "id": "5c86871d",
   "metadata": {},
   "outputs": [
    {
     "name": "stdout",
     "output_type": "stream",
     "text": [
      "Predicted Rating :  [6.85515616]\n"
     ]
    }
   ],
   "source": [
    "Xnew = [[92, 16.3, 70, 8, 62, 83.4, 10]]\n",
    "\n",
    "ynew = model_reg.predict(Xnew)\n",
    "\n",
    "print(\"Predicted Rating : \",ynew)"
   ]
  },
  {
   "cell_type": "code",
   "execution_count": 27,
   "id": "2c458c50",
   "metadata": {},
   "outputs": [
    {
     "data": {
      "text/plain": [
       "<matplotlib.collections.PathCollection at 0x250295546d0>"
      ]
     },
     "execution_count": 27,
     "metadata": {},
     "output_type": "execute_result"
    },
    {
     "data": {
      "image/png": "[encoded data removed]",
      "text/plain": [
       "<Figure size 640x480 with 1 Axes>"
      ]
     },
     "metadata": {},
     "output_type": "display_data"
    }
   ],
   "source": [
    "plt.scatter(y_pred,y_test)"
   ]
  },
  {
   "cell_type": "code",
   "execution_count": 28,
   "id": "de66ab67",
   "metadata": {},
   "outputs": [],
   "source": [
    "dclas = dataset"
   ]
  },
  {
   "cell_type": "code",
   "execution_count": 29,
   "id": "9789e3cb",
   "metadata": {},
   "outputs": [
    {
     "data": {
      "text/html": [
       "<div>\n",
       "<style scoped>\n",
       "    .dataframe tbody tr th:only-of-type {\n",
       "        vertical-align: middle;\n",
       "    }\n",
       "\n",
       "    .dataframe tbody tr th {\n",
       "        vertical-align: top;\n",
       "    }\n",
       "\n",
       "    .dataframe thead th {\n",
       "        text-align: right;\n",
       "    }\n",
       "</style>\n",
       "<table border=\"1\" class=\"dataframe\">\n",
       "  <thead>\n",
       "    <tr style=\"text-align: right;\">\n",
       "      <th></th>\n",
       "      <th>Team</th>\n",
       "      <th>Tournament</th>\n",
       "      <th>Goals</th>\n",
       "      <th>Shots pg</th>\n",
       "      <th>yellow_cards</th>\n",
       "      <th>red_cards</th>\n",
       "      <th>Possession%</th>\n",
       "      <th>Pass%</th>\n",
       "      <th>AerialsWon</th>\n",
       "      <th>Rating</th>\n",
       "    </tr>\n",
       "  </thead>\n",
       "  <tbody>\n",
       "    <tr>\n",
       "      <th>0</th>\n",
       "      <td>Manchester City</td>\n",
       "      <td>Premier League</td>\n",
       "      <td>83</td>\n",
       "      <td>15.8</td>\n",
       "      <td>46</td>\n",
       "      <td>2</td>\n",
       "      <td>60.8</td>\n",
       "      <td>89.4</td>\n",
       "      <td>12.8</td>\n",
       "      <td>7.01</td>\n",
       "    </tr>\n",
       "    <tr>\n",
       "      <th>1</th>\n",
       "      <td>Bayern Munich</td>\n",
       "      <td>Bundesliga</td>\n",
       "      <td>99</td>\n",
       "      <td>17.1</td>\n",
       "      <td>44</td>\n",
       "      <td>3</td>\n",
       "      <td>58.1</td>\n",
       "      <td>85.5</td>\n",
       "      <td>12.9</td>\n",
       "      <td>6.95</td>\n",
       "    </tr>\n",
       "    <tr>\n",
       "      <th>2</th>\n",
       "      <td>Paris Saint-Germain</td>\n",
       "      <td>Ligue 1</td>\n",
       "      <td>86</td>\n",
       "      <td>15.0</td>\n",
       "      <td>73</td>\n",
       "      <td>7</td>\n",
       "      <td>60.1</td>\n",
       "      <td>89.5</td>\n",
       "      <td>9.5</td>\n",
       "      <td>6.88</td>\n",
       "    </tr>\n",
       "    <tr>\n",
       "      <th>3</th>\n",
       "      <td>Barcelona</td>\n",
       "      <td>LaLiga</td>\n",
       "      <td>85</td>\n",
       "      <td>15.3</td>\n",
       "      <td>68</td>\n",
       "      <td>2</td>\n",
       "      <td>62.4</td>\n",
       "      <td>89.7</td>\n",
       "      <td>10.6</td>\n",
       "      <td>6.87</td>\n",
       "    </tr>\n",
       "    <tr>\n",
       "      <th>4</th>\n",
       "      <td>Real Madrid</td>\n",
       "      <td>LaLiga</td>\n",
       "      <td>67</td>\n",
       "      <td>14.4</td>\n",
       "      <td>57</td>\n",
       "      <td>2</td>\n",
       "      <td>57.7</td>\n",
       "      <td>87.7</td>\n",
       "      <td>11.8</td>\n",
       "      <td>6.86</td>\n",
       "    </tr>\n",
       "  </tbody>\n",
       "</table>\n",
       "</div>"
      ],
      "text/plain": [
       "                  Team      Tournament  Goals  Shots pg  yellow_cards  \\\n",
       "0      Manchester City  Premier League     83      15.8            46   \n",
       "1        Bayern Munich      Bundesliga     99      17.1            44   \n",
       "2  Paris Saint-Germain         Ligue 1     86      15.0            73   \n",
       "3            Barcelona          LaLiga     85      15.3            68   \n",
       "4          Real Madrid          LaLiga     67      14.4            57   \n",
       "\n",
       "   red_cards  Possession%  Pass%  AerialsWon  Rating  \n",
       "0          2         60.8   89.4        12.8    7.01  \n",
       "1          3         58.1   85.5        12.9    6.95  \n",
       "2          7         60.1   89.5         9.5    6.88  \n",
       "3          2         62.4   89.7        10.6    6.87  \n",
       "4          2         57.7   87.7        11.8    6.86  "
      ]
     },
     "execution_count": 29,
     "metadata": {},
     "output_type": "execute_result"
    }
   ],
   "source": [
    "dclas.head()"
   ]
  },
  {
   "cell_type": "code",
   "execution_count": 30,
   "id": "c3cc0d34",
   "metadata": {},
   "outputs": [],
   "source": [
    "dclas = dclas.drop(['Team'], axis = 1)"
   ]
  },
  {
   "cell_type": "code",
   "execution_count": 31,
   "id": "b5eafd6e",
   "metadata": {},
   "outputs": [
    {
     "data": {
      "text/html": [
       "<div>\n",
       "<style scoped>\n",
       "    .dataframe tbody tr th:only-of-type {\n",
       "        vertical-align: middle;\n",
       "    }\n",
       "\n",
       "    .dataframe tbody tr th {\n",
       "        vertical-align: top;\n",
       "    }\n",
       "\n",
       "    .dataframe thead th {\n",
       "        text-align: right;\n",
       "    }\n",
       "</style>\n",
       "<table border=\"1\" class=\"dataframe\">\n",
       "  <thead>\n",
       "    <tr style=\"text-align: right;\">\n",
       "      <th></th>\n",
       "      <th>Tournament</th>\n",
       "      <th>Goals</th>\n",
       "      <th>Shots pg</th>\n",
       "      <th>yellow_cards</th>\n",
       "      <th>red_cards</th>\n",
       "      <th>Possession%</th>\n",
       "      <th>Pass%</th>\n",
       "      <th>AerialsWon</th>\n",
       "      <th>Rating</th>\n",
       "    </tr>\n",
       "  </thead>\n",
       "  <tbody>\n",
       "    <tr>\n",
       "      <th>0</th>\n",
       "      <td>Premier League</td>\n",
       "      <td>83</td>\n",
       "      <td>15.8</td>\n",
       "      <td>46</td>\n",
       "      <td>2</td>\n",
       "      <td>60.8</td>\n",
       "      <td>89.4</td>\n",
       "      <td>12.8</td>\n",
       "      <td>7.01</td>\n",
       "    </tr>\n",
       "    <tr>\n",
       "      <th>1</th>\n",
       "      <td>Bundesliga</td>\n",
       "      <td>99</td>\n",
       "      <td>17.1</td>\n",
       "      <td>44</td>\n",
       "      <td>3</td>\n",
       "      <td>58.1</td>\n",
       "      <td>85.5</td>\n",
       "      <td>12.9</td>\n",
       "      <td>6.95</td>\n",
       "    </tr>\n",
       "    <tr>\n",
       "      <th>2</th>\n",
       "      <td>Ligue 1</td>\n",
       "      <td>86</td>\n",
       "      <td>15.0</td>\n",
       "      <td>73</td>\n",
       "      <td>7</td>\n",
       "      <td>60.1</td>\n",
       "      <td>89.5</td>\n",
       "      <td>9.5</td>\n",
       "      <td>6.88</td>\n",
       "    </tr>\n",
       "    <tr>\n",
       "      <th>3</th>\n",
       "      <td>LaLiga</td>\n",
       "      <td>85</td>\n",
       "      <td>15.3</td>\n",
       "      <td>68</td>\n",
       "      <td>2</td>\n",
       "      <td>62.4</td>\n",
       "      <td>89.7</td>\n",
       "      <td>10.6</td>\n",
       "      <td>6.87</td>\n",
       "    </tr>\n",
       "    <tr>\n",
       "      <th>4</th>\n",
       "      <td>LaLiga</td>\n",
       "      <td>67</td>\n",
       "      <td>14.4</td>\n",
       "      <td>57</td>\n",
       "      <td>2</td>\n",
       "      <td>57.7</td>\n",
       "      <td>87.7</td>\n",
       "      <td>11.8</td>\n",
       "      <td>6.86</td>\n",
       "    </tr>\n",
       "  </tbody>\n",
       "</table>\n",
       "</div>"
      ],
      "text/plain": [
       "       Tournament  Goals  Shots pg  yellow_cards  red_cards  Possession%  \\\n",
       "0  Premier League     83      15.8            46          2         60.8   \n",
       "1      Bundesliga     99      17.1            44          3         58.1   \n",
       "2         Ligue 1     86      15.0            73          7         60.1   \n",
       "3          LaLiga     85      15.3            68          2         62.4   \n",
       "4          LaLiga     67      14.4            57          2         57.7   \n",
       "\n",
       "   Pass%  AerialsWon  Rating  \n",
       "0   89.4        12.8    7.01  \n",
       "1   85.5        12.9    6.95  \n",
       "2   89.5         9.5    6.88  \n",
       "3   89.7        10.6    6.87  \n",
       "4   87.7        11.8    6.86  "
      ]
     },
     "execution_count": 31,
     "metadata": {},
     "output_type": "execute_result"
    }
   ],
   "source": [
    "dclas.head()"
   ]
  },
  {
   "cell_type": "code",
   "execution_count": 32,
   "id": "38a4caef",
   "metadata": {},
   "outputs": [
    {
     "data": {
      "text/plain": [
       "Tournament      0\n",
       "Goals           0\n",
       "Shots pg        0\n",
       "yellow_cards    0\n",
       "red_cards       0\n",
       "Possession%     0\n",
       "Pass%           0\n",
       "AerialsWon      0\n",
       "Rating          0\n",
       "dtype: int64"
      ]
     },
     "execution_count": 32,
     "metadata": {},
     "output_type": "execute_result"
    }
   ],
   "source": [
    "dclas.isnull().sum()"
   ]
  },
  {
   "cell_type": "code",
   "execution_count": 33,
   "id": "7762cf9b",
   "metadata": {},
   "outputs": [],
   "source": [
    "x1 = dclas.iloc[:,1:].values\n",
    "y1 = dclas.iloc[:,0].values"
   ]
  },
  {
   "cell_type": "code",
   "execution_count": 34,
   "id": "4314d38d",
   "metadata": {
    "scrolled": true
   },
   "outputs": [
    {
     "data": {
      "text/plain": [
       "array([[ 83.  ,  15.8 ,  46.  ,   2.  ,  60.8 ,  89.4 ,  12.8 ,   7.01],\n",
       "       [ 99.  ,  17.1 ,  44.  ,   3.  ,  58.1 ,  85.5 ,  12.9 ,   6.95],\n",
       "       [ 86.  ,  15.  ,  73.  ,   7.  ,  60.1 ,  89.5 ,   9.5 ,   6.88],\n",
       "       [ 85.  ,  15.3 ,  68.  ,   2.  ,  62.4 ,  89.7 ,  10.6 ,   6.87],\n",
       "       [ 67.  ,  14.4 ,  57.  ,   2.  ,  57.7 ,  87.7 ,  11.8 ,   6.86],\n",
       "       [ 73.  ,  13.8 ,  64.  ,   1.  ,  54.5 ,  84.8 ,  14.5 ,   6.85],\n",
       "       [ 77.  ,  15.7 ,  76.  ,   6.  ,  55.4 ,  88.3 ,  11.4 ,   6.85],\n",
       "       [ 55.  ,  13.7 ,  63.  ,   4.  ,  49.1 ,  78.6 ,  19.4 ,   6.84],\n",
       "       [ 75.  ,  14.6 ,  43.  ,   1.  ,  57.5 ,  85.5 ,  12.8 ,   6.84],\n",
       "       [ 67.  ,  12.1 , 100.  ,   0.  ,  51.8 ,  83.1 ,  14.4 ,   6.84],\n",
       "       [ 90.  ,  16.3 ,  66.  ,   3.  ,  53.5 ,  83.5 ,  16.8 ,   6.84],\n",
       "       [ 58.  ,  14.6 ,  49.  ,   3.  ,  58.6 ,  87.  ,  15.2 ,   6.83],\n",
       "       [ 68.  ,  16.  ,  40.  ,   0.  ,  59.  ,  85.7 ,  14.3 ,   6.82],\n",
       "       [ 74.  ,  14.7 ,  80.  ,   4.  ,  51.4 ,  84.  ,  15.2 ,   6.82],\n",
       "       [ 64.  ,  12.8 ,  67.  ,   2.  ,  52.6 ,  83.5 ,  15.8 ,   6.82],\n",
       "       [ 68.  ,  11.7 ,  53.  ,   2.  ,  51.3 ,  81.8 ,  16.4 ,   6.81],\n",
       "       [ 86.  ,  17.  ,  71.  ,   3.  ,  54.1 ,  87.  ,  11.1 ,   6.81],\n",
       "       [ 68.  ,  12.8 ,  61.  ,   0.  ,  53.2 ,  82.1 ,  16.2 ,   6.8 ],\n",
       "       [ 61.  ,  14.1 ,  56.  ,   3.  ,  51.  ,  78.  ,  16.9 ,   6.8 ],\n",
       "       [ 89.  ,  14.5 ,  59.  ,   2.  ,  52.  ,  87.  ,  11.8 ,   6.8 ],\n",
       "       [ 81.  ,  16.1 ,  60.  ,  10.  ,  53.6 ,  84.7 ,  14.3 ,   6.8 ],\n",
       "       [ 60.  ,  16.  ,  57.  ,   0.  ,  57.3 ,  83.2 ,  18.6 ,   6.78],\n",
       "       [ 62.  ,  13.7 ,  61.  ,   1.  ,  55.1 ,  80.8 ,  14.5 ,   6.77],\n",
       "       [ 62.  ,  12.3 ,  48.  ,   3.  ,  44.5 ,  77.8 ,  19.9 ,   6.77],\n",
       "       [ 47.  ,  10.5 ,  59.  ,   2.  ,  47.3 ,  81.4 ,  17.7 ,   6.73],\n",
       "       [ 53.  ,  13.  ,  58.  ,   0.  ,  57.3 ,  84.4 ,  13.1 ,   6.73],\n",
       "       [ 69.  ,  13.2 ,  80.  ,   1.  ,  52.4 ,  79.6 ,  17.9 ,   6.73],\n",
       "       [ 76.  ,  12.8 ,  74.  ,   7.  ,  54.2 ,  82.7 ,  16.5 ,   6.73],\n",
       "       [ 68.  ,  14.3 ,  84.  ,   3.  ,  51.5 ,  84.5 ,  12.1 ,   6.71],\n",
       "       [ 53.  ,  12.1 ,  75.  ,   2.  ,  58.7 ,  86.2 ,  16.6 ,   6.7 ],\n",
       "       [ 64.  ,  13.4 ,  61.  ,   2.  ,  51.5 ,  82.  ,  15.3 ,   6.7 ],\n",
       "       [ 55.  ,  12.1 ,  47.  ,   5.  ,  52.7 ,  85.  ,  13.5 ,   6.69],\n",
       "       [ 52.  ,  13.5 ,  80.  ,   5.  ,  56.8 ,  85.6 ,  16.9 ,   6.69],\n",
       "       [ 56.  ,  13.4 ,  63.  ,   2.  ,  51.5 ,  81.1 ,  16.3 ,   6.68],\n",
       "       [ 36.  ,  12.2 ,  53.  ,   1.  ,  49.7 ,  83.2 ,  15.3 ,   6.67],\n",
       "       [ 64.  ,  13.9 ,  74.  ,   4.  ,  58.2 ,  87.8 ,  10.9 ,   6.67],\n",
       "       [ 44.  ,  11.5 ,  82.  ,   4.  ,  46.9 ,  79.8 ,  16.1 ,   6.66],\n",
       "       [ 60.  ,  10.7 ,  65.  ,   5.  ,  54.3 ,  84.4 ,  13.  ,   6.66],\n",
       "       [ 59.  ,  11.3 ,  81.  ,   1.  ,  53.7 ,  80.8 ,  17.9 ,   6.65],\n",
       "       [ 40.  ,  12.8 ,  45.  ,   6.  ,  50.7 ,  81.3 ,  14.2 ,   6.65],\n",
       "       [ 50.  ,  11.7 ,  87.  ,   8.  ,  52.9 ,  82.  ,  16.4 ,   6.64],\n",
       "       [ 33.  ,  10.1 ,  48.  ,   0.  ,  43.5 ,  71.6 ,  23.4 ,   6.64],\n",
       "       [ 55.  ,  11.7 ,  84.  ,   7.  ,  51.1 ,  81.8 ,  17.4 ,   6.64],\n",
       "       [ 50.  ,  11.8 ,  60.  ,   4.  ,  49.4 ,  81.3 ,  18.6 ,   6.64],\n",
       "       [ 27.  ,  11.6 ,  67.  ,   3.  ,  50.  ,  81.2 ,  17.2 ,   6.63],\n",
       "       [ 54.  ,  10.  ,  94.  ,   9.  ,  52.4 ,  82.  ,  14.9 ,   6.63],\n",
       "       [ 52.  ,  11.3 ,  81.  ,   3.  ,  46.1 ,  78.5 ,  16.8 ,   6.63],\n",
       "       [ 60.  ,  12.2 ,  65.  ,   7.  ,  46.4 ,  78.8 ,  17.9 ,   6.63],\n",
       "       [ 50.  ,  10.8 ,  69.  ,   4.  ,  53.4 ,  85.6 ,  10.5 ,   6.63],\n",
       "       [ 52.  ,  12.6 ,  65.  ,   4.  ,  50.8 ,  80.7 ,  15.7 ,   6.63],\n",
       "       [ 47.  ,  11.2 ,  52.  ,   3.  ,  51.4 ,  79.3 ,  14.1 ,   6.62],\n",
       "       [ 46.  ,  10.4 ,  61.  ,   3.  ,  41.6 ,  76.  ,  17.1 ,   6.62],\n",
       "       [ 61.  ,  13.8 , 100.  ,   5.  ,  52.2 ,  83.8 ,  14.6 ,   6.62],\n",
       "       [ 47.  ,  10.8 ,  68.  ,   4.  ,  45.2 ,  77.  ,  18.1 ,   6.62],\n",
       "       [ 50.  ,  11.7 ,  55.  ,   2.  ,  45.9 ,  76.2 ,  17.6 ,   6.62],\n",
       "       [ 49.  ,  11.3 ,  56.  ,   3.  ,  46.5 ,  78.3 ,  18.3 ,   6.61],\n",
       "       [ 41.  ,   9.2 ,  54.  ,   2.  ,  42.9 ,  76.1 ,  18.3 ,   6.61],\n",
       "       [ 52.  ,  11.4 ,  63.  ,   0.  ,  47.5 ,  78.1 ,  17.5 ,   6.6 ],\n",
       "       [ 50.  ,  10.3 ,  77.  ,   5.  ,  47.9 ,  79.4 ,  16.3 ,   6.6 ],\n",
       "       [ 55.  ,   9.4 , 104.  ,   5.  ,  52.  ,  79.9 ,  16.5 ,   6.6 ],\n",
       "       [ 42.  ,   9.6 ,  75.  ,   8.  ,  46.3 ,  80.7 ,  13.4 ,   6.6 ],\n",
       "       [ 50.  ,  12.2 ,  72.  ,   4.  ,  48.  ,  80.5 ,  16.1 ,   6.59],\n",
       "       [ 43.  ,  10.6 ,  91.  ,   1.  ,  49.6 ,  76.3 ,  20.6 ,   6.59],\n",
       "       [ 42.  ,  11.6 ,  76.  ,   2.  ,  49.  ,  79.3 ,  16.4 ,   6.59],\n",
       "       [ 42.  ,  11.1 ,  74.  ,   4.  ,  50.2 ,  83.3 ,  15.4 ,   6.59],\n",
       "       [ 41.  ,  11.3 ,  63.  ,   3.  ,  49.8 ,  79.5 ,  15.8 ,   6.58],\n",
       "       [ 43.  ,  11.4 ,  73.  ,   3.  ,  45.8 ,  79.8 ,  17.2 ,   6.58],\n",
       "       [ 39.  ,  11.1 ,  61.  ,   1.  ,  42.7 ,  71.3 ,  18.3 ,   6.57],\n",
       "       [ 51.  ,  13.1 ,  78.  ,   4.  ,  50.7 ,  81.5 ,  15.1 ,   6.56],\n",
       "       [ 36.  ,   9.9 ,  65.  ,   4.  ,  44.  ,  73.6 ,  16.8 ,   6.56],\n",
       "       [ 42.  ,  10.9 ,  63.  ,   2.  ,  47.2 ,  82.5 ,  13.1 ,   6.55],\n",
       "       [ 34.  ,  10.7 ,  68.  ,   2.  ,  48.7 ,  79.8 ,  15.7 ,   6.55],\n",
       "       [ 46.  ,  10.6 ,  81.  ,   3.  ,  49.4 ,  78.5 ,  17.9 ,   6.54],\n",
       "       [ 37.  ,   9.8 ,  74.  ,   5.  ,  44.6 ,  70.2 ,  26.8 ,   6.54],\n",
       "       [ 50.  ,  11.2 ,  67.  ,   3.  ,  45.9 ,  78.8 ,  13.7 ,   6.54],\n",
       "       [ 47.  ,   9.  ,  85.  ,   2.  ,  46.1 ,  79.7 ,  13.7 ,   6.54],\n",
       "       [ 26.  ,   9.8 ,  52.  ,   1.  ,  44.1 ,  74.6 ,  22.2 ,   6.53],\n",
       "       [ 40.  ,  10.7 ,  63.  ,   2.  ,  47.1 ,  81.3 ,  13.2 ,   6.53],\n",
       "       [ 29.  ,  11.9 ,  67.  ,   3.  ,  49.2 ,  72.6 ,  24.4 ,   6.53],\n",
       "       [ 36.  ,  10.6 ,  63.  ,   3.  ,  45.2 ,  76.2 ,  18.3 ,   6.52],\n",
       "       [ 47.  ,   9.8 ,  86.  ,   5.  ,  46.8 ,  81.  ,  14.2 ,   6.52],\n",
       "       [ 40.  ,  10.3 ,  57.  ,   5.  ,  45.8 ,  77.5 ,  14.  ,   6.52],\n",
       "       [ 35.  ,   8.9 ,  51.  ,   4.  ,  41.  ,  72.2 ,  19.1 ,   6.51],\n",
       "       [ 34.  ,  10.6 ,  62.  ,   1.  ,  47.1 ,  77.3 ,  18.5 ,   6.51],\n",
       "       [ 36.  ,   9.1 ,  87.  ,   8.  ,  44.6 ,  72.9 ,  22.6 ,   6.5 ],\n",
       "       [ 46.  ,  10.1 ,  70.  ,   1.  ,  51.5 ,  80.1 ,  12.2 ,   6.5 ],\n",
       "       [ 52.  ,  10.2 ,  92.  ,   5.  ,  51.6 ,  81.1 ,  14.4 ,   6.5 ],\n",
       "       [ 28.  ,   9.5 , 117.  ,   7.  ,  44.4 ,  66.5 ,  22.8 ,   6.49],\n",
       "       [ 39.  ,  10.4 ,  91.  ,   1.  ,  48.4 ,  82.5 ,  16.9 ,   6.49],\n",
       "       [ 34.  ,   7.1 ,  95.  ,   3.  ,  48.1 ,  81.5 ,  13.2 ,   6.48],\n",
       "       [ 47.  ,   9.4 ,  96.  ,   6.  ,  43.4 ,  70.  ,  18.3 ,   6.47],\n",
       "       [ 36.  ,   8.  ,  77.  ,   3.  ,  38.5 ,  68.8 ,  18.5 ,   6.47],\n",
       "       [ 34.  ,   9.7 ,  93.  ,   4.  ,  46.2 ,  74.8 ,  17.1 ,   6.46],\n",
       "       [ 20.  ,   8.5 ,  73.  ,   3.  ,  43.  ,  76.9 ,  19.1 ,   6.46],\n",
       "       [ 45.  ,   9.5 ,  85.  ,   4.  ,  47.2 ,  80.4 ,  12.7 ,   6.43],\n",
       "       [ 40.  ,  11.  ,  90.  ,   5.  ,  44.2 ,  77.7 ,  13.4 ,   6.43],\n",
       "       [ 25.  ,   9.2 ,  75.  ,   5.  ,  46.9 ,  80.  ,  14.3 ,   6.42],\n",
       "       [ 25.  ,   8.9 ,  70.  ,   2.  ,  46.2 ,  76.5 ,  15.6 ,   6.41]])"
      ]
     },
     "execution_count": 34,
     "metadata": {},
     "output_type": "execute_result"
    }
   ],
   "source": [
    "x1"
   ]
  },
  {
   "cell_type": "code",
   "execution_count": 35,
   "id": "95ca10b0",
   "metadata": {},
   "outputs": [
    {
     "data": {
      "text/plain": [
       "array(['Premier League', 'Bundesliga', 'Ligue 1', 'LaLiga', 'LaLiga',\n",
       "       'Premier League', 'Serie A', 'Premier League', 'Bundesliga',\n",
       "       'LaLiga', 'Serie A', 'Premier League', 'Premier League', 'Serie A',\n",
       "       'Ligue 1', 'Premier League', 'Serie A', 'Premier League',\n",
       "       'Bundesliga', 'Serie A', 'Ligue 1', 'Bundesliga', 'Premier League',\n",
       "       'Premier League', 'Premier League', 'Bundesliga', 'Bundesliga',\n",
       "       'Ligue 1', 'Serie A', 'LaLiga', 'Bundesliga', 'Premier League',\n",
       "       'Ligue 1', 'Bundesliga', 'Premier League', 'Serie A', 'Ligue 1',\n",
       "       'LaLiga', 'LaLiga', 'Premier League', 'LaLiga', 'Premier League',\n",
       "       'Ligue 1', 'Ligue 1', 'Premier League', 'Ligue 1', 'Serie A',\n",
       "       'Ligue 1', 'Ligue 1', 'Bundesliga', 'Premier League',\n",
       "       'Premier League', 'Serie A', 'Ligue 1', 'Bundesliga', 'Ligue 1',\n",
       "       'Premier League', 'Bundesliga', 'LaLiga', 'LaLiga', 'Ligue 1',\n",
       "       'Serie A', 'Serie A', 'Ligue 1', 'Ligue 1', 'Bundesliga',\n",
       "       'Serie A', 'Bundesliga', 'Serie A', 'Bundesliga', 'Serie A',\n",
       "       'LaLiga', 'LaLiga', 'LaLiga', 'Ligue 1', 'Serie A', 'Bundesliga',\n",
       "       'Ligue 1', 'LaLiga', 'Bundesliga', 'Serie A', 'Ligue 1',\n",
       "       'Premier League', 'Bundesliga', 'LaLiga', 'LaLiga', 'Serie A',\n",
       "       'LaLiga', 'Serie A', 'LaLiga', 'LaLiga', 'LaLiga', 'LaLiga',\n",
       "       'Premier League', 'Serie A', 'Serie A', 'Ligue 1', 'Bundesliga'],\n",
       "      dtype=object)"
      ]
     },
     "execution_count": 35,
     "metadata": {},
     "output_type": "execute_result"
    }
   ],
   "source": [
    "y1"
   ]
  },
  {
   "cell_type": "code",
   "execution_count": 36,
   "id": "4cbd10d5",
   "metadata": {},
   "outputs": [],
   "source": [
    "x1_train, x1_test, y1_train, y1_test = train_test_split(x1, y1, test_size = 0.3, random_state = 1)"
   ]
  },
  {
   "cell_type": "code",
   "execution_count": 37,
   "id": "8085ad4c",
   "metadata": {},
   "outputs": [
    {
     "name": "stdout",
     "output_type": "stream",
     "text": [
      "x_train:  (68, 8)\n",
      "y_train:  (68,)\n",
      "x_test:  (30, 8)\n",
      "y_test:  (30,)\n"
     ]
    }
   ],
   "source": [
    "print(\"x_train: \",x1_train.shape)\n",
    "print(\"y_train: \",y1_train.shape)\n",
    "print(\"x_test: \",x1_test.shape)\n",
    "print(\"y_test: \",y1_test.shape)"
   ]
  },
  {
   "cell_type": "code",
   "execution_count": 38,
   "id": "c1e4a864",
   "metadata": {},
   "outputs": [],
   "source": [
    "# Logistic Regression\n",
    "model_lr = LogisticRegression()"
   ]
  },
  {
   "cell_type": "code",
   "execution_count": 39,
   "id": "60fc8b73",
   "metadata": {},
   "outputs": [
    {
     "name": "stderr",
     "output_type": "stream",
     "text": [
      "c:\\users\\admin\\appdata\\local\\programs\\python\\python39\\lib\\site-packages\\sklearn\\linear_model\\_logistic.py:458: ConvergenceWarning: lbfgs failed to converge (status=1):\n",
      "STOP: TOTAL NO. of ITERATIONS REACHED LIMIT.\n",
      "\n",
      "Increase the number of iterations (max_iter) or scale the data as shown in:\n",
      "    https://scikit-learn.org/stable/modules/preprocessing.html\n",
      "Please also refer to the documentation for alternative solver options:\n",
      "    https://scikit-learn.org/stable/modules/linear_model.html#logistic-regression\n",
      "  n_iter_i = _check_optimize_result(\n"
     ]
    },
    {
     "data": {
      "text/html": [
       "<style>#sk-container-id-2 {color: black;background-color: white;}#sk-container-id-2 pre{padding: 0;}#sk-container-id-2 div.sk-toggleable {background-color: white;}#sk-container-id-2 label.sk-toggleable__label {cursor: pointer;display: block;width: 100%;margin-bottom: 0;padding: 0.3em;box-sizing: border-box;text-align: center;}#sk-container-id-2 label.sk-toggleable__label-arrow:before {content: \"▸\";float: left;margin-right: 0.25em;color: #696969;}#sk-container-id-2 label.sk-toggleable__label-arrow:hover:before {color: black;}#sk-container-id-2 div.sk-estimator:hover label.sk-toggleable__label-arrow:before {color: black;}#sk-container-id-2 div.sk-toggleable__content {max-height: 0;max-width: 0;overflow: hidden;text-align: left;background-color: #f0f8ff;}#sk-container-id-2 div.sk-toggleable__content pre {margin: 0.2em;color: black;border-radius: 0.25em;background-color: #f0f8ff;}#sk-container-id-2 input.sk-toggleable__control:checked~div.sk-toggleable__content {max-height: 200px;max-width: 100%;overflow: auto;}#sk-container-id-2 input.sk-toggleable__control:checked~label.sk-toggleable__label-arrow:before {content: \"▾\";}#sk-container-id-2 div.sk-estimator input.sk-toggleable__control:checked~label.sk-toggleable__label {background-color: #d4ebff;}#sk-container-id-2 div.sk-label input.sk-toggleable__control:checked~label.sk-toggleable__label {background-color: #d4ebff;}#sk-container-id-2 input.sk-hidden--visually {border: 0;clip: rect(1px 1px 1px 1px);clip: rect(1px, 1px, 1px, 1px);height: 1px;margin: -1px;overflow: hidden;padding: 0;position: absolute;width: 1px;}#sk-container-id-2 div.sk-estimator {font-family: monospace;background-color: #f0f8ff;border: 1px dotted black;border-radius: 0.25em;box-sizing: border-box;margin-bottom: 0.5em;}#sk-container-id-2 div.sk-estimator:hover {background-color: #d4ebff;}#sk-container-id-2 div.sk-parallel-item::after {content: \"\";width: 100%;border-bottom: 1px solid gray;flex-grow: 1;}#sk-container-id-2 div.sk-label:hover label.sk-toggleable__label {background-color: #d4ebff;}#sk-container-id-2 div.sk-serial::before {content: \"\";position: absolute;border-left: 1px solid gray;box-sizing: border-box;top: 0;bottom: 0;left: 50%;z-index: 0;}#sk-container-id-2 div.sk-serial {display: flex;flex-direction: column;align-items: center;background-color: white;padding-right: 0.2em;padding-left: 0.2em;position: relative;}#sk-container-id-2 div.sk-item {position: relative;z-index: 1;}#sk-container-id-2 div.sk-parallel {display: flex;align-items: stretch;justify-content: center;background-color: white;position: relative;}#sk-container-id-2 div.sk-item::before, #sk-container-id-2 div.sk-parallel-item::before {content: \"\";position: absolute;border-left: 1px solid gray;box-sizing: border-box;top: 0;bottom: 0;left: 50%;z-index: -1;}#sk-container-id-2 div.sk-parallel-item {display: flex;flex-direction: column;z-index: 1;position: relative;background-color: white;}#sk-container-id-2 div.sk-parallel-item:first-child::after {align-self: flex-end;width: 50%;}#sk-container-id-2 div.sk-parallel-item:last-child::after {align-self: flex-start;width: 50%;}#sk-container-id-2 div.sk-parallel-item:only-child::after {width: 0;}#sk-container-id-2 div.sk-dashed-wrapped {border: 1px dashed gray;margin: 0 0.4em 0.5em 0.4em;box-sizing: border-box;padding-bottom: 0.4em;background-color: white;}#sk-container-id-2 div.sk-label label {font-family: monospace;font-weight: bold;display: inline-block;line-height: 1.2em;}#sk-container-id-2 div.sk-label-container {text-align: center;}#sk-container-id-2 div.sk-container {/* jupyter's `normalize.less` sets `[hidden] { display: none; }` but bootstrap.min.css set `[hidden] { display: none !important; }` so we also need the `!important` here to be able to override the default hidden behavior on the sphinx rendered scikit-learn.org. See: https://github.com/scikit-learn/scikit-learn/issues/21755 */display: inline-block !important;position: relative;}#sk-container-id-2 div.sk-text-repr-fallback {display: none;}</style><div id=\"sk-container-id-2\" class=\"sk-top-container\"><div class=\"sk-text-repr-fallback\"><pre>LogisticRegression()</pre><b>In a Jupyter environment, please rerun this cell to show the HTML representation or trust the notebook. <br />On GitHub, the HTML representation is unable to render, please try loading this page with nbviewer.org.</b></div><div class=\"sk-container\" hidden><div class=\"sk-item\"><div class=\"sk-estimator sk-toggleable\"><input class=\"sk-toggleable__control sk-hidden--visually\" id=\"sk-estimator-id-2\" type=\"checkbox\" checked><label for=\"sk-estimator-id-2\" class=\"sk-toggleable__label sk-toggleable__label-arrow\">LogisticRegression</label><div class=\"sk-toggleable__content\"><pre>LogisticRegression()</pre></div></div></div></div></div>"
      ],
      "text/plain": [
       "LogisticRegression()"
      ]
     },
     "execution_count": 39,
     "metadata": {},
     "output_type": "execute_result"
    }
   ],
   "source": [
    "model_lr.fit(x1_train, y1_train)"
   ]
  },
  {
   "cell_type": "code",
   "execution_count": 40,
   "id": "f9244df6",
   "metadata": {},
   "outputs": [],
   "source": [
    "y_pred_lr = model_lr.predict(x1_test)"
   ]
  },
  {
   "cell_type": "code",
   "execution_count": 41,
   "id": "2d092baf",
   "metadata": {},
   "outputs": [
    {
     "name": "stdout",
     "output_type": "stream",
     "text": [
      "Accuracy :  0.5\n"
     ]
    }
   ],
   "source": [
    "print(\"Accuracy : \", accuracy_score(y1_test, y_pred_lr))"
   ]
  },
  {
   "cell_type": "code",
   "execution_count": 42,
   "id": "e38e202e",
   "metadata": {},
   "outputs": [],
   "source": [
    "from sklearn.neighbors import KNeighborsClassifier\n",
    "model_knn = KNeighborsClassifier()"
   ]
  },
  {
   "cell_type": "code",
   "execution_count": 43,
   "id": "43796ea2",
   "metadata": {},
   "outputs": [
    {
     "data": {
      "text/html": [
       "<style>#sk-container-id-3 {color: black;background-color: white;}#sk-container-id-3 pre{padding: 0;}#sk-container-id-3 div.sk-toggleable {background-color: white;}#sk-container-id-3 label.sk-toggleable__label {cursor: pointer;display: block;width: 100%;margin-bottom: 0;padding: 0.3em;box-sizing: border-box;text-align: center;}#sk-container-id-3 label.sk-toggleable__label-arrow:before {content: \"▸\";float: left;margin-right: 0.25em;color: #696969;}#sk-container-id-3 label.sk-toggleable__label-arrow:hover:before {color: black;}#sk-container-id-3 div.sk-estimator:hover label.sk-toggleable__label-arrow:before {color: black;}#sk-container-id-3 div.sk-toggleable__content {max-height: 0;max-width: 0;overflow: hidden;text-align: left;background-color: #f0f8ff;}#sk-container-id-3 div.sk-toggleable__content pre {margin: 0.2em;color: black;border-radius: 0.25em;background-color: #f0f8ff;}#sk-container-id-3 input.sk-toggleable__control:checked~div.sk-toggleable__content {max-height: 200px;max-width: 100%;overflow: auto;}#sk-container-id-3 input.sk-toggleable__control:checked~label.sk-toggleable__label-arrow:before {content: \"▾\";}#sk-container-id-3 div.sk-estimator input.sk-toggleable__control:checked~label.sk-toggleable__label {background-color: #d4ebff;}#sk-container-id-3 div.sk-label input.sk-toggleable__control:checked~label.sk-toggleable__label {background-color: #d4ebff;}#sk-container-id-3 input.sk-hidden--visually {border: 0;clip: rect(1px 1px 1px 1px);clip: rect(1px, 1px, 1px, 1px);height: 1px;margin: -1px;overflow: hidden;padding: 0;position: absolute;width: 1px;}#sk-container-id-3 div.sk-estimator {font-family: monospace;background-color: #f0f8ff;border: 1px dotted black;border-radius: 0.25em;box-sizing: border-box;margin-bottom: 0.5em;}#sk-container-id-3 div.sk-estimator:hover {background-color: #d4ebff;}#sk-container-id-3 div.sk-parallel-item::after {content: \"\";width: 100%;border-bottom: 1px solid gray;flex-grow: 1;}#sk-container-id-3 div.sk-label:hover label.sk-toggleable__label {background-color: #d4ebff;}#sk-container-id-3 div.sk-serial::before {content: \"\";position: absolute;border-left: 1px solid gray;box-sizing: border-box;top: 0;bottom: 0;left: 50%;z-index: 0;}#sk-container-id-3 div.sk-serial {display: flex;flex-direction: column;align-items: center;background-color: white;padding-right: 0.2em;padding-left: 0.2em;position: relative;}#sk-container-id-3 div.sk-item {position: relative;z-index: 1;}#sk-container-id-3 div.sk-parallel {display: flex;align-items: stretch;justify-content: center;background-color: white;position: relative;}#sk-container-id-3 div.sk-item::before, #sk-container-id-3 div.sk-parallel-item::before {content: \"\";position: absolute;border-left: 1px solid gray;box-sizing: border-box;top: 0;bottom: 0;left: 50%;z-index: -1;}#sk-container-id-3 div.sk-parallel-item {display: flex;flex-direction: column;z-index: 1;position: relative;background-color: white;}#sk-container-id-3 div.sk-parallel-item:first-child::after {align-self: flex-end;width: 50%;}#sk-container-id-3 div.sk-parallel-item:last-child::after {align-self: flex-start;width: 50%;}#sk-container-id-3 div.sk-parallel-item:only-child::after {width: 0;}#sk-container-id-3 div.sk-dashed-wrapped {border: 1px dashed gray;margin: 0 0.4em 0.5em 0.4em;box-sizing: border-box;padding-bottom: 0.4em;background-color: white;}#sk-container-id-3 div.sk-label label {font-family: monospace;font-weight: bold;display: inline-block;line-height: 1.2em;}#sk-container-id-3 div.sk-label-container {text-align: center;}#sk-container-id-3 div.sk-container {/* jupyter's `normalize.less` sets `[hidden] { display: none; }` but bootstrap.min.css set `[hidden] { display: none !important; }` so we also need the `!important` here to be able to override the default hidden behavior on the sphinx rendered scikit-learn.org. See: https://github.com/scikit-learn/scikit-learn/issues/21755 */display: inline-block !important;position: relative;}#sk-container-id-3 div.sk-text-repr-fallback {display: none;}</style><div id=\"sk-container-id-3\" class=\"sk-top-container\"><div class=\"sk-text-repr-fallback\"><pre>KNeighborsClassifier()</pre><b>In a Jupyter environment, please rerun this cell to show the HTML representation or trust the notebook. <br />On GitHub, the HTML representation is unable to render, please try loading this page with nbviewer.org.</b></div><div class=\"sk-container\" hidden><div class=\"sk-item\"><div class=\"sk-estimator sk-toggleable\"><input class=\"sk-toggleable__control sk-hidden--visually\" id=\"sk-estimator-id-3\" type=\"checkbox\" checked><label for=\"sk-estimator-id-3\" class=\"sk-toggleable__label sk-toggleable__label-arrow\">KNeighborsClassifier</label><div class=\"sk-toggleable__content\"><pre>KNeighborsClassifier()</pre></div></div></div></div></div>"
      ],
      "text/plain": [
       "KNeighborsClassifier()"
      ]
     },
     "execution_count": 43,
     "metadata": {},
     "output_type": "execute_result"
    }
   ],
   "source": [
    "model_knn.fit(x1_train,y1_train)"
   ]
  },
  {
   "cell_type": "code",
   "execution_count": 44,
   "id": "1723689a",
   "metadata": {},
   "outputs": [],
   "source": [
    "y_pred_knn = model_knn.predict(x1_test)"
   ]
  },
  {
   "cell_type": "code",
   "execution_count": 45,
   "id": "c7ed378e",
   "metadata": {},
   "outputs": [
    {
     "name": "stdout",
     "output_type": "stream",
     "text": [
      "Accuracy :  0.4666666666666667\n"
     ]
    }
   ],
   "source": [
    "print(\"Accuracy : \", accuracy_score(y1_test, y_pred_knn))"
   ]
  },
  {
   "cell_type": "code",
   "execution_count": 46,
   "id": "ef56e04b",
   "metadata": {},
   "outputs": [],
   "source": [
    "from sklearn.tree import DecisionTreeClassifier\n",
    "model_dt = DecisionTreeClassifier()"
   ]
  },
  {
   "cell_type": "code",
   "execution_count": 47,
   "id": "6a0de541",
   "metadata": {},
   "outputs": [
    {
     "data": {
      "text/html": [
       "<style>#sk-container-id-4 {color: black;background-color: white;}#sk-container-id-4 pre{padding: 0;}#sk-container-id-4 div.sk-toggleable {background-color: white;}#sk-container-id-4 label.sk-toggleable__label {cursor: pointer;display: block;width: 100%;margin-bottom: 0;padding: 0.3em;box-sizing: border-box;text-align: center;}#sk-container-id-4 label.sk-toggleable__label-arrow:before {content: \"▸\";float: left;margin-right: 0.25em;color: #696969;}#sk-container-id-4 label.sk-toggleable__label-arrow:hover:before {color: black;}#sk-container-id-4 div.sk-estimator:hover label.sk-toggleable__label-arrow:before {color: black;}#sk-container-id-4 div.sk-toggleable__content {max-height: 0;max-width: 0;overflow: hidden;text-align: left;background-color: #f0f8ff;}#sk-container-id-4 div.sk-toggleable__content pre {margin: 0.2em;color: black;border-radius: 0.25em;background-color: #f0f8ff;}#sk-container-id-4 input.sk-toggleable__control:checked~div.sk-toggleable__content {max-height: 200px;max-width: 100%;overflow: auto;}#sk-container-id-4 input.sk-toggleable__control:checked~label.sk-toggleable__label-arrow:before {content: \"▾\";}#sk-container-id-4 div.sk-estimator input.sk-toggleable__control:checked~label.sk-toggleable__label {background-color: #d4ebff;}#sk-container-id-4 div.sk-label input.sk-toggleable__control:checked~label.sk-toggleable__label {background-color: #d4ebff;}#sk-container-id-4 input.sk-hidden--visually {border: 0;clip: rect(1px 1px 1px 1px);clip: rect(1px, 1px, 1px, 1px);height: 1px;margin: -1px;overflow: hidden;padding: 0;position: absolute;width: 1px;}#sk-container-id-4 div.sk-estimator {font-family: monospace;background-color: #f0f8ff;border: 1px dotted black;border-radius: 0.25em;box-sizing: border-box;margin-bottom: 0.5em;}#sk-container-id-4 div.sk-estimator:hover {background-color: #d4ebff;}#sk-container-id-4 div.sk-parallel-item::after {content: \"\";width: 100%;border-bottom: 1px solid gray;flex-grow: 1;}#sk-container-id-4 div.sk-label:hover label.sk-toggleable__label {background-color: #d4ebff;}#sk-container-id-4 div.sk-serial::before {content: \"\";position: absolute;border-left: 1px solid gray;box-sizing: border-box;top: 0;bottom: 0;left: 50%;z-index: 0;}#sk-container-id-4 div.sk-serial {display: flex;flex-direction: column;align-items: center;background-color: white;padding-right: 0.2em;padding-left: 0.2em;position: relative;}#sk-container-id-4 div.sk-item {position: relative;z-index: 1;}#sk-container-id-4 div.sk-parallel {display: flex;align-items: stretch;justify-content: center;background-color: white;position: relative;}#sk-container-id-4 div.sk-item::before, #sk-container-id-4 div.sk-parallel-item::before {content: \"\";position: absolute;border-left: 1px solid gray;box-sizing: border-box;top: 0;bottom: 0;left: 50%;z-index: -1;}#sk-container-id-4 div.sk-parallel-item {display: flex;flex-direction: column;z-index: 1;position: relative;background-color: white;}#sk-container-id-4 div.sk-parallel-item:first-child::after {align-self: flex-end;width: 50%;}#sk-container-id-4 div.sk-parallel-item:last-child::after {align-self: flex-start;width: 50%;}#sk-container-id-4 div.sk-parallel-item:only-child::after {width: 0;}#sk-container-id-4 div.sk-dashed-wrapped {border: 1px dashed gray;margin: 0 0.4em 0.5em 0.4em;box-sizing: border-box;padding-bottom: 0.4em;background-color: white;}#sk-container-id-4 div.sk-label label {font-family: monospace;font-weight: bold;display: inline-block;line-height: 1.2em;}#sk-container-id-4 div.sk-label-container {text-align: center;}#sk-container-id-4 div.sk-container {/* jupyter's `normalize.less` sets `[hidden] { display: none; }` but bootstrap.min.css set `[hidden] { display: none !important; }` so we also need the `!important` here to be able to override the default hidden behavior on the sphinx rendered scikit-learn.org. See: https://github.com/scikit-learn/scikit-learn/issues/21755 */display: inline-block !important;position: relative;}#sk-container-id-4 div.sk-text-repr-fallback {display: none;}</style><div id=\"sk-container-id-4\" class=\"sk-top-container\"><div class=\"sk-text-repr-fallback\"><pre>DecisionTreeClassifier()</pre><b>In a Jupyter environment, please rerun this cell to show the HTML representation or trust the notebook. <br />On GitHub, the HTML representation is unable to render, please try loading this page with nbviewer.org.</b></div><div class=\"sk-container\" hidden><div class=\"sk-item\"><div class=\"sk-estimator sk-toggleable\"><input class=\"sk-toggleable__control sk-hidden--visually\" id=\"sk-estimator-id-4\" type=\"checkbox\" checked><label for=\"sk-estimator-id-4\" class=\"sk-toggleable__label sk-toggleable__label-arrow\">DecisionTreeClassifier</label><div class=\"sk-toggleable__content\"><pre>DecisionTreeClassifier()</pre></div></div></div></div></div>"
      ],
      "text/plain": [
       "DecisionTreeClassifier()"
      ]
     },
     "execution_count": 47,
     "metadata": {},
     "output_type": "execute_result"
    }
   ],
   "source": [
    "model_dt.fit(x1_train,y1_train)"
   ]
  },
  {
   "cell_type": "code",
   "execution_count": 48,
   "id": "ed416547",
   "metadata": {},
   "outputs": [],
   "source": [
    "y_pred_dt = model_dt.predict(x1_test)"
   ]
  },
  {
   "cell_type": "code",
   "execution_count": 49,
   "id": "545c1f57",
   "metadata": {},
   "outputs": [
    {
     "name": "stdout",
     "output_type": "stream",
     "text": [
      "Accuracy :  0.4\n"
     ]
    }
   ],
   "source": [
    "print(\"Accuracy : \", accuracy_score(y1_test, y_pred_dt))"
   ]
  },
  {
   "cell_type": "code",
   "execution_count": 50,
   "id": "2df288f2",
   "metadata": {},
   "outputs": [],
   "source": [
    "from sklearn.naive_bayes import GaussianNB\n",
    "model_nb = GaussianNB()"
   ]
  },
  {
   "cell_type": "code",
   "execution_count": 51,
   "id": "974839e2",
   "metadata": {},
   "outputs": [
    {
     "data": {
      "text/html": [
       "<style>#sk-container-id-5 {color: black;background-color: white;}#sk-container-id-5 pre{padding: 0;}#sk-container-id-5 div.sk-toggleable {background-color: white;}#sk-container-id-5 label.sk-toggleable__label {cursor: pointer;display: block;width: 100%;margin-bottom: 0;padding: 0.3em;box-sizing: border-box;text-align: center;}#sk-container-id-5 label.sk-toggleable__label-arrow:before {content: \"▸\";float: left;margin-right: 0.25em;color: #696969;}#sk-container-id-5 label.sk-toggleable__label-arrow:hover:before {color: black;}#sk-container-id-5 div.sk-estimator:hover label.sk-toggleable__label-arrow:before {color: black;}#sk-container-id-5 div.sk-toggleable__content {max-height: 0;max-width: 0;overflow: hidden;text-align: left;background-color: #f0f8ff;}#sk-container-id-5 div.sk-toggleable__content pre {margin: 0.2em;color: black;border-radius: 0.25em;background-color: #f0f8ff;}#sk-container-id-5 input.sk-toggleable__control:checked~div.sk-toggleable__content {max-height: 200px;max-width: 100%;overflow: auto;}#sk-container-id-5 input.sk-toggleable__control:checked~label.sk-toggleable__label-arrow:before {content: \"▾\";}#sk-container-id-5 div.sk-estimator input.sk-toggleable__control:checked~label.sk-toggleable__label {background-color: #d4ebff;}#sk-container-id-5 div.sk-label input.sk-toggleable__control:checked~label.sk-toggleable__label {background-color: #d4ebff;}#sk-container-id-5 input.sk-hidden--visually {border: 0;clip: rect(1px 1px 1px 1px);clip: rect(1px, 1px, 1px, 1px);height: 1px;margin: -1px;overflow: hidden;padding: 0;position: absolute;width: 1px;}#sk-container-id-5 div.sk-estimator {font-family: monospace;background-color: #f0f8ff;border: 1px dotted black;border-radius: 0.25em;box-sizing: border-box;margin-bottom: 0.5em;}#sk-container-id-5 div.sk-estimator:hover {background-color: #d4ebff;}#sk-container-id-5 div.sk-parallel-item::after {content: \"\";width: 100%;border-bottom: 1px solid gray;flex-grow: 1;}#sk-container-id-5 div.sk-label:hover label.sk-toggleable__label {background-color: #d4ebff;}#sk-container-id-5 div.sk-serial::before {content: \"\";position: absolute;border-left: 1px solid gray;box-sizing: border-box;top: 0;bottom: 0;left: 50%;z-index: 0;}#sk-container-id-5 div.sk-serial {display: flex;flex-direction: column;align-items: center;background-color: white;padding-right: 0.2em;padding-left: 0.2em;position: relative;}#sk-container-id-5 div.sk-item {position: relative;z-index: 1;}#sk-container-id-5 div.sk-parallel {display: flex;align-items: stretch;justify-content: center;background-color: white;position: relative;}#sk-container-id-5 div.sk-item::before, #sk-container-id-5 div.sk-parallel-item::before {content: \"\";position: absolute;border-left: 1px solid gray;box-sizing: border-box;top: 0;bottom: 0;left: 50%;z-index: -1;}#sk-container-id-5 div.sk-parallel-item {display: flex;flex-direction: column;z-index: 1;position: relative;background-color: white;}#sk-container-id-5 div.sk-parallel-item:first-child::after {align-self: flex-end;width: 50%;}#sk-container-id-5 div.sk-parallel-item:last-child::after {align-self: flex-start;width: 50%;}#sk-container-id-5 div.sk-parallel-item:only-child::after {width: 0;}#sk-container-id-5 div.sk-dashed-wrapped {border: 1px dashed gray;margin: 0 0.4em 0.5em 0.4em;box-sizing: border-box;padding-bottom: 0.4em;background-color: white;}#sk-container-id-5 div.sk-label label {font-family: monospace;font-weight: bold;display: inline-block;line-height: 1.2em;}#sk-container-id-5 div.sk-label-container {text-align: center;}#sk-container-id-5 div.sk-container {/* jupyter's `normalize.less` sets `[hidden] { display: none; }` but bootstrap.min.css set `[hidden] { display: none !important; }` so we also need the `!important` here to be able to override the default hidden behavior on the sphinx rendered scikit-learn.org. See: https://github.com/scikit-learn/scikit-learn/issues/21755 */display: inline-block !important;position: relative;}#sk-container-id-5 div.sk-text-repr-fallback {display: none;}</style><div id=\"sk-container-id-5\" class=\"sk-top-container\"><div class=\"sk-text-repr-fallback\"><pre>GaussianNB()</pre><b>In a Jupyter environment, please rerun this cell to show the HTML representation or trust the notebook. <br />On GitHub, the HTML representation is unable to render, please try loading this page with nbviewer.org.</b></div><div class=\"sk-container\" hidden><div class=\"sk-item\"><div class=\"sk-estimator sk-toggleable\"><input class=\"sk-toggleable__control sk-hidden--visually\" id=\"sk-estimator-id-5\" type=\"checkbox\" checked><label for=\"sk-estimator-id-5\" class=\"sk-toggleable__label sk-toggleable__label-arrow\">GaussianNB</label><div class=\"sk-toggleable__content\"><pre>GaussianNB()</pre></div></div></div></div></div>"
      ],
      "text/plain": [
       "GaussianNB()"
      ]
     },
     "execution_count": 51,
     "metadata": {},
     "output_type": "execute_result"
    }
   ],
   "source": [
    "model_nb.fit(x1_train,y1_train)"
   ]
  },
  {
   "cell_type": "code",
   "execution_count": 52,
   "id": "4739095c",
   "metadata": {},
   "outputs": [],
   "source": [
    "y_pred_nb = model_nb.predict(x1_test)"
   ]
  },
  {
   "cell_type": "code",
   "execution_count": 54,
   "id": "d77a3162",
   "metadata": {},
   "outputs": [
    {
     "name": "stdout",
     "output_type": "stream",
     "text": [
      "Accuracy :  0.4\n"
     ]
    }
   ],
   "source": [
    "print(\"Accuracy : \", accuracy_score(y1_test, y_pred_nb))"
   ]
  },
  {
   "cell_type": "code",
   "execution_count": 55,
   "id": "cfaf4e71",
   "metadata": {},
   "outputs": [],
   "source": [
    "from sklearn.svm import SVC\n",
    "model_svc = SVC(gamma='auto')"
   ]
  },
  {
   "cell_type": "code",
   "execution_count": 56,
   "id": "92070f14",
   "metadata": {},
   "outputs": [
    {
     "data": {
      "text/html": [
       "<style>#sk-container-id-6 {color: black;background-color: white;}#sk-container-id-6 pre{padding: 0;}#sk-container-id-6 div.sk-toggleable {background-color: white;}#sk-container-id-6 label.sk-toggleable__label {cursor: pointer;display: block;width: 100%;margin-bottom: 0;padding: 0.3em;box-sizing: border-box;text-align: center;}#sk-container-id-6 label.sk-toggleable__label-arrow:before {content: \"▸\";float: left;margin-right: 0.25em;color: #696969;}#sk-container-id-6 label.sk-toggleable__label-arrow:hover:before {color: black;}#sk-container-id-6 div.sk-estimator:hover label.sk-toggleable__label-arrow:before {color: black;}#sk-container-id-6 div.sk-toggleable__content {max-height: 0;max-width: 0;overflow: hidden;text-align: left;background-color: #f0f8ff;}#sk-container-id-6 div.sk-toggleable__content pre {margin: 0.2em;color: black;border-radius: 0.25em;background-color: #f0f8ff;}#sk-container-id-6 input.sk-toggleable__control:checked~div.sk-toggleable__content {max-height: 200px;max-width: 100%;overflow: auto;}#sk-container-id-6 input.sk-toggleable__control:checked~label.sk-toggleable__label-arrow:before {content: \"▾\";}#sk-container-id-6 div.sk-estimator input.sk-toggleable__control:checked~label.sk-toggleable__label {background-color: #d4ebff;}#sk-container-id-6 div.sk-label input.sk-toggleable__control:checked~label.sk-toggleable__label {background-color: #d4ebff;}#sk-container-id-6 input.sk-hidden--visually {border: 0;clip: rect(1px 1px 1px 1px);clip: rect(1px, 1px, 1px, 1px);height: 1px;margin: -1px;overflow: hidden;padding: 0;position: absolute;width: 1px;}#sk-container-id-6 div.sk-estimator {font-family: monospace;background-color: #f0f8ff;border: 1px dotted black;border-radius: 0.25em;box-sizing: border-box;margin-bottom: 0.5em;}#sk-container-id-6 div.sk-estimator:hover {background-color: #d4ebff;}#sk-container-id-6 div.sk-parallel-item::after {content: \"\";width: 100%;border-bottom: 1px solid gray;flex-grow: 1;}#sk-container-id-6 div.sk-label:hover label.sk-toggleable__label {background-color: #d4ebff;}#sk-container-id-6 div.sk-serial::before {content: \"\";position: absolute;border-left: 1px solid gray;box-sizing: border-box;top: 0;bottom: 0;left: 50%;z-index: 0;}#sk-container-id-6 div.sk-serial {display: flex;flex-direction: column;align-items: center;background-color: white;padding-right: 0.2em;padding-left: 0.2em;position: relative;}#sk-container-id-6 div.sk-item {position: relative;z-index: 1;}#sk-container-id-6 div.sk-parallel {display: flex;align-items: stretch;justify-content: center;background-color: white;position: relative;}#sk-container-id-6 div.sk-item::before, #sk-container-id-6 div.sk-parallel-item::before {content: \"\";position: absolute;border-left: 1px solid gray;box-sizing: border-box;top: 0;bottom: 0;left: 50%;z-index: -1;}#sk-container-id-6 div.sk-parallel-item {display: flex;flex-direction: column;z-index: 1;position: relative;background-color: white;}#sk-container-id-6 div.sk-parallel-item:first-child::after {align-self: flex-end;width: 50%;}#sk-container-id-6 div.sk-parallel-item:last-child::after {align-self: flex-start;width: 50%;}#sk-container-id-6 div.sk-parallel-item:only-child::after {width: 0;}#sk-container-id-6 div.sk-dashed-wrapped {border: 1px dashed gray;margin: 0 0.4em 0.5em 0.4em;box-sizing: border-box;padding-bottom: 0.4em;background-color: white;}#sk-container-id-6 div.sk-label label {font-family: monospace;font-weight: bold;display: inline-block;line-height: 1.2em;}#sk-container-id-6 div.sk-label-container {text-align: center;}#sk-container-id-6 div.sk-container {/* jupyter's `normalize.less` sets `[hidden] { display: none; }` but bootstrap.min.css set `[hidden] { display: none !important; }` so we also need the `!important` here to be able to override the default hidden behavior on the sphinx rendered scikit-learn.org. See: https://github.com/scikit-learn/scikit-learn/issues/21755 */display: inline-block !important;position: relative;}#sk-container-id-6 div.sk-text-repr-fallback {display: none;}</style><div id=\"sk-container-id-6\" class=\"sk-top-container\"><div class=\"sk-text-repr-fallback\"><pre>SVC(gamma=&#x27;auto&#x27;)</pre><b>In a Jupyter environment, please rerun this cell to show the HTML representation or trust the notebook. <br />On GitHub, the HTML representation is unable to render, please try loading this page with nbviewer.org.</b></div><div class=\"sk-container\" hidden><div class=\"sk-item\"><div class=\"sk-estimator sk-toggleable\"><input class=\"sk-toggleable__control sk-hidden--visually\" id=\"sk-estimator-id-6\" type=\"checkbox\" checked><label for=\"sk-estimator-id-6\" class=\"sk-toggleable__label sk-toggleable__label-arrow\">SVC</label><div class=\"sk-toggleable__content\"><pre>SVC(gamma=&#x27;auto&#x27;)</pre></div></div></div></div></div>"
      ],
      "text/plain": [
       "SVC(gamma='auto')"
      ]
     },
     "execution_count": 56,
     "metadata": {},
     "output_type": "execute_result"
    }
   ],
   "source": [
    "model_svc.fit(x1_train,y1_train)"
   ]
  },
  {
   "cell_type": "code",
   "execution_count": 57,
   "id": "2b09fb24",
   "metadata": {},
   "outputs": [],
   "source": [
    "y_pred_svc = model_nb.predict(x1_test)"
   ]
  },
  {
   "cell_type": "code",
   "execution_count": 58,
   "id": "cdb09f7b",
   "metadata": {},
   "outputs": [
    {
     "name": "stdout",
     "output_type": "stream",
     "text": [
      "Accuracy :  0.4\n"
     ]
    }
   ],
   "source": [
    "print(\"Accuracy : \", accuracy_score(y1_test, y_pred_svc))"
   ]
  },
  {
   "cell_type": "code",
   "execution_count": 59,
   "id": "133171d9",
   "metadata": {},
   "outputs": [],
   "source": [
    "from sklearn.ensemble import RandomForestClassifier\n",
    "model_rf = RandomForestClassifier(n_estimators = 30, criterion = 'entropy', random_state = 0)"
   ]
  },
  {
   "cell_type": "code",
   "execution_count": 60,
   "id": "f07e0c1d",
   "metadata": {},
   "outputs": [
    {
     "data": {
      "text/html": [
       "<style>#sk-container-id-7 {color: black;background-color: white;}#sk-container-id-7 pre{padding: 0;}#sk-container-id-7 div.sk-toggleable {background-color: white;}#sk-container-id-7 label.sk-toggleable__label {cursor: pointer;display: block;width: 100%;margin-bottom: 0;padding: 0.3em;box-sizing: border-box;text-align: center;}#sk-container-id-7 label.sk-toggleable__label-arrow:before {content: \"▸\";float: left;margin-right: 0.25em;color: #696969;}#sk-container-id-7 label.sk-toggleable__label-arrow:hover:before {color: black;}#sk-container-id-7 div.sk-estimator:hover label.sk-toggleable__label-arrow:before {color: black;}#sk-container-id-7 div.sk-toggleable__content {max-height: 0;max-width: 0;overflow: hidden;text-align: left;background-color: #f0f8ff;}#sk-container-id-7 div.sk-toggleable__content pre {margin: 0.2em;color: black;border-radius: 0.25em;background-color: #f0f8ff;}#sk-container-id-7 input.sk-toggleable__control:checked~div.sk-toggleable__content {max-height: 200px;max-width: 100%;overflow: auto;}#sk-container-id-7 input.sk-toggleable__control:checked~label.sk-toggleable__label-arrow:before {content: \"▾\";}#sk-container-id-7 div.sk-estimator input.sk-toggleable__control:checked~label.sk-toggleable__label {background-color: #d4ebff;}#sk-container-id-7 div.sk-label input.sk-toggleable__control:checked~label.sk-toggleable__label {background-color: #d4ebff;}#sk-container-id-7 input.sk-hidden--visually {border: 0;clip: rect(1px 1px 1px 1px);clip: rect(1px, 1px, 1px, 1px);height: 1px;margin: -1px;overflow: hidden;padding: 0;position: absolute;width: 1px;}#sk-container-id-7 div.sk-estimator {font-family: monospace;background-color: #f0f8ff;border: 1px dotted black;border-radius: 0.25em;box-sizing: border-box;margin-bottom: 0.5em;}#sk-container-id-7 div.sk-estimator:hover {background-color: #d4ebff;}#sk-container-id-7 div.sk-parallel-item::after {content: \"\";width: 100%;border-bottom: 1px solid gray;flex-grow: 1;}#sk-container-id-7 div.sk-label:hover label.sk-toggleable__label {background-color: #d4ebff;}#sk-container-id-7 div.sk-serial::before {content: \"\";position: absolute;border-left: 1px solid gray;box-sizing: border-box;top: 0;bottom: 0;left: 50%;z-index: 0;}#sk-container-id-7 div.sk-serial {display: flex;flex-direction: column;align-items: center;background-color: white;padding-right: 0.2em;padding-left: 0.2em;position: relative;}#sk-container-id-7 div.sk-item {position: relative;z-index: 1;}#sk-container-id-7 div.sk-parallel {display: flex;align-items: stretch;justify-content: center;background-color: white;position: relative;}#sk-container-id-7 div.sk-item::before, #sk-container-id-7 div.sk-parallel-item::before {content: \"\";position: absolute;border-left: 1px solid gray;box-sizing: border-box;top: 0;bottom: 0;left: 50%;z-index: -1;}#sk-container-id-7 div.sk-parallel-item {display: flex;flex-direction: column;z-index: 1;position: relative;background-color: white;}#sk-container-id-7 div.sk-parallel-item:first-child::after {align-self: flex-end;width: 50%;}#sk-container-id-7 div.sk-parallel-item:last-child::after {align-self: flex-start;width: 50%;}#sk-container-id-7 div.sk-parallel-item:only-child::after {width: 0;}#sk-container-id-7 div.sk-dashed-wrapped {border: 1px dashed gray;margin: 0 0.4em 0.5em 0.4em;box-sizing: border-box;padding-bottom: 0.4em;background-color: white;}#sk-container-id-7 div.sk-label label {font-family: monospace;font-weight: bold;display: inline-block;line-height: 1.2em;}#sk-container-id-7 div.sk-label-container {text-align: center;}#sk-container-id-7 div.sk-container {/* jupyter's `normalize.less` sets `[hidden] { display: none; }` but bootstrap.min.css set `[hidden] { display: none !important; }` so we also need the `!important` here to be able to override the default hidden behavior on the sphinx rendered scikit-learn.org. See: https://github.com/scikit-learn/scikit-learn/issues/21755 */display: inline-block !important;position: relative;}#sk-container-id-7 div.sk-text-repr-fallback {display: none;}</style><div id=\"sk-container-id-7\" class=\"sk-top-container\"><div class=\"sk-text-repr-fallback\"><pre>RandomForestClassifier(criterion=&#x27;entropy&#x27;, n_estimators=30, random_state=0)</pre><b>In a Jupyter environment, please rerun this cell to show the HTML representation or trust the notebook. <br />On GitHub, the HTML representation is unable to render, please try loading this page with nbviewer.org.</b></div><div class=\"sk-container\" hidden><div class=\"sk-item\"><div class=\"sk-estimator sk-toggleable\"><input class=\"sk-toggleable__control sk-hidden--visually\" id=\"sk-estimator-id-7\" type=\"checkbox\" checked><label for=\"sk-estimator-id-7\" class=\"sk-toggleable__label sk-toggleable__label-arrow\">RandomForestClassifier</label><div class=\"sk-toggleable__content\"><pre>RandomForestClassifier(criterion=&#x27;entropy&#x27;, n_estimators=30, random_state=0)</pre></div></div></div></div></div>"
      ],
      "text/plain": [
       "RandomForestClassifier(criterion='entropy', n_estimators=30, random_state=0)"
      ]
     },
     "execution_count": 60,
     "metadata": {},
     "output_type": "execute_result"
    }
   ],
   "source": [
    "model_rf.fit(x1_train,y1_train)"
   ]
  },
  {
   "cell_type": "code",
   "execution_count": 61,
   "id": "c48d78c0",
   "metadata": {},
   "outputs": [],
   "source": [
    "y_pred_rf = model_nb.predict(x1_test)"
   ]
  },
  {
   "cell_type": "code",
   "execution_count": 62,
   "id": "4d1ceabe",
   "metadata": {},
   "outputs": [
    {
     "name": "stdout",
     "output_type": "stream",
     "text": [
      "Accuracy :  0.4\n"
     ]
    }
   ],
   "source": [
    "print(\"Accuracy : \", accuracy_score(y1_test, y_pred_svc))"
   ]
  },
  {
   "cell_type": "code",
   "execution_count": 64,
   "id": "c971567c",
   "metadata": {},
   "outputs": [
    {
     "name": "stdout",
     "output_type": "stream",
     "text": [
      "Tournament :  ['Premier League']\n"
     ]
    }
   ],
   "source": [
    "Xnew = [[100, 18, 46, 5, 54.5, 82.8, 14.7, 5.2]]\n",
    "\n",
    "ynew = model_lr.predict(Xnew)\n",
    "\n",
    "print(\"Tournament : \",ynew)"
   ]
  },
  {
   "cell_type": "code",
   "execution_count": null,
   "id": "f8cfa4c8",
   "metadata": {},
   "outputs": [],
   "source": [
    "# All classifications are under 50%"
   ]
  }
 ],
 "metadata": {
  "kernelspec": {
   "display_name": "Python 3 (ipykernel)",
   "language": "python",
   "name": "python3"
  },
  "language_info": {
   "codemirror_mode": {
    "name": "ipython",
    "version": 3
   },
   "file_extension": ".py",
   "mimetype": "text/x-python",
   "name": "python",
   "nbconvert_exporter": "python",
   "pygments_lexer": "ipython3",
   "version": "3.9.0"
  }
 },
 "nbformat": 4,
 "nbformat_minor": 5
}
