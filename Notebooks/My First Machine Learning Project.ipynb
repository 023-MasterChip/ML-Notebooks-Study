{
 "cells": [
  {
   "cell_type": "markdown",
   "id": "65922a46",
   "metadata": {},
   "source": [
    "### Python Can Be Intimidating When Getting Started\n",
    "Python is a popular and powerful interpreted language. Unlike R, Python is a complete language and platform that you can use for both research and development and developing production systems.\n",
    "\n",
    "There are also a lot of modules and libraries to choose from, providing multiple ways to do each task. It can feel overwhelming.\n",
    "\n",
    "The best way to get started using Python for machine learning is to complete a project.\n",
    "\n",
    "It will force you to install and start the Python interpreter (at the very least).\n",
    "It will give you a bird’s eye view of how to step through a small project.\n",
    "It will give you confidence, maybe to go on to your own small projects."
   ]
  },
  {
   "cell_type": "markdown",
   "id": "b3cacb9c",
   "metadata": {},
   "source": [
    "### Beginners Need A Small End-to-End Project\n",
    "Books and courses are frustrating. They give you lots of recipes and snippets, but you never get to see how they all fit together.\n",
    "\n",
    "When you are applying machine learning to your own datasets, you are working on a project.\n",
    "\n",
    "A machine learning project may not be linear, but it has a number of well known steps:\n",
    "\n",
    "    -Define Problem.\n",
    "    -Prepare Data.\n",
    "    -Evaluate Algorithms.\n",
    "    -Improve Results.\n",
    "    -Present Results.\n",
    "\n",
    "The best way to really come to terms with a new platform or tool is to work through a machine learning project end-to-end and cover the key steps. Namely, from loading data, summarizing data, evaluating algorithms and making some predictions.\n",
    "\n",
    "If you can do that, you have a template that you can use on dataset after dataset. You can fill in the gaps such as further data preparation and improving result tasks later, once you have more confidence."
   ]
  },
  {
   "cell_type": "markdown",
   "id": "8d6f9450",
   "metadata": {},
   "source": [
    "## Hello World of Machine Learning\n",
    "The best small project to start with on a new tool is the classification of iris flowers (e.g. the iris dataset).\n",
    "\n",
    "This is a good project because it is so well understood.\n",
    "\n",
    "    -Attributes are numeric so you have to figure out how to load and handle data.\n",
    "    -It is a classification problem, allowing you to practice with perhaps an easier type of supervised learning algorithm.\n",
    "    -It is a multi-class classification problem (multi-nominal) that may require some specialized handling.\n",
    "    -It only has 4 attributes and 150 rows, meaning it is small and easily fits into memory (and a screen or A4 page).\n",
    "    -All of the numeric attributes are in the same units and the same scale, not requiring any special scaling or transforms to get started.\n",
    "Let’s get started with your hello world machine learning project in Python.\n"
   ]
  },
  {
   "cell_type": "markdown",
   "id": "7e58cdb3",
   "metadata": {},
   "source": [
    "## Machine Learning in Python: Step-By-Step Tutorial\n",
    "(start here)\n",
    "In this section, we are going to work through a small machine learning project end-to-end.\n",
    "\n",
    "Here is an overview of what we are going to cover:\n",
    "\n",
    "    -Installing the Python and SciPy platform.\n",
    "    -Loading the dataset.\n",
    "    -Summarizing the dataset.\n",
    "    -Visualizing the dataset.\n",
    "    -Evaluating some algorithms.\n",
    "    -Making some predictions.\n",
    "Take your time. Work through each step."
   ]
  },
  {
   "cell_type": "markdown",
   "id": "7bdcc838",
   "metadata": {},
   "source": [
    "## 1. Downloading, Installing and Starting Python & SciPy\n",
    "Get the Python and SciPy platform installed on your system if it is not already.\n",
    "\n",
    "\n",
    "#### 1.1 Install Python\n",
    "Windows Installation\n",
    "Here are the steps to install Python on Windows machine.\n",
    "    • Open a Web browser and go to https://www.python.org/downloads/. \n",
    "    • Follow the link for the Windows installer python-XYZ.msi file where XYZ is the version you need to install.\n",
    "    •To use this installer python-XYZ.msi, the Windows system must support Microsoft Installer 2.0. Save the installer file to your local machine and then run it to find out if your machine supports MSI.\n",
    "    • Run the downloaded file. This brings up the Python install wizard, which is really easy to use. Just accept the default settings, wait until the install is finished, and you are done.\n",
    "    \n",
    "\n",
    "#### 1.2 Install pip\n",
    "PIP is a package management system used to install and manage software packages/libraries written in Python. These files are stored in a large “on-line repository” termed as Python Package Index (PyPI).\n",
    "pip uses PyPI as the default source for packages and their dependencies.\n",
    "\n",
    "To install Jupyter using pip, we need to first check if pip is updated in our system. Use the following command to update pip:\n",
    "\n",
    "python -m pip install --upgrade pip\n",
    "\n",
    "#### 1.3 Install SciPy Libraries\n",
    "This tutorial assumes Python version 2.7 or 3.6+.\n",
    "\n",
    "There are 5 key libraries that you will need to install. Below is a list of the Python SciPy libraries required for this tutorial:\n",
    "\n",
    "    -scipy\n",
    "    -numpy\n",
    "    -matplotlib\n",
    "    -pandas\n",
    "    -sklearn\n",
    "There are many ways to install these libraries. My best advice is to pick one method then be consistent in installing each library.\n",
    "\n",
    "The scipy installation page provides excellent instructions for installing the above libraries on multiple different platforms, such as Linux, mac OS X and Windows. \n",
    "https://scipy.org/install/\n",
    "\n",
    "On Mac OS X, you can use macports to install Python 3.6 and these libraries. For more information on macports, see the homepage.\n",
    "On Linux you can use your package manager, such as yum on Fedora to install RPMs.\n",
    "If you are on Windows or you are not confident, I would recommend installing the free version of Anaconda that includes everything you need.\n",
    "\n",
    "Note: This tutorial assumes you have scikit-learn version 0.20 or higher installed.\n",
    "\n",
    "\n",
    "#### 1.4 Install Jupyter Notebook\n",
    "Jupyter Notebook is an open-source web application that allows you to create and share documents that contain live code, equations, visualizations, and narrative text. Uses include data cleaning and transformation, numerical simulation, statistical modeling, data visualization, machine learning, and much more.\n",
    "\n",
    "Jupyter has support for over 40 different programming languages and Python is one of them. Python is a requirement (Python 3.3 or greater, or Python 2.7) for installing the Jupyter Notebook itself.\n",
    "\n",
    "https://docs.jupyter.org/en/latest/install/notebook-classic.html"
   ]
  },
  {
   "cell_type": "code",
   "execution_count": null,
   "id": "ec42d5d3",
   "metadata": {},
   "outputs": [],
   "source": [
    "#Check the versions of libraries\n",
    "#Python Version \n",
    "import sys\n",
    "print('Python: {}'.format(sys.version))\n",
    "# scipy\n",
    "import scipy\n",
    "print('scipy: {}'.format(scipy.__version__))\n",
    "# numpy\n",
    "import numpy\n",
    "print('numpy: {}'.format(numpy.__version__))\n",
    "# matplotlib\n",
    "import matplotlib\n",
    "print('matplotlib: {}'.format(matplotlib.__version__))\n",
    "# pandas\n",
    "import pandas\n",
    "print('pandas: {}'.format(pandas.__version__))\n",
    "# scikit-learn\n",
    "import sklearn\n",
    "print('sklearn: {}'.format(sklearn.__version__))"
   ]
  },
  {
   "cell_type": "markdown",
   "id": "9ff0e7f3",
   "metadata": {},
   "source": [
    "## 2. Machine Learning Libraries\n",
    "Machine Learning, as the name suggests, is the science of programming a computer by which they are able to learn from different kinds of data. A more general definition given by Arthur Samuel is – “Machine Learning is the field of study that gives computers the ability to learn without being explicitly programmed.” They are typically used to solve various types of life problems. \n",
    "In the older days, people used to perform Machine Learning tasks by manually coding all the algorithms and mathematical and statistical formulas. This made the processing time-consuming, tedious, and inefficient. But in the modern days, it is become very much easy and more efficient compared to the olden days with various python libraries, frameworks, and modules. Today, Python is one of the most popular programming languages for this task and it has replaced many languages in the industry, one of the reasons is its vast collection of libraries. Python libraries that are used in this Machine Learning project are: \n",
    "\n",
    "### 2.1 Numpy\n",
    "NumPy is a very popular python library for large multi-dimensional array and matrix processing, with the help of a large collection of high-level mathematical functions. It is very useful for fundamental scientific computations in Machine Learning. It is particularly useful for linear algebra, Fourier transform, and random number capabilities. High-end libraries like TensorFlow uses NumPy internally for manipulation of Tensors"
   ]
  },
  {
   "cell_type": "code",
   "execution_count": null,
   "id": "96f19935",
   "metadata": {},
   "outputs": [],
   "source": [
    "# Python program using NumPy\n",
    "# for some basic mathematical\n",
    "# operations\n",
    "\n",
    "import numpy as np\n",
    " \n",
    "# Creating two arrays of rank 2\n",
    "x = np.array([[1, 2], [3, 4]])\n",
    "y = np.array([[5, 6], [7, 8]])\n",
    " \n",
    "# Creating two arrays of rank 1\n",
    "v = np.array([9, 10])\n",
    "w = np.array([11, 12])\n",
    " \n",
    "# Inner product of vectors\n",
    "print(np.dot(v, w), \"\\n\")\n",
    " \n",
    "# Matrix and Vector product\n",
    "print(np.dot(x, v), \"\\n\")\n",
    " \n",
    "# Matrix and matrix product\n",
    "print(np.dot(x, y))"
   ]
  },
  {
   "cell_type": "code",
   "execution_count": null,
   "id": "bd9a063c",
   "metadata": {},
   "outputs": [],
   "source": [
    "#Run this cell if numpy is not installed\n",
    "\n",
    "!pip install numpy"
   ]
  },
  {
   "cell_type": "markdown",
   "id": "4f1c1b3c",
   "metadata": {},
   "source": [
    "### 2.3 Matplotlib\n",
    "Matplotlib is a very popular Python library for data visualization. Like Pandas, it is not directly related to Machine Learning. It particularly comes in handy when a programmer wants to visualize the patterns in the data. It is a 2D plotting library used for creating 2D graphs and plots. A module named pyplot makes it easy for programmers for plotting as it provides features to control line styles, font properties, formatting axes, etc. It provides various kinds of graphs and plots for data visualization, viz., histogram, error charts, bar chats, etc, "
   ]
  },
  {
   "cell_type": "code",
   "execution_count": null,
   "id": "929b2092",
   "metadata": {},
   "outputs": [],
   "source": [
    "#  Python program using Matplotlib\n",
    "# for forming a linear plot\n",
    " \n",
    "# importing the necessary packages and modules\n",
    "import matplotlib.pyplot as plt\n",
    "import numpy as np\n",
    " \n",
    "# Prepare the data\n",
    "x = np.linspace(0, 10, 10)\n",
    " \n",
    "# Plot the data\n",
    "plt.plot(x, x, '*',label ='linear')\n",
    " \n",
    "# Add a legend\n",
    "plt.legend()\n",
    " \n",
    "# Show the plot\n",
    "plt.show()"
   ]
  },
  {
   "cell_type": "code",
   "execution_count": null,
   "id": "9ad5d649",
   "metadata": {},
   "outputs": [],
   "source": [
    "#Run this cell if matlotlib is not installed\n",
    "\n",
    "!pip install matplotlib"
   ]
  },
  {
   "cell_type": "markdown",
   "id": "5d03f060",
   "metadata": {},
   "source": [
    "### 2.4 Pandas\n",
    "Pandas is a popular Python library for data analysis. It is not directly related to Machine Learning. As we know that the dataset must be prepared before training. In this case, Pandas comes handy as it was developed specifically for data extraction and preparation. It provides high-level data structures and wide variety tools for data analysis. It provides many inbuilt methods for grouping, combining and filtering data."
   ]
  },
  {
   "cell_type": "code",
   "execution_count": null,
   "id": "83f235b2",
   "metadata": {},
   "outputs": [],
   "source": [
    "# Python program using Pandas for\n",
    "# arranging a given set of data\n",
    "# into a  table\n",
    " \n",
    "# importing pandas as pd\n",
    "import pandas as pd\n",
    " \n",
    "data = {\"country\": [\"Brazil\", \"Russia\", \"India\", \"China\", \"South Africa\"],\n",
    "       \"capital\": [\"Brasilia\", \"Moscow\", \"New Delhi\", \"Beijing\", \"Pretoria\"],\n",
    "       \"area\": [8.516, 17.10, 3.286, 9.597, 1.221],\n",
    "       \"population\": [200.4, 143.5, 1252, 1357, 52.98] }\n",
    " \n",
    "data_table = pd.DataFrame(data)\n",
    "print(data_table)"
   ]
  },
  {
   "cell_type": "code",
   "execution_count": null,
   "id": "b39836b7",
   "metadata": {},
   "outputs": [],
   "source": [
    "#Run this cell if pandas is not installed\n",
    "\n",
    "!pip install pandas"
   ]
  },
  {
   "cell_type": "markdown",
   "id": "846b12ad",
   "metadata": {},
   "source": [
    "### Scikit-learn\n",
    "Scikit-learn is one of the most popular ML libraries for classical ML algorithms. It is built on top of two basic Python libraries, viz., NumPy and SciPy. Scikit-learn supports most of the supervised and unsupervised learning algorithms. Scikit-learn can also be used for data-mining and data-analysis, which makes it a great tool who is starting out with ML. "
   ]
  },
  {
   "cell_type": "code",
   "execution_count": null,
   "id": "efc66023",
   "metadata": {},
   "outputs": [],
   "source": [
    "# Python script using Scikit-learn\n",
    "# for Decision Tree Classifier\n",
    "\n",
    "# Sample Decision Tree Classifier\n",
    "from sklearn import datasets\n",
    "from sklearn import metrics\n",
    "from sklearn.tree import DecisionTreeClassifier\n",
    " \n",
    "# load the iris datasets\n",
    "dataset = datasets.load_iris()\n",
    " \n",
    "# fit a CART model to the data\n",
    "model = DecisionTreeClassifier()\n",
    "model.fit(dataset.data, dataset.target)\n",
    "print(model)\n",
    " \n",
    "# make predictions\n",
    "expected = dataset.target\n",
    "predicted = model.predict(dataset.data)\n",
    " \n",
    "# summarize the fit of the model\n",
    "print(metrics.classification_report(expected, predicted))\n",
    "print(metrics.confusion_matrix(expected, predicted))"
   ]
  },
  {
   "cell_type": "code",
   "execution_count": null,
   "id": "e04239c1",
   "metadata": {},
   "outputs": [],
   "source": [
    "#Run this cell if sklearn is not installed\n",
    "\n",
    "!pip install scikit-learn"
   ]
  },
  {
   "cell_type": "markdown",
   "id": "da6aa51f",
   "metadata": {},
   "source": [
    "# YOUR FIRST MACHINE LEARNING PROJECT\n",
    "\n",
    "## 3. Load The Data\n",
    "We are going to use the iris flowers dataset. This dataset is famous because it is used as the “hello world” dataset in machine learning and statistics by pretty much everyone.\n",
    "\n",
    "The dataset contains 150 observations of iris flowers. There are four columns of measurements of the flowers in centimeters. The fifth column is the species of the flower observed. All observed flowers belong to one of three species.\n",
    "\n",
    "You can learn more about this dataset on Wikipedia.\n",
    "\n",
    "In this step we are going to load the iris data from CSV file URL.\n",
    "\n",
    "### 3.1 Import libraries\n",
    "First, let’s import all of the modules, functions and objects we are going to use in this tutorial."
   ]
  },
  {
   "cell_type": "markdown",
   "id": "e0187df9",
   "metadata": {},
   "source": [
    "#### Import required libraries\n",
    "from pandas import read_csv\n",
    "\n",
    "from pandas.plotting import scatter_matrix\n",
    "\n",
    "from matplotlib import pyplot\n",
    "\n",
    "from sklearn.model_selection import train_test_split\n",
    "\n",
    "from sklearn.model_selection import cross_val_score\n",
    "\n",
    "from sklearn.model_selection import StratifiedKFold\n",
    "\n",
    "from sklearn.metrics import classification_report\n",
    "\n",
    "from sklearn.metrics import confusion_matrix\n",
    "\n",
    "from sklearn.metrics import accuracy_score\n",
    "\n",
    "from sklearn.linear_model import LogisticRegression\n",
    "\n",
    "from sklearn.tree import DecisionTreeClassifier\n",
    "\n",
    "from sklearn.neighbors import KNeighborsClassifier\n",
    "\n",
    "from sklearn.discriminant_analysis import LinearDiscriminantAnalysis\n",
    "\n",
    "from sklearn.naive_bayes import GaussianNB\n",
    "\n",
    "from sklearn.svm import SVC"
   ]
  },
  {
   "cell_type": "code",
   "execution_count": null,
   "id": "1c6563c0",
   "metadata": {},
   "outputs": [],
   "source": [
    "#Type the above code snippet in this code cell and click Run.\n",
    "#from pandas................\n",
    "\n",
    "\n",
    "\n",
    "\n",
    "\n",
    "\n"
   ]
  },
  {
   "cell_type": "markdown",
   "id": "04393653",
   "metadata": {},
   "source": [
    "Everything should load without error. If you have an error, stop. You need a working SciPy environment before continuing. See the advice above about setting up your environment.\n",
    "\n",
    "### 3.2 Load Dataset\n",
    "We can load the data directly from the UCI Machine Learning repository.\n",
    "\n",
    "We are using pandas to load the data. We will also use pandas next to explore the data both with descriptive statistics and data visualization.\n",
    "\n",
    "Note that we are specifying the names of each column when loading the data. This will help later when we explore the data.\n",
    "\n"
   ]
  },
  {
   "cell_type": "code",
   "execution_count": null,
   "id": "d3a019ee",
   "metadata": {},
   "outputs": [],
   "source": [
    "#Load dataset\n",
    "url = \"https://raw.githubusercontent.com/leenaali1114/ML-Hello-World-/main/iris.csv\"\n",
    "names = ['sepal-length', 'sepal-width', 'petal-length', 'petal-width', 'class']\n",
    "dataset = read_csv(url, names=names)"
   ]
  },
  {
   "cell_type": "markdown",
   "id": "7493d53e",
   "metadata": {},
   "source": [
    "The dataset should load without incident.\n",
    "\n",
    "If you do have network problems, you can download the iris.csv file into your working directory and load it using the same method, changing URL to the local file name."
   ]
  },
  {
   "cell_type": "markdown",
   "id": "70950a15",
   "metadata": {},
   "source": [
    "## 4. Summarize the Dataset\n",
    "Now it is time to take a look at the data.\n",
    "\n",
    "In this step we are going to take a look at the data a few different ways:\n",
    "\n",
    "    1.Dimensions of the dataset.\n",
    "    2.Peek at the data itself.\n",
    "    3.Statistical summary of all attributes.\n",
    "    4.Breakdown of the data by the class variable.\n",
    "Don’t worry, each look at the data is one command. These are useful commands that you can use again and again on future projects.\n",
    "\n",
    "### 4.1 Dimensions of Dataset\n",
    "We can get a quick idea of how many instances (rows) and how many attributes (columns) the data contains with the shape property."
   ]
  },
  {
   "cell_type": "markdown",
   "id": "63e46dca",
   "metadata": {},
   "source": [
    "##### shape\n",
    "print(dataset.shape)"
   ]
  },
  {
   "cell_type": "code",
   "execution_count": null,
   "id": "c55ba01c",
   "metadata": {},
   "outputs": [],
   "source": [
    "#Type the above code snippet in this code cell and click Run.\n",
    "#print......\n",
    "\n"
   ]
  },
  {
   "cell_type": "markdown",
   "id": "080f2fa9",
   "metadata": {},
   "source": [
    "### 4.2 Peek at the Data\n",
    "It is also always a good idea to actually eyeball your data."
   ]
  },
  {
   "cell_type": "markdown",
   "id": "884b15e8",
   "metadata": {},
   "source": [
    "##### head\n",
    "print(dataset.head(20))"
   ]
  },
  {
   "cell_type": "code",
   "execution_count": null,
   "id": "f84aafe0",
   "metadata": {},
   "outputs": [],
   "source": [
    "#Type the above code snippet in this code cell and click Run.\n",
    "#print......\n",
    "\n"
   ]
  },
  {
   "cell_type": "markdown",
   "id": "e426f1f8",
   "metadata": {},
   "source": [
    "### 4.3 Statistical Summary\n",
    "Now we can take a look at a summary of each attribute.\n",
    "\n",
    "This includes the count, mean, the min and max values as well as some percentiles."
   ]
  },
  {
   "cell_type": "markdown",
   "id": "ca5aa6ed",
   "metadata": {},
   "source": [
    "##### descriptions\n",
    "print(dataset.describe())"
   ]
  },
  {
   "cell_type": "code",
   "execution_count": null,
   "id": "892f217e",
   "metadata": {},
   "outputs": [],
   "source": [
    "#Type the above code snippet in this code cell and click Run.\n",
    "#print......\n",
    "\n"
   ]
  },
  {
   "cell_type": "markdown",
   "id": "ad2cb302",
   "metadata": {},
   "source": [
    "We can see that all of the numerical values have the same scale (centimeters) and similar ranges between 0 and 8 centimeters.\n",
    "\n",
    "### 4.4 Class Distribution\n",
    "Let’s now take a look at the number of instances (rows) that belong to each class. We can view this as an absolute count."
   ]
  },
  {
   "cell_type": "markdown",
   "id": "5825a954",
   "metadata": {},
   "source": [
    "##### class distribution\n",
    "\n",
    "print(dataset.groupby('class').size())"
   ]
  },
  {
   "cell_type": "code",
   "execution_count": null,
   "id": "a743726d",
   "metadata": {},
   "outputs": [],
   "source": [
    "#Type the above code snippet in this code cell and click Run.\n",
    "#print......\n",
    "\n",
    "\n"
   ]
  },
  {
   "cell_type": "markdown",
   "id": "948ec9c7",
   "metadata": {},
   "source": [
    "We can see that each class has the same number of instances (50 or 33% of the dataset).\n",
    "\n",
    "## 5. Data Visualization\n",
    "We now have a basic idea about the data. We need to extend that with some visualizations.\n",
    "\n",
    "We are going to look at two types of plots:\n",
    "\n",
    "    -Univariate plots to better understand each attribute.\n",
    "    -Multivariate plots to better understand the relationships between attributes.\n",
    "\n",
    "\n",
    "### 5.1 Univariate Plots\n",
    "We start with some univariate plots, that is, plots of each individual variable.\n",
    "\n",
    "Given that the input variables are numeric, we can create box and whisker plots of each."
   ]
  },
  {
   "cell_type": "markdown",
   "id": "2acdcdac",
   "metadata": {},
   "source": [
    "##### box and whisker plots\n",
    "\n",
    "dataset.plot(kind='box', subplots=True, layout=(2,2), sharex=False, sharey=False)\n",
    "\n",
    "pyplot.show()"
   ]
  },
  {
   "cell_type": "code",
   "execution_count": null,
   "id": "14f29402",
   "metadata": {},
   "outputs": [],
   "source": [
    "#Type the above code snippet in this code cell and click Run.\n",
    "#dataset......\n",
    "\n",
    "\n"
   ]
  },
  {
   "cell_type": "markdown",
   "id": "8801492d",
   "metadata": {},
   "source": [
    "This gives us a much clearer idea of the distribution of the input attributes.\n",
    "\n",
    "We can also create a histogram of each input variable to get an idea of the distribution."
   ]
  },
  {
   "cell_type": "markdown",
   "id": "b2025c10",
   "metadata": {},
   "source": [
    "##### histograms\n",
    "\n",
    "dataset.hist()\n",
    "\n",
    "pyplot.show()"
   ]
  },
  {
   "cell_type": "code",
   "execution_count": null,
   "id": "6c58605c",
   "metadata": {},
   "outputs": [],
   "source": [
    "#Type the above code snippet in this code cell and click Run.\n",
    "#dataset......\n",
    "\n"
   ]
  },
  {
   "cell_type": "markdown",
   "id": "e31e7892",
   "metadata": {},
   "source": [
    "It looks like perhaps two of the input variables have a Gaussian distribution. This is useful to note as we can use algorithms that can exploit this assumption.\n",
    "\n",
    "### 5.2 Multivariate Plots\n",
    "Now we can look at the interactions between the variables.\n",
    "\n",
    "First, let’s look at scatterplots of all pairs of attributes. This can be helpful to spot structured relationships between input variables."
   ]
  },
  {
   "cell_type": "markdown",
   "id": "17fc72ef",
   "metadata": {},
   "source": [
    "##### scatter plot matrix\n",
    "\n",
    "scatter_matrix(dataset)\n",
    "\n",
    "pyplot.show()"
   ]
  },
  {
   "cell_type": "code",
   "execution_count": null,
   "id": "7efa6d03",
   "metadata": {},
   "outputs": [],
   "source": [
    "#Type the above code snippet in this code cell and click Run.\n",
    "#scatter......\n",
    "\n"
   ]
  },
  {
   "cell_type": "code",
   "execution_count": null,
   "id": "d364e671",
   "metadata": {},
   "outputs": [],
   "source": [
    "#Run this cell to install seaborn library\n",
    "\n",
    "!pip install seaborn"
   ]
  },
  {
   "cell_type": "markdown",
   "id": "4ff307f6",
   "metadata": {},
   "source": [
    "##### To visualize the whole dataset we used the seaborn pair plot method. It plots the whole dataset’s information.\n",
    "\n",
    "import seaborn as sns\n",
    "\n",
    "sns.pairplot(dataset, hue='class', size=1.5)"
   ]
  },
  {
   "cell_type": "code",
   "execution_count": null,
   "id": "31882455",
   "metadata": {},
   "outputs": [],
   "source": [
    "#Type the above code snippet in this code cell and click Run.\n",
    "#import......\n",
    "\n",
    "\n",
    "\n"
   ]
  },
  {
   "cell_type": "markdown",
   "id": "9daf59e0",
   "metadata": {},
   "source": [
    "Note the diagonal grouping of some pairs of attributes. This suggests a high correlation and a predictable relationship.\n",
    "\n",
    "## 6. Evaluate Some Algorithms\n",
    "Now it is time to create some models of the data and estimate their accuracy on unseen data.\n",
    "\n",
    "Here is what we are going to cover in this step:\n",
    "\n",
    "    1.Separate out a validation dataset.\n",
    "    2.Set-up the test harness to use 10-fold cross validation.\n",
    "    3.Build multiple different models to predict species from flower measurements\n",
    "    4.Select the best model.\n",
    "    \n",
    "### 6.1 Create a Validation Dataset\n",
    "We need to know that the model we created is good.\n",
    "\n",
    "Later, we will use statistical methods to estimate the accuracy of the models that we create on unseen data. We also want a more concrete estimate of the accuracy of the best model on unseen data by evaluating it on actual unseen data.\n",
    "\n",
    "That is, we are going to hold back some data that the algorithms will not get to see and we will use this data to get a second and independent idea of how accurate the best model might actually be.\n",
    "\n",
    "We will split the loaded dataset into two, 80% of which we will use to train, evaluate and select among our models, and 20% that we will hold back as a validation dataset."
   ]
  },
  {
   "cell_type": "markdown",
   "id": "a025bebf",
   "metadata": {},
   "source": [
    "##### Split-out validation dataset\n",
    "array = dataset.values\n",
    "\n",
    "X = array[:,0:4]\n",
    "\n",
    "y = array[:,4]\n",
    "\n",
    "X_train, X_validation, Y_train, Y_validation = train_test_split(X, y, test_size=0.20, random_state=1)"
   ]
  },
  {
   "cell_type": "code",
   "execution_count": null,
   "id": "7e2d8db5",
   "metadata": {},
   "outputs": [],
   "source": [
    "#Type the above code snippet in this code cell and click Run.\n",
    "#array......\n",
    "\n",
    "\n",
    "\n",
    "\n"
   ]
  },
  {
   "cell_type": "code",
   "execution_count": null,
   "id": "c1862c98",
   "metadata": {},
   "outputs": [],
   "source": [
    "print(X)"
   ]
  },
  {
   "cell_type": "code",
   "execution_count": null,
   "id": "b32c4ce7",
   "metadata": {},
   "outputs": [],
   "source": [
    "print(y)"
   ]
  },
  {
   "cell_type": "markdown",
   "id": "25e6fda2",
   "metadata": {},
   "source": [
    "You now have training data in the X_train and Y_train for preparing models and a X_validation and Y_validation sets that we can use later.\n",
    "\n",
    "### 6.2 Test Harness\n",
    "We will use stratified 10-fold cross validation to estimate model accuracy.\n",
    "\n",
    "This will split our dataset into 10 parts, train on 9 and test on 1 and repeat for all combinations of train-test splits.\n",
    "\n",
    "Stratified means that each fold or split of the dataset will aim to have the same distribution of example by class as exist in the whole training dataset.\n",
    "\n",
    "\n",
    "We set the random seed via the random_state argument to a fixed number to ensure that each algorithm is evaluated on the same splits of the training dataset.\n",
    "\n",
    "The specific random seed does not matter. We are using the metric of ‘accuracy‘ to evaluate models.\n",
    "\n",
    "This is a ratio of the number of correctly predicted instances divided by the total number of instances in the dataset multiplied by 100 to give a percentage (e.g. 95% accurate). We will be using the scoring variable when we run build and evaluate each model next.\n",
    "\n",
    "### 6.3 Build Models\n",
    "We don’t know which algorithms would be good on this problem or what configurations to use.\n",
    "\n",
    "We get an idea from the plots that some of the classes are partially linearly separable in some dimensions, so we are expecting generally good results.\n",
    "\n",
    "Let’s test 6 different algorithms:\n",
    "\n",
    "    -Logistic Regression (LR)\n",
    "    -Linear Discriminant Analysis (LDA)\n",
    "    -K-Nearest Neighbors (KNN).\n",
    "    -Classification and Regression Trees (CART).\n",
    "    -Gaussian Naive Bayes (NB).\n",
    "    -Support Vector Machines (SVM).\n",
    "This is a good mixture of simple linear (LR and LDA), nonlinear (KNN, CART, NB and SVM) algorithms.\n",
    "\n",
    "Let’s build and evaluate our models:"
   ]
  },
  {
   "cell_type": "markdown",
   "id": "52338c97",
   "metadata": {},
   "source": [
    "##### Spot Check Algorithms\n",
    "\n",
    "models = []\n",
    "\n",
    "models.append(('LR', LogisticRegression(solver='liblinear', multi_class='ovr')))\n",
    "\n",
    "models.append(('LDA', LinearDiscriminantAnalysis()))\n",
    "\n",
    "models.append(('KNN', KNeighborsClassifier()))\n",
    "\n",
    "models.append(('CART', DecisionTreeClassifier()))\n",
    "\n",
    "models.append(('NB', GaussianNB()))\n",
    "\n",
    "models.append(('SVM', SVC(gamma='auto')))\n"
   ]
  },
  {
   "cell_type": "code",
   "execution_count": null,
   "id": "5b9e0baf",
   "metadata": {},
   "outputs": [],
   "source": [
    "#Type the above code snippet in this code cell and click Run.\n",
    "#models......\n",
    "\n",
    "\n",
    "\n",
    "\n",
    "\n"
   ]
  },
  {
   "cell_type": "markdown",
   "id": "da0c50e8",
   "metadata": {},
   "source": [
    "##### evaluate each model in turn\n",
    "\n",
    "results = []\n",
    "\n",
    "names = []\n",
    "\n",
    "for name, model in models:\n",
    "\n",
    "\tkfold = StratifiedKFold(n_splits=10, random_state=1, shuffle=True)\n",
    "    \n",
    "\tcv_results = cross_val_score(model, X_train, Y_train, cv=kfold, scoring='accuracy')\n",
    "    \n",
    "\tresults.append(cv_results)\n",
    "    \n",
    "\tnames.append(name)\n",
    "    \n",
    "\tprint('%s: %f (%f)' % (name, cv_results.mean(), cv_results.std()))"
   ]
  },
  {
   "cell_type": "code",
   "execution_count": null,
   "id": "fdfa46aa",
   "metadata": {},
   "outputs": [],
   "source": [
    "#Type the above code snippet in this code cell and click Run.\n",
    "#results......\n",
    "\n",
    "\n",
    "\n",
    "\n"
   ]
  },
  {
   "cell_type": "markdown",
   "id": "4559b0e5",
   "metadata": {},
   "source": [
    "##### Stratified sampling \n",
    "It's a sampling technique where the samples are selected in the same proportion (by dividing the population into groups called ‘strata’ based on a characteristic) as they appear in the population. For example, if the population of interest has 30% male and 70% female subjects, then we divide the population into two (‘male’ and ‘female’) groups and choose 30% of the sample from the ‘male’ group and ‘70%’ of the sample from the ‘female’ group.\n",
    "\n",
    "##### Random state \n",
    "It ensures that the splits that you generate are reproducible. Scikit-learn uses random permutations to generate the splits. The random state that you provide is used as a seed to the random number generator. This ensures that the random numbers are generated in the same order."
   ]
  },
  {
   "cell_type": "markdown",
   "id": "39005d4d",
   "metadata": {},
   "source": [
    "### 6.4 Select Best Model\n",
    "We now have 6 models and accuracy estimations for each. We need to compare the models to each other and select the most accurate.\n",
    "\n",
    "##### Note: \n",
    "Your results may vary given the stochastic nature of the algorithm or evaluation procedure, or differences in numerical precision. Consider running the example a few times and compare the average outcome.\n",
    "\n",
    "#### What scores did you get?\n",
    "\n",
    "In this case, we can see that it looks like Support Vector Machines (SVM) has the largest estimated accuracy score at about 0.98 or 98%.\n",
    "\n",
    "We can also create a plot of the model evaluation results and compare the spread and the mean accuracy of each model. There is a population of accuracy measures for each algorithm because each algorithm was evaluated 10 times (via 10 fold-cross validation).\n",
    "\n",
    "A useful way to compare the samples of results for each algorithm is to create a box and whisker plot for each distribution and compare the distributions."
   ]
  },
  {
   "cell_type": "markdown",
   "id": "49d33bc1",
   "metadata": {},
   "source": [
    "##### Compare Algorithms\n",
    "\n",
    "\n",
    "pyplot.boxplot(results, labels=names)\n",
    "\n",
    "pyplot.title('Algorithm Comparison')\n",
    "\n",
    "pyplot.show()"
   ]
  },
  {
   "cell_type": "code",
   "execution_count": null,
   "id": "a54352dd",
   "metadata": {},
   "outputs": [],
   "source": [
    "#Type the above code snippet in this code cell and click Run.\n",
    "#pyplot......\n",
    "\n",
    "\n",
    "\n"
   ]
  },
  {
   "cell_type": "markdown",
   "id": "671c7682",
   "metadata": {},
   "source": [
    "We can see that the box and whisker plots are squashed at the top of the range, with many evaluations achieving 100% accuracy, and some pushing down into the high 80% accuracies.\n",
    "\n",
    "\n",
    "## 7. Make Predictions\n",
    "We must choose an algorithm to use to make predictions.\n",
    "\n",
    "The results in the previous section suggest that the SVM was perhaps the most accurate model. We will use this model as our final model.\n",
    "\n",
    "Now we want to get an idea of the accuracy of the model on our validation set.\n",
    "\n",
    "This will give us an independent final check on the accuracy of the best model. It is valuable to keep a validation set just in case you made a slip during training, such as overfitting to the training set or a data leak. Both of these issues will result in an overly optimistic result.\n",
    "\n",
    "\n",
    "### 7.1 Make Predictions\n",
    "We can fit the model on the entire training dataset and make predictions on the validation dataset."
   ]
  },
  {
   "cell_type": "code",
   "execution_count": null,
   "id": "616e9960",
   "metadata": {},
   "outputs": [],
   "source": [
    "\n",
    "# Make predictions on validation dataset\n",
    "\n",
    "model = SVC(gamma='auto')\n",
    "model.fit(X_train, Y_train)\n",
    "predictions = model.predict(X_validation)"
   ]
  },
  {
   "cell_type": "markdown",
   "id": "6afe2a28",
   "metadata": {},
   "source": [
    "##### Model fitting\n",
    "Model fitting is a measure of how well a machine learning model generalizes to similar data to that on which it was trained. A model that is well-fitted produces more accurate outcomes. A model that is overfitted matches the data too closely. A model that is underfitted doesn’t match closely enough."
   ]
  },
  {
   "cell_type": "markdown",
   "id": "34b3b710",
   "metadata": {},
   "source": [
    "#### 7.2 Evaluate Predictions\n",
    "We can evaluate the predictions by comparing them to the expected results in the validation set, then calculate classification accuracy, as well as a confusion matrix and a classification report.\n",
    "\n"
   ]
  },
  {
   "cell_type": "markdown",
   "id": "6dff9db4",
   "metadata": {},
   "source": [
    "##### Evaluate predictions\n",
    "\n",
    "print(accuracy_score(Y_validation, predictions))\n",
    "\n",
    "print(confusion_matrix(Y_validation, predictions))\n",
    "\n",
    "print(classification_report(Y_validation, predictions))"
   ]
  },
  {
   "cell_type": "code",
   "execution_count": null,
   "id": "6f7483a5",
   "metadata": {},
   "outputs": [],
   "source": [
    "#Type the above code snippet in this code cell and click Run.\n",
    "#print......\n",
    "\n",
    "\n",
    "\n",
    "\n"
   ]
  },
  {
   "cell_type": "code",
   "execution_count": null,
   "id": "26f0f8f4",
   "metadata": {},
   "outputs": [],
   "source": [
    "from sklearn.svm import SVC\n",
    "from sklearn.metrics import accuracy_score, confusion_matrix, precision_recall_fscore_support\n",
    "import pandas as pd\n",
    "import matplotlib.pyplot as plt\n",
    "\n",
    "clf = SVC(kernel = 'linear').fit(X_train,Y_train)\n",
    "clf.predict(X_train)\n",
    "y_pred = clf.predict(X_validation)\n",
    "\n",
    "# Creates a confusion matrix\n",
    "cm = confusion_matrix(Y_validation, y_pred) \n",
    "\n",
    "# Transform to df for easier plotting\n",
    "cm_df = pd.DataFrame(cm,\n",
    "                     index = ['setosa','versicolor','virginica'], \n",
    "                     columns = ['setosa','versicolor','virginica'])\n",
    "\n",
    "plt.figure(figsize=(5.5,4))\n",
    "sns.heatmap(cm_df, annot=True)\n",
    "plt.title('SVM Linear Kernel \\nAccuracy:{0:.3f}'.format(accuracy_score(Y_validation, y_pred)))\n",
    "plt.ylabel('True label')\n",
    "plt.xlabel('Predicted label')\n",
    "plt.show()"
   ]
  },
  {
   "cell_type": "markdown",
   "id": "30779904",
   "metadata": {},
   "source": [
    "The confusion matrix provides an indication of the errors made.\n",
    "\n",
    "Finally, the classification report provides a breakdown of each class by precision, recall, f1-score and support showing excellent results (granted the validation dataset was small).\n",
    "\n",
    "\n"
   ]
  },
  {
   "cell_type": "markdown",
   "id": "60bab978",
   "metadata": {},
   "source": [
    "##### Precision\n",
    "In definition it is define as the actual correct prediction divided by total prediction made by model. In simple language let our model predict that out of 10 patient 7 has heart disease and among that predicted 7 patient, only 3 has actual heart disease so in this case precision is 3/7 = 0.428\n",
    "\n",
    "##### Recall\n",
    "In a classification problem with two classes, recall is calculated as the number of true positives divided by the total number of true positives and false negatives. In a case of heart disease patient let's suppose there are 7 actual heart patient but our model predict only 5 has heart disease so in this case recall is 5/7=0.714\n",
    "\n",
    "##### Accuracy\n",
    "Accuracy represents the number of correctly classified data instances over the total number of data instances.\n",
    "\n",
    "##### F1 Score\n",
    "F1-score is a metric which takes into account both precision and recall. F1 Score becomes 1 only when precision and recall are both 1. F1 score becomes high only when both precision and recall are high. F1 score is the harmonic mean of precision and recall and is a better measure than accuracy.\n",
    "\n"
   ]
  },
  {
   "cell_type": "markdown",
   "id": "f3a511ac",
   "metadata": {},
   "source": [
    "##### Edit the values of w,x,y and z. \n",
    "    -Give w as sepal-length\n",
    "    -Give x as sepal-width\n",
    "    -Give y as petal-length\n",
    "    -Give z as petal-width\n",
    "\n",
    "\n",
    "Xnew = [[w,x,y,z]]\n",
    "\n",
    "ynew = model.predict(Xnew)\n",
    "\n",
    "print(ynew)"
   ]
  },
  {
   "cell_type": "code",
   "execution_count": null,
   "id": "fdc93074",
   "metadata": {},
   "outputs": [],
   "source": [
    "#Type the above code snippet in this code cell and click Run.\n",
    "#Xnew......\n",
    "\n",
    "\n",
    "\n",
    "\n"
   ]
  },
  {
   "cell_type": "markdown",
   "id": "635b28f5",
   "metadata": {},
   "source": [
    "## You Can Do Machine Learning in Python\n",
    "\n",
    "### You do not need to understand everything. (at least not right now) \n",
    "Your goal is to run through the tutorial end-to-end and get a result. You do not need to understand everything on the first pass. List down your questions as you go. Make heavy use of the help(“FunctionName”) help syntax in Python to learn about all of the functions that you’re using.\n",
    "\n",
    "### You do not need to know how the algorithms work. \n",
    "It is important to know about the limitations and how to configure machine learning algorithms. But learning about algorithms can come later. You need to build up this algorithm knowledge slowly over a long period of time. Today, start off by getting comfortable with the platform.\n",
    "\n",
    "### You do not need to be a Python programmer. \n",
    "The syntax of the Python language can be intuitive if you are new to it. Just like other languages, focus on function calls (e.g. function()) and assignments (e.g. a = “b”). This will get you most of the way. You are a developer, you know how to pick up the basics of a language real fast. Just get started and dive into the details later.\n",
    "\n",
    "### You do not need to be a machine learning expert. \n",
    "You can learn about the benefits and limitations of various algorithms later, and there are plenty of posts that you can read later to brush up on the steps of a machine learning project and the importance of evaluating accuracy using cross validation.\n",
    "\n",
    "### What about other steps in a machine learning project. \n",
    "We did not cover all of the steps in a machine learning project because this is your first project and we need to focus on the key steps. Namely, loading data, looking at the data, evaluating some algorithms and making some predictions. In later tutorials we can look at other data preparation and result improvement tasks."
   ]
  },
  {
   "cell_type": "code",
   "execution_count": null,
   "id": "98d22314",
   "metadata": {},
   "outputs": [],
   "source": []
  }
 ],
 "metadata": {
  "kernelspec": {
   "display_name": "Python 3 (ipykernel)",
   "language": "python",
   "name": "python3"
  },
  "language_info": {
   "codemirror_mode": {
    "name": "ipython",
    "version": 3
   },
   "file_extension": ".py",
   "mimetype": "text/x-python",
   "name": "python",
   "nbconvert_exporter": "python",
   "pygments_lexer": "ipython3",
   "version": "3.9.0"
  }
 },
 "nbformat": 4,
 "nbformat_minor": 5
}
