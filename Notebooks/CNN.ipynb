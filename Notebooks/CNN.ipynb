{
 "cells": [
  {
   "cell_type": "code",
   "execution_count": 1,
   "id": "74468592",
   "metadata": {},
   "outputs": [],
   "source": [
    "import tensorflow as tf"
   ]
  },
  {
   "cell_type": "code",
   "execution_count": 2,
   "id": "e0b74392",
   "metadata": {},
   "outputs": [],
   "source": [
    "model = tf.keras.models.Sequential()"
   ]
  },
  {
   "cell_type": "code",
   "execution_count": 3,
   "id": "ce425c12",
   "metadata": {},
   "outputs": [],
   "source": [
    "input_size = (128, 128)\n",
    "model.add(tf.keras.layers.Convolution2D(32, 3, 3, input_shape = (*input_size, 3), activation = 'relu'))"
   ]
  },
  {
   "cell_type": "code",
   "execution_count": 4,
   "id": "de091c61",
   "metadata": {},
   "outputs": [],
   "source": [
    "model.add(tf.keras.layers.MaxPooling2D(pool_size = (2, 2)))"
   ]
  },
  {
   "cell_type": "code",
   "execution_count": 5,
   "id": "f2a5d8aa",
   "metadata": {},
   "outputs": [],
   "source": [
    "model.add(tf.keras.layers.Convolution2D(32, 3, 3, activation = 'relu'))\n",
    "model.add(tf.keras.layers.MaxPooling2D(pool_size = (2, 2)))"
   ]
  },
  {
   "cell_type": "code",
   "execution_count": 6,
   "id": "dca1baa4",
   "metadata": {},
   "outputs": [],
   "source": [
    "model.add(tf.keras.layers.Flatten())"
   ]
  },
  {
   "cell_type": "code",
   "execution_count": 7,
   "id": "18637be7",
   "metadata": {},
   "outputs": [],
   "source": [
    "model.add(tf.keras.layers.Dense(units = 64, activation = 'relu'))\n",
    "model.add(tf.keras.layers.Dropout(0.5))\n",
    "model.add(tf.keras.layers.Dense(units = 1, activation = 'sigmoid'))"
   ]
  },
  {
   "cell_type": "code",
   "execution_count": 8,
   "id": "bc3eefdb",
   "metadata": {},
   "outputs": [],
   "source": [
    "model.compile(optimizer = 'adam', loss = 'binary_crossentropy', metrics = ['accuracy'])"
   ]
  },
  {
   "cell_type": "code",
   "execution_count": 9,
   "id": "6de578b8",
   "metadata": {},
   "outputs": [
    {
     "name": "stdout",
     "output_type": "stream",
     "text": [
      "Found 8000 images belonging to 2 classes.\n",
      "Found 2000 images belonging to 2 classes.\n",
      "Epoch 1/35\n",
      "250/250 [==============================] - 55s 212ms/step - loss: 0.6927 - accuracy: 0.5205 - val_loss: 0.6900 - val_accuracy: 0.5330\n",
      "Epoch 2/35\n",
      "250/250 [==============================] - 53s 212ms/step - loss: 0.6813 - accuracy: 0.5638 - val_loss: 0.6576 - val_accuracy: 0.6275\n",
      "Epoch 3/35\n",
      "250/250 [==============================] - 53s 212ms/step - loss: 0.6485 - accuracy: 0.6216 - val_loss: 0.6361 - val_accuracy: 0.6420\n",
      "Epoch 4/35\n",
      "250/250 [==============================] - 51s 204ms/step - loss: 0.6224 - accuracy: 0.6579 - val_loss: 0.5829 - val_accuracy: 0.6975\n",
      "Epoch 5/35\n",
      "250/250 [==============================] - 51s 205ms/step - loss: 0.6003 - accuracy: 0.6750 - val_loss: 0.5713 - val_accuracy: 0.7005\n",
      "Epoch 6/35\n",
      "250/250 [==============================] - 53s 213ms/step - loss: 0.5783 - accuracy: 0.6974 - val_loss: 0.6681 - val_accuracy: 0.6270\n",
      "Epoch 7/35\n",
      "250/250 [==============================] - 53s 211ms/step - loss: 0.5688 - accuracy: 0.7007 - val_loss: 0.5475 - val_accuracy: 0.7235\n",
      "Epoch 8/35\n",
      "250/250 [==============================] - 53s 211ms/step - loss: 0.5527 - accuracy: 0.7235 - val_loss: 0.5324 - val_accuracy: 0.7320\n",
      "Epoch 9/35\n",
      "250/250 [==============================] - 52s 207ms/step - loss: 0.5461 - accuracy: 0.7287 - val_loss: 0.5274 - val_accuracy: 0.7440\n",
      "Epoch 10/35\n",
      "250/250 [==============================] - 52s 209ms/step - loss: 0.5358 - accuracy: 0.7266 - val_loss: 0.5296 - val_accuracy: 0.7415\n",
      "Epoch 11/35\n",
      "250/250 [==============================] - 54s 215ms/step - loss: 0.5335 - accuracy: 0.7365 - val_loss: 0.5498 - val_accuracy: 0.7240\n",
      "Epoch 12/35\n",
      "250/250 [==============================] - 52s 207ms/step - loss: 0.5244 - accuracy: 0.7402 - val_loss: 0.5156 - val_accuracy: 0.7475\n",
      "Epoch 13/35\n",
      "250/250 [==============================] - 53s 213ms/step - loss: 0.5191 - accuracy: 0.7437 - val_loss: 0.5271 - val_accuracy: 0.7470\n",
      "Epoch 14/35\n",
      "250/250 [==============================] - 53s 210ms/step - loss: 0.5057 - accuracy: 0.7491 - val_loss: 0.5229 - val_accuracy: 0.7510\n",
      "Epoch 15/35\n",
      "250/250 [==============================] - 53s 213ms/step - loss: 0.5006 - accuracy: 0.7565 - val_loss: 0.5027 - val_accuracy: 0.7660\n",
      "Epoch 16/35\n",
      "250/250 [==============================] - 53s 212ms/step - loss: 0.5063 - accuracy: 0.7533 - val_loss: 0.5104 - val_accuracy: 0.7640\n",
      "Epoch 17/35\n",
      "250/250 [==============================] - 53s 211ms/step - loss: 0.4993 - accuracy: 0.7571 - val_loss: 0.4972 - val_accuracy: 0.7615\n",
      "Epoch 18/35\n",
      "250/250 [==============================] - 53s 210ms/step - loss: 0.4932 - accuracy: 0.7689 - val_loss: 0.4861 - val_accuracy: 0.7715\n",
      "Epoch 19/35\n",
      "250/250 [==============================] - 53s 212ms/step - loss: 0.4913 - accuracy: 0.7581 - val_loss: 0.4890 - val_accuracy: 0.7730\n",
      "Epoch 20/35\n",
      "250/250 [==============================] - 52s 207ms/step - loss: 0.4990 - accuracy: 0.7550 - val_loss: 0.4859 - val_accuracy: 0.7695\n",
      "Epoch 21/35\n",
      "250/250 [==============================] - 53s 212ms/step - loss: 0.4822 - accuracy: 0.7731 - val_loss: 0.4849 - val_accuracy: 0.7740\n",
      "Epoch 22/35\n",
      "250/250 [==============================] - 53s 212ms/step - loss: 0.4794 - accuracy: 0.7697 - val_loss: 0.4916 - val_accuracy: 0.7690\n",
      "Epoch 23/35\n",
      "250/250 [==============================] - 55s 218ms/step - loss: 0.4729 - accuracy: 0.7749 - val_loss: 0.5139 - val_accuracy: 0.7525\n",
      "Epoch 24/35\n",
      "250/250 [==============================] - 53s 212ms/step - loss: 0.4747 - accuracy: 0.7690 - val_loss: 0.5104 - val_accuracy: 0.7575\n",
      "Epoch 25/35\n",
      "250/250 [==============================] - 53s 211ms/step - loss: 0.4652 - accuracy: 0.7756 - val_loss: 0.5014 - val_accuracy: 0.7735\n",
      "Epoch 26/35\n",
      "250/250 [==============================] - 53s 212ms/step - loss: 0.4720 - accuracy: 0.7761 - val_loss: 0.4895 - val_accuracy: 0.7775\n",
      "Epoch 27/35\n",
      "250/250 [==============================] - 54s 217ms/step - loss: 0.4631 - accuracy: 0.7840 - val_loss: 0.5096 - val_accuracy: 0.7580\n",
      "Epoch 28/35\n",
      "250/250 [==============================] - 53s 212ms/step - loss: 0.4615 - accuracy: 0.7831 - val_loss: 0.4884 - val_accuracy: 0.7645\n",
      "Epoch 29/35\n",
      "250/250 [==============================] - 54s 215ms/step - loss: 0.4490 - accuracy: 0.7878 - val_loss: 0.4811 - val_accuracy: 0.7755\n",
      "Epoch 30/35\n",
      "250/250 [==============================] - 53s 214ms/step - loss: 0.4585 - accuracy: 0.7834 - val_loss: 0.4684 - val_accuracy: 0.7895\n",
      "Epoch 31/35\n",
      "250/250 [==============================] - 52s 208ms/step - loss: 0.4552 - accuracy: 0.7872 - val_loss: 0.4644 - val_accuracy: 0.7895\n",
      "Epoch 32/35\n",
      "250/250 [==============================] - 37s 149ms/step - loss: 0.4469 - accuracy: 0.7909 - val_loss: 0.4764 - val_accuracy: 0.7805\n",
      "Epoch 33/35\n",
      "250/250 [==============================] - 37s 150ms/step - loss: 0.4508 - accuracy: 0.7897 - val_loss: 0.4673 - val_accuracy: 0.7855\n",
      "Epoch 34/35\n",
      "250/250 [==============================] - 38s 153ms/step - loss: 0.4473 - accuracy: 0.7865 - val_loss: 0.4650 - val_accuracy: 0.7830\n",
      "Epoch 35/35\n",
      "250/250 [==============================] - 40s 159ms/step - loss: 0.4422 - accuracy: 0.7919 - val_loss: 0.5052 - val_accuracy: 0.7625\n"
     ]
    },
    {
     "data": {
      "text/plain": [
       "<keras.src.callbacks.History at 0x25aa30deb80>"
      ]
     },
     "execution_count": 9,
     "metadata": {},
     "output_type": "execute_result"
    }
   ],
   "source": [
    "from keras.preprocessing.image import ImageDataGenerator\n",
    "batch_size = 32\n",
    "\n",
    "train_datagen = ImageDataGenerator(rescale = 1./255,\n",
    "                                   shear_range = 0.2,\n",
    "                                   zoom_range = 0.2,\n",
    "                                   horizontal_flip = True)\n",
    "\n",
    "test_datagen = ImageDataGenerator(rescale = 1./255)\n",
    "\n",
    "training_set = train_datagen.flow_from_directory('C:/Users/Admin/Notebooks/CNN/CNN-for-image-Classification-master/dataset/training_set',\n",
    "                                                 target_size = input_size,\n",
    "                                                 batch_size = batch_size,\n",
    "                                                 class_mode = 'binary')\n",
    "\n",
    "test_set = test_datagen.flow_from_directory('C:/Users/Admin/Notebooks/CNN/CNN-for-image-Classification-master/dataset/test_set',\n",
    "                                            target_size = input_size,\n",
    "                                            batch_size = batch_size,\n",
    "                                            class_mode = 'binary')\n",
    "\n",
    "model.fit(training_set,\n",
    "          steps_per_epoch = 8000/batch_size,\n",
    "          epochs = 35,\n",
    "          validation_data = test_set,\n",
    "          validation_steps = 2000/batch_size)"
   ]
  },
  {
   "cell_type": "code",
   "execution_count": 10,
   "id": "19094016",
   "metadata": {},
   "outputs": [],
   "source": [
    "import numpy as np\n",
    "import keras.utils as image"
   ]
  },
  {
   "cell_type": "code",
   "execution_count": 11,
   "id": "8add9837",
   "metadata": {},
   "outputs": [
    {
     "name": "stdout",
     "output_type": "stream",
     "text": [
      "1/1 [==============================] - 0s 171ms/step\n"
     ]
    }
   ],
   "source": [
    "test_image = image.load_img('C:/Users/Admin/Notebooks/CNN/CNN-for-image-Classification-master/notcat.jpg', target_size= input_size)\n",
    "test_image = image.img_to_array(test_image)\n",
    "test_image = np.expand_dims(test_image, axis = 0)\n",
    "result = model.predict(test_image)"
   ]
  },
  {
   "cell_type": "code",
   "execution_count": 12,
   "id": "7abbaf56",
   "metadata": {},
   "outputs": [
    {
     "data": {
      "text/plain": [
       "{'cats': 0, 'dogs': 1}"
      ]
     },
     "execution_count": 12,
     "metadata": {},
     "output_type": "execute_result"
    }
   ],
   "source": [
    "training_set.class_indices"
   ]
  },
  {
   "cell_type": "code",
   "execution_count": 13,
   "id": "6586c81d",
   "metadata": {},
   "outputs": [],
   "source": [
    "if result [0][0] == 1:\n",
    "  prediction = 'dog'\n",
    "else:\n",
    "  prediction = 'cat'"
   ]
  },
  {
   "cell_type": "code",
   "execution_count": 14,
   "id": "43dc212d",
   "metadata": {},
   "outputs": [
    {
     "data": {
      "text/plain": [
       "'cat'"
      ]
     },
     "execution_count": 14,
     "metadata": {},
     "output_type": "execute_result"
    }
   ],
   "source": [
    "prediction"
   ]
  },
  {
   "cell_type": "code",
   "execution_count": null,
   "id": "d73d02fa",
   "metadata": {},
   "outputs": [],
   "source": []
  }
 ],
 "metadata": {
  "kernelspec": {
   "display_name": "Python 3 (ipykernel)",
   "language": "python",
   "name": "python3"
  },
  "language_info": {
   "codemirror_mode": {
    "name": "ipython",
    "version": 3
   },
   "file_extension": ".py",
   "mimetype": "text/x-python",
   "name": "python",
   "nbconvert_exporter": "python",
   "pygments_lexer": "ipython3",
   "version": "3.9.0"
  }
 },
 "nbformat": 4,
 "nbformat_minor": 5
}
