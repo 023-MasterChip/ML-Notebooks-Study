{
 "cells": [
  {
   "cell_type": "code",
   "execution_count": 1,
   "id": "a4362955",
   "metadata": {},
   "outputs": [],
   "source": [
    "from numpy import loadtxt\n",
    "from tensorflow.keras.models import Sequential\n",
    "from tensorflow.keras.layers import Dense, Dropout"
   ]
  },
  {
   "cell_type": "code",
   "execution_count": 2,
   "id": "f3d522be",
   "metadata": {},
   "outputs": [],
   "source": [
    "ds = loadtxt(\"Datasets\\water_quality.csv\",delimiter=',', skiprows=1)"
   ]
  },
  {
   "cell_type": "code",
   "execution_count": 3,
   "id": "0663dab5",
   "metadata": {},
   "outputs": [],
   "source": [
    "X = ds[:,0:9]\n",
    "y = ds[:,9]"
   ]
  },
  {
   "cell_type": "code",
   "execution_count": 4,
   "id": "f9f3b96f",
   "metadata": {},
   "outputs": [],
   "source": [
    "model = Sequential()\n",
    "model.add(Dense(64, input_shape=(9,), activation='relu'))\n",
    "model.add(Dense(32, activation='relu'))\n",
    "model.add(Dropout(0.2))\n",
    "model.add(Dense(16, activation='relu'))\n",
    "model.add(Dense(1, activation='sigmoid'))"
   ]
  },
  {
   "cell_type": "code",
   "execution_count": 5,
   "id": "b8f3ba85",
   "metadata": {},
   "outputs": [],
   "source": [
    "model.compile(loss='binary_crossentropy', optimizer='adam', metrics=['accuracy'])"
   ]
  },
  {
   "cell_type": "code",
   "execution_count": 6,
   "id": "6c7e0a69",
   "metadata": {},
   "outputs": [
    {
     "data": {
      "text/plain": [
       "<keras.src.engine.sequential.Sequential at 0x191570096d0>"
      ]
     },
     "execution_count": 6,
     "metadata": {},
     "output_type": "execute_result"
    }
   ],
   "source": [
    "model"
   ]
  },
  {
   "cell_type": "code",
   "execution_count": 11,
   "id": "b3f0ff63",
   "metadata": {},
   "outputs": [
    {
     "name": "stdout",
     "output_type": "stream",
     "text": [
      "Epoch 1/150\n",
      "328/328 [==============================] - 4s 5ms/step - loss: 161.1445 - accuracy: 0.5433\n",
      "Epoch 2/150\n",
      "328/328 [==============================] - 2s 5ms/step - loss: 4.9257 - accuracy: 0.5104\n",
      "Epoch 3/150\n",
      "328/328 [==============================] - 2s 5ms/step - loss: 1.0039 - accuracy: 0.5531\n",
      "Epoch 4/150\n",
      "328/328 [==============================] - 2s 5ms/step - loss: 0.6930 - accuracy: 0.5778\n",
      "Epoch 5/150\n",
      "328/328 [==============================] - 2s 5ms/step - loss: 0.6912 - accuracy: 0.5925\n",
      "Epoch 6/150\n",
      "328/328 [==============================] - 2s 5ms/step - loss: 0.6862 - accuracy: 0.5882\n",
      "Epoch 7/150\n",
      "328/328 [==============================] - 2s 5ms/step - loss: 0.6799 - accuracy: 0.6013\n",
      "Epoch 8/150\n",
      "328/328 [==============================] - 2s 5ms/step - loss: 0.6878 - accuracy: 0.5958\n",
      "Epoch 9/150\n",
      "328/328 [==============================] - 2s 5ms/step - loss: 0.6729 - accuracy: 0.6041\n",
      "Epoch 10/150\n",
      "328/328 [==============================] - 2s 5ms/step - loss: 0.6682 - accuracy: 0.6105\n",
      "Epoch 11/150\n",
      "328/328 [==============================] - 2s 5ms/step - loss: 0.6681 - accuracy: 0.6108\n",
      "Epoch 12/150\n",
      "328/328 [==============================] - 2s 5ms/step - loss: 0.6679 - accuracy: 0.6111\n",
      "Epoch 13/150\n",
      "328/328 [==============================] - 2s 5ms/step - loss: 0.6680 - accuracy: 0.6108\n",
      "Epoch 14/150\n",
      "328/328 [==============================] - 2s 5ms/step - loss: 0.6676 - accuracy: 0.6111\n",
      "Epoch 15/150\n",
      "328/328 [==============================] - 1s 4ms/step - loss: 0.6677 - accuracy: 0.6111\n",
      "Epoch 16/150\n",
      "328/328 [==============================] - 1s 4ms/step - loss: 0.6680 - accuracy: 0.6108\n",
      "Epoch 17/150\n",
      "328/328 [==============================] - 2s 5ms/step - loss: 0.6680 - accuracy: 0.6108\n",
      "Epoch 18/150\n",
      "328/328 [==============================] - 2s 5ms/step - loss: 0.6675 - accuracy: 0.6111\n",
      "Epoch 19/150\n",
      "328/328 [==============================] - 2s 5ms/step - loss: 0.6680 - accuracy: 0.6108\n",
      "Epoch 20/150\n",
      "328/328 [==============================] - 2s 5ms/step - loss: 0.6676 - accuracy: 0.6111\n",
      "Epoch 21/150\n",
      "328/328 [==============================] - 2s 5ms/step - loss: 0.6680 - accuracy: 0.6108\n",
      "Epoch 22/150\n",
      "328/328 [==============================] - 2s 5ms/step - loss: 0.6677 - accuracy: 0.6111\n",
      "Epoch 23/150\n",
      "328/328 [==============================] - 2s 5ms/step - loss: 0.6678 - accuracy: 0.6111\n",
      "Epoch 24/150\n",
      "328/328 [==============================] - 2s 5ms/step - loss: 0.6680 - accuracy: 0.6108\n",
      "Epoch 25/150\n",
      "328/328 [==============================] - 2s 5ms/step - loss: 0.6680 - accuracy: 0.6108\n",
      "Epoch 26/150\n",
      "328/328 [==============================] - 2s 5ms/step - loss: 0.6677 - accuracy: 0.6111\n",
      "Epoch 27/150\n",
      "328/328 [==============================] - 2s 5ms/step - loss: 0.6677 - accuracy: 0.6111\n",
      "Epoch 28/150\n",
      "328/328 [==============================] - 2s 5ms/step - loss: 0.6680 - accuracy: 0.6108\n",
      "Epoch 29/150\n",
      "328/328 [==============================] - 2s 5ms/step - loss: 0.6676 - accuracy: 0.6111\n",
      "Epoch 30/150\n",
      "328/328 [==============================] - 2s 5ms/step - loss: 0.6680 - accuracy: 0.6108\n",
      "Epoch 31/150\n",
      "328/328 [==============================] - 2s 5ms/step - loss: 0.6680 - accuracy: 0.6108\n",
      "Epoch 32/150\n",
      "328/328 [==============================] - 2s 5ms/step - loss: 0.6681 - accuracy: 0.6108\n",
      "Epoch 33/150\n",
      "328/328 [==============================] - 2s 5ms/step - loss: 0.6677 - accuracy: 0.6111\n",
      "Epoch 34/150\n",
      "328/328 [==============================] - 2s 5ms/step - loss: 0.6677 - accuracy: 0.6111\n",
      "Epoch 35/150\n",
      "328/328 [==============================] - 2s 5ms/step - loss: 0.6682 - accuracy: 0.6105\n",
      "Epoch 36/150\n",
      "328/328 [==============================] - 2s 5ms/step - loss: 0.6676 - accuracy: 0.6111\n",
      "Epoch 37/150\n",
      "328/328 [==============================] - 2s 5ms/step - loss: 0.6677 - accuracy: 0.6111\n",
      "Epoch 38/150\n",
      "328/328 [==============================] - 2s 5ms/step - loss: 0.6679 - accuracy: 0.6108\n",
      "Epoch 39/150\n",
      "328/328 [==============================] - 2s 5ms/step - loss: 0.6679 - accuracy: 0.6108\n",
      "Epoch 40/150\n",
      "328/328 [==============================] - 2s 5ms/step - loss: 0.6677 - accuracy: 0.6111\n",
      "Epoch 41/150\n",
      "328/328 [==============================] - 2s 5ms/step - loss: 0.6677 - accuracy: 0.6111\n",
      "Epoch 42/150\n",
      "328/328 [==============================] - 2s 5ms/step - loss: 0.6676 - accuracy: 0.6111\n",
      "Epoch 43/150\n",
      "328/328 [==============================] - 2s 5ms/step - loss: 0.8386 - accuracy: 0.6078\n",
      "Epoch 44/150\n",
      "328/328 [==============================] - 2s 5ms/step - loss: 0.6713 - accuracy: 0.6105\n",
      "Epoch 45/150\n",
      "328/328 [==============================] - 2s 6ms/step - loss: 0.6686 - accuracy: 0.6102\n",
      "Epoch 46/150\n",
      "328/328 [==============================] - 2s 5ms/step - loss: 0.6687 - accuracy: 0.6102\n",
      "Epoch 47/150\n",
      "328/328 [==============================] - 2s 6ms/step - loss: 0.6685 - accuracy: 0.6102\n",
      "Epoch 48/150\n",
      "328/328 [==============================] - 2s 5ms/step - loss: 0.6686 - accuracy: 0.6102\n",
      "Epoch 49/150\n",
      "328/328 [==============================] - 2s 5ms/step - loss: 0.6686 - accuracy: 0.6102\n",
      "Epoch 50/150\n",
      "328/328 [==============================] - 2s 5ms/step - loss: 0.6700 - accuracy: 0.6099\n",
      "Epoch 51/150\n",
      "328/328 [==============================] - 2s 6ms/step - loss: 0.6682 - accuracy: 0.6105\n",
      "Epoch 52/150\n",
      "328/328 [==============================] - 2s 5ms/step - loss: 0.6793 - accuracy: 0.6087\n",
      "Epoch 53/150\n",
      "328/328 [==============================] - 2s 5ms/step - loss: 0.6689 - accuracy: 0.6099\n",
      "Epoch 54/150\n",
      "328/328 [==============================] - 1s 4ms/step - loss: 0.6689 - accuracy: 0.6099\n",
      "Epoch 55/150\n",
      "328/328 [==============================] - 1s 4ms/step - loss: 0.6689 - accuracy: 0.6099\n",
      "Epoch 56/150\n",
      "328/328 [==============================] - 1s 4ms/step - loss: 0.6688 - accuracy: 0.6099\n",
      "Epoch 57/150\n",
      "328/328 [==============================] - 2s 6ms/step - loss: 0.6689 - accuracy: 0.6099\n",
      "Epoch 58/150\n",
      "328/328 [==============================] - 2s 5ms/step - loss: 0.6689 - accuracy: 0.6099\n",
      "Epoch 59/150\n",
      "328/328 [==============================] - 2s 5ms/step - loss: 0.6705 - accuracy: 0.6096\n",
      "Epoch 60/150\n",
      "328/328 [==============================] - 2s 5ms/step - loss: 0.6717 - accuracy: 0.6108\n",
      "Epoch 61/150\n",
      "328/328 [==============================] - 2s 5ms/step - loss: 0.6687 - accuracy: 0.6099\n",
      "Epoch 62/150\n",
      "328/328 [==============================] - 2s 6ms/step - loss: 0.6689 - accuracy: 0.6099\n",
      "Epoch 63/150\n",
      "328/328 [==============================] - 2s 5ms/step - loss: 0.6689 - accuracy: 0.6099\n",
      "Epoch 64/150\n",
      "328/328 [==============================] - 2s 6ms/step - loss: 0.6689 - accuracy: 0.6099\n",
      "Epoch 65/150\n",
      "328/328 [==============================] - 2s 5ms/step - loss: 0.6689 - accuracy: 0.6099\n",
      "Epoch 66/150\n",
      "328/328 [==============================] - 2s 5ms/step - loss: 0.6690 - accuracy: 0.6099\n",
      "Epoch 67/150\n",
      "328/328 [==============================] - 2s 5ms/step - loss: 0.6689 - accuracy: 0.6099\n",
      "Epoch 68/150\n",
      "328/328 [==============================] - 2s 5ms/step - loss: 0.6689 - accuracy: 0.6099\n",
      "Epoch 69/150\n",
      "328/328 [==============================] - 2s 5ms/step - loss: 0.6689 - accuracy: 0.6099\n",
      "Epoch 70/150\n",
      "328/328 [==============================] - 2s 5ms/step - loss: 0.6689 - accuracy: 0.6099\n",
      "Epoch 71/150\n",
      "328/328 [==============================] - 2s 5ms/step - loss: 0.6690 - accuracy: 0.6099\n",
      "Epoch 72/150\n",
      "328/328 [==============================] - 2s 5ms/step - loss: 0.6689 - accuracy: 0.6099\n",
      "Epoch 73/150\n",
      "328/328 [==============================] - 2s 5ms/step - loss: 0.6689 - accuracy: 0.6099\n",
      "Epoch 74/150\n",
      "328/328 [==============================] - 2s 5ms/step - loss: 0.6689 - accuracy: 0.6099\n",
      "Epoch 75/150\n",
      "328/328 [==============================] - 2s 5ms/step - loss: 0.6689 - accuracy: 0.6099\n",
      "Epoch 76/150\n",
      "328/328 [==============================] - 2s 5ms/step - loss: 0.6689 - accuracy: 0.6099\n",
      "Epoch 77/150\n",
      "328/328 [==============================] - 2s 5ms/step - loss: 0.6689 - accuracy: 0.6099\n",
      "Epoch 78/150\n",
      "328/328 [==============================] - 2s 5ms/step - loss: 0.6689 - accuracy: 0.6099\n",
      "Epoch 79/150\n",
      "328/328 [==============================] - 1s 4ms/step - loss: 0.6688 - accuracy: 0.6099\n",
      "Epoch 80/150\n",
      "328/328 [==============================] - 1s 4ms/step - loss: 0.6689 - accuracy: 0.6099\n",
      "Epoch 81/150\n"
     ]
    },
    {
     "name": "stdout",
     "output_type": "stream",
     "text": [
      "328/328 [==============================] - 2s 5ms/step - loss: 0.6689 - accuracy: 0.6099\n",
      "Epoch 82/150\n",
      "328/328 [==============================] - 2s 5ms/step - loss: 0.6689 - accuracy: 0.6099\n",
      "Epoch 83/150\n",
      "328/328 [==============================] - 2s 5ms/step - loss: 0.6688 - accuracy: 0.6099\n",
      "Epoch 84/150\n",
      "328/328 [==============================] - 2s 5ms/step - loss: 0.6689 - accuracy: 0.6099\n",
      "Epoch 85/150\n",
      "328/328 [==============================] - 1s 5ms/step - loss: 0.6689 - accuracy: 0.6099\n",
      "Epoch 86/150\n",
      "328/328 [==============================] - 1s 5ms/step - loss: 0.6689 - accuracy: 0.6099\n",
      "Epoch 87/150\n",
      "328/328 [==============================] - 2s 5ms/step - loss: 0.6688 - accuracy: 0.6099\n",
      "Epoch 88/150\n",
      "328/328 [==============================] - 2s 5ms/step - loss: 0.6689 - accuracy: 0.6099\n",
      "Epoch 89/150\n",
      "328/328 [==============================] - 2s 5ms/step - loss: 0.6688 - accuracy: 0.6099\n",
      "Epoch 90/150\n",
      "328/328 [==============================] - 2s 5ms/step - loss: 0.6689 - accuracy: 0.6099\n",
      "Epoch 91/150\n",
      "328/328 [==============================] - 2s 5ms/step - loss: 0.6687 - accuracy: 0.6099\n",
      "Epoch 92/150\n",
      "328/328 [==============================] - 2s 5ms/step - loss: 0.6691 - accuracy: 0.6099\n",
      "Epoch 93/150\n",
      "328/328 [==============================] - 2s 5ms/step - loss: 0.6689 - accuracy: 0.6099\n",
      "Epoch 94/150\n",
      "328/328 [==============================] - 2s 5ms/step - loss: 0.6689 - accuracy: 0.6099\n",
      "Epoch 95/150\n",
      "328/328 [==============================] - 2s 5ms/step - loss: 0.6689 - accuracy: 0.6099\n",
      "Epoch 96/150\n",
      "328/328 [==============================] - 2s 5ms/step - loss: 0.6688 - accuracy: 0.6099\n",
      "Epoch 97/150\n",
      "328/328 [==============================] - 2s 5ms/step - loss: 0.6688 - accuracy: 0.6099\n",
      "Epoch 98/150\n",
      "328/328 [==============================] - 2s 5ms/step - loss: 0.6688 - accuracy: 0.6099\n",
      "Epoch 99/150\n",
      "328/328 [==============================] - 2s 5ms/step - loss: 0.6688 - accuracy: 0.6099\n",
      "Epoch 100/150\n",
      "328/328 [==============================] - 2s 5ms/step - loss: 0.6687 - accuracy: 0.6099\n",
      "Epoch 101/150\n",
      "328/328 [==============================] - 2s 5ms/step - loss: 0.6689 - accuracy: 0.6099\n",
      "Epoch 102/150\n",
      "328/328 [==============================] - 2s 5ms/step - loss: 0.6689 - accuracy: 0.6099\n",
      "Epoch 103/150\n",
      "328/328 [==============================] - 2s 5ms/step - loss: 0.6688 - accuracy: 0.6099\n",
      "Epoch 104/150\n",
      "328/328 [==============================] - 2s 5ms/step - loss: 0.6690 - accuracy: 0.6099\n",
      "Epoch 105/150\n",
      "328/328 [==============================] - 2s 5ms/step - loss: 0.6690 - accuracy: 0.6099\n",
      "Epoch 106/150\n",
      "328/328 [==============================] - 2s 5ms/step - loss: 0.6689 - accuracy: 0.6099\n",
      "Epoch 107/150\n",
      "328/328 [==============================] - 2s 5ms/step - loss: 0.6689 - accuracy: 0.6099\n",
      "Epoch 108/150\n",
      "328/328 [==============================] - 2s 5ms/step - loss: 0.6688 - accuracy: 0.6099\n",
      "Epoch 109/150\n",
      "328/328 [==============================] - 2s 5ms/step - loss: 0.6688 - accuracy: 0.6099\n",
      "Epoch 110/150\n",
      "328/328 [==============================] - 1s 4ms/step - loss: 0.6688 - accuracy: 0.6099\n",
      "Epoch 111/150\n",
      "328/328 [==============================] - 1s 4ms/step - loss: 0.6695 - accuracy: 0.6096\n",
      "Epoch 112/150\n",
      "328/328 [==============================] - 2s 5ms/step - loss: 0.6750 - accuracy: 0.6099\n",
      "Epoch 113/150\n",
      "328/328 [==============================] - 2s 5ms/step - loss: 0.6691 - accuracy: 0.6099\n",
      "Epoch 114/150\n",
      "328/328 [==============================] - 2s 5ms/step - loss: 0.6688 - accuracy: 0.6099\n",
      "Epoch 115/150\n",
      "328/328 [==============================] - 2s 5ms/step - loss: 0.6688 - accuracy: 0.6099\n",
      "Epoch 116/150\n",
      "328/328 [==============================] - 2s 5ms/step - loss: 0.6690 - accuracy: 0.6099\n",
      "Epoch 117/150\n",
      "328/328 [==============================] - 2s 5ms/step - loss: 0.6687 - accuracy: 0.6099\n",
      "Epoch 118/150\n",
      "328/328 [==============================] - 2s 5ms/step - loss: 0.6688 - accuracy: 0.6099\n",
      "Epoch 119/150\n",
      "328/328 [==============================] - 2s 5ms/step - loss: 0.6690 - accuracy: 0.6099\n",
      "Epoch 120/150\n",
      "328/328 [==============================] - 1s 5ms/step - loss: 0.6689 - accuracy: 0.6099\n",
      "Epoch 121/150\n",
      "328/328 [==============================] - 2s 5ms/step - loss: 0.6688 - accuracy: 0.6099\n",
      "Epoch 122/150\n",
      "328/328 [==============================] - 1s 4ms/step - loss: 0.6688 - accuracy: 0.6099\n",
      "Epoch 123/150\n",
      "328/328 [==============================] - 1s 3ms/step - loss: 0.6690 - accuracy: 0.6099\n",
      "Epoch 124/150\n",
      "328/328 [==============================] - 2s 5ms/step - loss: 0.6687 - accuracy: 0.6099\n",
      "Epoch 125/150\n",
      "328/328 [==============================] - 2s 5ms/step - loss: 0.6689 - accuracy: 0.6099\n",
      "Epoch 126/150\n",
      "328/328 [==============================] - 2s 5ms/step - loss: 0.6688 - accuracy: 0.6099\n",
      "Epoch 127/150\n",
      "328/328 [==============================] - 2s 5ms/step - loss: 0.6688 - accuracy: 0.6099\n",
      "Epoch 128/150\n",
      "328/328 [==============================] - 2s 5ms/step - loss: 0.6689 - accuracy: 0.6099\n",
      "Epoch 129/150\n",
      "328/328 [==============================] - 1s 4ms/step - loss: 0.6689 - accuracy: 0.6099\n",
      "Epoch 130/150\n",
      "328/328 [==============================] - 1s 4ms/step - loss: 0.6688 - accuracy: 0.6099\n",
      "Epoch 131/150\n",
      "328/328 [==============================] - 1s 4ms/step - loss: 0.6689 - accuracy: 0.6099\n",
      "Epoch 132/150\n",
      "328/328 [==============================] - 1s 4ms/step - loss: 0.6688 - accuracy: 0.6099\n",
      "Epoch 133/150\n",
      "328/328 [==============================] - 2s 5ms/step - loss: 0.6690 - accuracy: 0.6099\n",
      "Epoch 134/150\n",
      "328/328 [==============================] - 2s 5ms/step - loss: 0.6687 - accuracy: 0.6099\n",
      "Epoch 135/150\n",
      "328/328 [==============================] - 1s 4ms/step - loss: 0.6689 - accuracy: 0.6099\n",
      "Epoch 136/150\n",
      "328/328 [==============================] - 2s 5ms/step - loss: 0.6688 - accuracy: 0.6099\n",
      "Epoch 137/150\n",
      "328/328 [==============================] - 2s 5ms/step - loss: 0.6688 - accuracy: 0.6099\n",
      "Epoch 138/150\n",
      "328/328 [==============================] - 2s 6ms/step - loss: 0.6689 - accuracy: 0.6099\n",
      "Epoch 139/150\n",
      "328/328 [==============================] - 2s 5ms/step - loss: 0.6689 - accuracy: 0.6099\n",
      "Epoch 140/150\n",
      "328/328 [==============================] - 1s 4ms/step - loss: 0.6688 - accuracy: 0.6099\n",
      "Epoch 141/150\n",
      "328/328 [==============================] - 1s 5ms/step - loss: 0.6688 - accuracy: 0.6099\n",
      "Epoch 142/150\n",
      "328/328 [==============================] - 2s 5ms/step - loss: 0.6690 - accuracy: 0.6099\n",
      "Epoch 143/150\n",
      "328/328 [==============================] - 2s 5ms/step - loss: 0.6688 - accuracy: 0.6099\n",
      "Epoch 144/150\n",
      "328/328 [==============================] - 2s 5ms/step - loss: 0.6688 - accuracy: 0.6099\n",
      "Epoch 145/150\n",
      "328/328 [==============================] - 2s 5ms/step - loss: 0.6690 - accuracy: 0.6099\n",
      "Epoch 146/150\n",
      "328/328 [==============================] - 2s 5ms/step - loss: 0.6688 - accuracy: 0.6099\n",
      "Epoch 147/150\n",
      "328/328 [==============================] - 1s 4ms/step - loss: 0.6690 - accuracy: 0.6099\n",
      "Epoch 148/150\n",
      "328/328 [==============================] - 2s 5ms/step - loss: 0.6690 - accuracy: 0.6099\n",
      "Epoch 149/150\n",
      "328/328 [==============================] - 2s 5ms/step - loss: 0.6690 - accuracy: 0.6099\n",
      "Epoch 150/150\n",
      "328/328 [==============================] - 2s 5ms/step - loss: 0.6688 - accuracy: 0.6099\n"
     ]
    },
    {
     "data": {
      "text/plain": [
       "<keras.src.callbacks.History at 0x19137d3a4f0>"
      ]
     },
     "execution_count": 11,
     "metadata": {},
     "output_type": "execute_result"
    }
   ],
   "source": [
    "model.fit(X, y, epochs=150, batch_size=10)"
   ]
  },
  {
   "cell_type": "code",
   "execution_count": 12,
   "id": "f52495da",
   "metadata": {},
   "outputs": [
    {
     "name": "stdout",
     "output_type": "stream",
     "text": [
      "103/103 [==============================] - 1s 4ms/step - loss: 0.6686 - accuracy: 0.6099\n",
      "Accuracy: 60.99\n"
     ]
    }
   ],
   "source": [
    "_, accuracy = model.evaluate(X, y)\n",
    "print('Accuracy: %.2f' % (accuracy*100))"
   ]
  },
  {
   "cell_type": "code",
   "execution_count": 13,
   "id": "e552c4bb",
   "metadata": {},
   "outputs": [
    {
     "name": "stdout",
     "output_type": "stream",
     "text": [
      "103/103 [==============================] - 0s 2ms/step\n"
     ]
    }
   ],
   "source": [
    "predictions = (model.predict(X) > 0.5).astype(int)"
   ]
  },
  {
   "cell_type": "code",
   "execution_count": 14,
   "id": "08cbb068",
   "metadata": {},
   "outputs": [
    {
     "name": "stdout",
     "output_type": "stream",
     "text": [
      "[0.1, 204.8904554713363, 20791.318980747023, 7.300211873184757, 368.51644134980336, 564.3086541722439, 10.3797830780847, 86.9909704615088, 2.9631353806316407] => 0 (expected 0)\n",
      "[3.71608007538699, 129.42292051494425, 18630.057857970347, 6.635245883862, 129.0, 592.8853591348523, 15.18001311635726, 56.32907628451764, 4.500656274942408] => 0 (expected 0)\n",
      "[8.099124189298397, 224.23625939355776, 19909.541732292397, 9.275883602694089, 129.0, 418.6062130644815, 16.868636929550973, 66.42009251176368, 3.0559337496641685] => 0 (expected 0)\n",
      "[8.316765884214679, 214.3733940856225, 22018.41744077529, 8.05933237743854, 356.88613564305666, 363.2665161642437, 18.436524495493305, 100.34167436508008, 4.628770536837084] => 0 (expected 0)\n",
      "[9.092223456290965, 181.10150923612525, 17978.98633892625, 6.546599974207941, 310.13573752420444, 398.4108133818447, 11.558279443446397, 31.997992727424737, 4.075075425430034] => 0 (expected 0)\n"
     ]
    }
   ],
   "source": [
    "for i in range(5):\n",
    " print('%s => %d (expected %d)' % (X[i].tolist(), predictions[i], y[i]))"
   ]
  },
  {
   "cell_type": "code",
   "execution_count": 16,
   "id": "5f806de2",
   "metadata": {},
   "outputs": [
    {
     "name": "stdout",
     "output_type": "stream",
     "text": [
      "1/1 [==============================] - 0s 118ms/step\n",
      "[[False]]\n"
     ]
    }
   ],
   "source": [
    "Xnew = [[6.62,195.86,13900.72,6.36,387.35,310.85,11.75,52.40,5.60]]\n",
    "\n",
    "ynew = model.predict(Xnew)>0.5\n",
    "\n",
    "print(ynew)"
   ]
  },
  {
   "cell_type": "code",
   "execution_count": null,
   "id": "246fab95",
   "metadata": {},
   "outputs": [],
   "source": []
  }
 ],
 "metadata": {
  "kernelspec": {
   "display_name": "Python 3 (ipykernel)",
   "language": "python",
   "name": "python3"
  },
  "language_info": {
   "codemirror_mode": {
    "name": "ipython",
    "version": 3
   },
   "file_extension": ".py",
   "mimetype": "text/x-python",
   "name": "python",
   "nbconvert_exporter": "python",
   "pygments_lexer": "ipython3",
   "version": "3.9.0"
  }
 },
 "nbformat": 4,
 "nbformat_minor": 5
}
